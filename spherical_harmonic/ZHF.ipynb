{
 "cells": [
  {
   "cell_type": "markdown",
   "metadata": {},
   "source": [
    "# Sparse Zonal Harmonic Factorization"
   ]
  },
  {
   "cell_type": "code",
   "execution_count": null,
   "metadata": {},
   "outputs": [],
   "source": [
    "import numpy as np\n",
    "import sph_harm as sh\n",
    "\n",
    "lobe_dirs = np.array([\n",
    "[0.0000, 0.0000],\n",
    "[1.5708, 1.5708], [0.0000, 0.0000], [1.5708, 0.0000], \n",
    "[1.5708, 1.5708], [0.9553,-2.3562], [3.1416, 2.3562], [0.9553, 0.7854], [2.1863, 2.3562], \n",
    "[3.1416, 2.6180], [1.5708,-2.6180], [1.5708, 1.5708], [2.0344,-3.1416], [2.0344,-1.5708], [2.0344,-0.5236], [2.0344, 1.5708],\n",
    "[1.5708, 0.7854], [1.1832, 0.0000], [1.5708,-3.1416], [1.1832, 0.7854], [3.1416, 0.0000], [1.5708, 1.5708], [1.5708, 0.3927], [2.2845,-1.5708], [0.8571,-3.1416],\n",
    "[0.0000, 0.0000], [1.5708, 1.5708], [2.1863, 1.5708], [2.1863,-2.7489], [1.5708,-2.3562], [1.5708,-2.7489], [1.5708,-0.7854], [0.6997, 1.5708], [0.6997,-2.3562], [0.9553, 1.5708], [1.5708, 0.0000],\n",
    "[1.5708, 0.7854], [1.0213,-2.6180], [2.1203,-1.5708], [1.5708,-1.5708], [3.1416, 1.5708], [1.5708, 0.5236], [2.1203, 1.5708], [1.8241, 1.5708], [0.5913,-0.3142], [1.8241,-1.5708], [2.1203,-3.1416], [1.5708, 0.3927], [2.3389,-1.5708],\n",
    "[1.5708,-0.5236], [2.0719, 2.6180], [0.6928, 1.5708], [1.5708,-1.5708], [3.1416,-0.3927], [0.6928,-1.5708], [1.7989,-3.1416], [2.0053, 1.5708], [1.8518,-3.1416], [2.0053,-1.5708], [0.6928,-2.3562], [2.2040,-1.5708], [0.8755, 0.0000], [2.2040, 1.5708], [0.6928, 2.6180],\n",
    "])\n"
   ]
  },
  {
   "cell_type": "code",
   "execution_count": null,
   "metadata": {},
   "outputs": [],
   "source": [
    "def eq_D_l(l):\n",
    "    return np.sqrt(4*np.pi/(2*l+1))\n",
    "\n",
    "def eq_Y_l(l):\n",
    "    start_idx = l**2\n",
    "    end_idx = (l+1)**2\n",
    "    dirs = lobe_dirs[start_idx : end_idx]\n",
    "\n",
    "    cnt = 2*l + 1\n",
    "    Y_l = np.zeros([cnt, cnt])\n",
    "    for row in np.arange(0, cnt):\n",
    "        w = dirs[row]\n",
    "        for column in np.arange(0, cnt):\n",
    "            m = column - l\n",
    "            Y_l[row][column] = sh.sph_harm(m, l, w[0], w[1])\n",
    "    return Y_l\n",
    "\n",
    "\n",
    "def eq_A_hat(l):\n",
    "    A_hat = np.linalg.inv(eq_Y_l(l))\n",
    "    return A_hat\n",
    "\n",
    "\n",
    "l = 1\n",
    "A_hat = eq_A_hat(l)\n",
    "print(A_hat/eq_D_l(l))"
   ]
  },
  {
   "cell_type": "code",
   "execution_count": null,
   "metadata": {},
   "outputs": [],
   "source": []
  }
 ],
 "metadata": {
  "kernelspec": {
   "display_name": "Python 3",
   "language": "python",
   "name": "python3"
  },
  "language_info": {
   "codemirror_mode": {
    "name": "ipython",
    "version": 3
   },
   "file_extension": ".py",
   "mimetype": "text/x-python",
   "name": "python",
   "nbconvert_exporter": "python",
   "pygments_lexer": "ipython3",
   "version": "3.7.3"
  }
 },
 "nbformat": 4,
 "nbformat_minor": 2
}
