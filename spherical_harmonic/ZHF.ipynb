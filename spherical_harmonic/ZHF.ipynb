{
 "cells": [
  {
   "cell_type": "markdown",
   "metadata": {},
   "source": [
    "# Sparse Zonal Harmonic Factorization"
   ]
  },
  {
   "cell_type": "code",
   "execution_count": null,
   "metadata": {},
   "outputs": [],
   "source": [
    "import numpy as np\n",
    "import sph_harm as sh\n",
    "import sh_tools\n",
    "\n",
    "lobe_dirs = np.array([\n",
    "[0.0000, 0.0000],\n",
    "[1.5708, 1.5708], [0.0000, 0.0000], [1.5708, 0.0000], \n",
    "[1.5708, 1.5708], [0.9553,-2.3562], [3.1416, 2.3562], [0.9553, 0.7854], [2.1863, 2.3562], \n",
    "[3.1416, 2.6180], [1.5708,-2.6180], [1.5708, 1.5708], [2.0344,-3.1416], [2.0344,-1.5708], [2.0344,-0.5236], [2.0344, 1.5708],\n",
    "[1.5708, 0.7854], [1.1832, 0.0000], [1.5708,-3.1416], [1.1832, 0.7854], [3.1416, 0.0000], [1.5708, 1.5708], [1.5708, 0.3927], [2.2845,-1.5708], [0.8571,-3.1416],\n",
    "[0.0000, 0.0000], [1.5708, 1.5708], [2.1863, 1.5708], [2.1863,-2.7489], [1.5708,-2.3562], [1.5708,-2.7489], [1.5708,-0.7854], [0.6997, 1.5708], [0.6997,-2.3562], [0.9553, 1.5708], [1.5708, 0.0000],\n",
    "[1.5708, 0.7854], [1.0213,-2.6180], [2.1203,-1.5708], [1.5708,-1.5708], [3.1416, 1.5708], [1.5708, 0.5236], [2.1203, 1.5708], [1.8241, 1.5708], [0.5913,-0.3142], [1.8241,-1.5708], [2.1203,-3.1416], [1.5708, 0.3927], [2.3389,-1.5708],\n",
    "[1.5708,-0.5236], [2.0719, 2.6180], [0.6928, 1.5708], [1.5708,-1.5708], [3.1416,-0.3927], [0.6928,-1.5708], [1.7989,-3.1416], [2.0053, 1.5708], [1.8518,-3.1416], [2.0053,-1.5708], [0.6928,-2.3562], [2.2040,-1.5708], [0.8755, 0.0000], [2.2040, 1.5708], [0.6928, 2.6180],\n",
    "])\n"
   ]
  },
  {
   "cell_type": "code",
   "execution_count": null,
   "metadata": {},
   "outputs": [],
   "source": [
    "def eq_D_l(l):\n",
    "    return np.sqrt(4*np.pi/(2*l+1))\n",
    "\n",
    "\n",
    "def eq_Y_l(l):\n",
    "    matrix_size = 2*l+1\n",
    "    dirs = lobe_dirs[(l)**2 : (l+1)**2]\n",
    "    \n",
    "    Y_l = np.zeros([matrix_size, matrix_size])\n",
    "    for row in np.arange(0, matrix_size):\n",
    "        w = dirs[row]\n",
    "        for column in np.arange(0, matrix_size):\n",
    "            m = column - l\n",
    "            Y_l[row][column] = sh.sph_harm(m, l, w[0], w[1])\n",
    "    return Y_l\n",
    "\n",
    "\n",
    "def eq_Y(N):\n",
    "    start_band = 0\n",
    "    matrix_size = N**2 - start_band**2\n",
    "    Y_l = np.zeros([matrix_size, matrix_size])\n",
    "\n",
    "    # lobe sharing\n",
    "    dirs = lobe_dirs[(N-1)**2 : (N)**2]\n",
    "\n",
    "    for l in np.arange(start_band, N):\n",
    "        diagonal_matrix_offset = l**2 - start_band**2\n",
    "        diagonal_matrix_size = 2*l + 1\n",
    "        for row in np.arange(0, diagonal_matrix_size):\n",
    "            w = dirs[row]\n",
    "            for column in np.arange(0, diagonal_matrix_size):\n",
    "                m = column - l\n",
    "                Y_l[row+diagonal_matrix_offset][column+diagonal_matrix_offset] = sh.sph_harm(m, l, w[0], w[1])\n",
    "    return Y_l\n",
    "\n",
    "\n",
    "def eq_Y_R(N, rot):\n",
    "    start_band = 0\n",
    "    matrix_size = N**2 - start_band**2\n",
    "    Y_l = np.zeros([matrix_size, matrix_size])\n",
    "\n",
    "    # lobe sharing\n",
    "    dirs = lobe_dirs[(N-1)**2 : (N)**2]\n",
    "\n",
    "    for l in np.arange(start_band, N):\n",
    "        diagonal_matrix_offset = l**2 - start_band**2\n",
    "        diagonal_matrix_size = 2*l + 1\n",
    "        for row in np.arange(0, diagonal_matrix_size):\n",
    "            w = dirs[row]\n",
    "            theta, phi = w[0], w[1]\n",
    "            x, y, z = spherical_dir(theta, phi)\n",
    "            xyz = rot.apply([x, y, z])\n",
    "            theta, phi = spherical_coord(xyz[0], xyz[1], xyz[2])\n",
    "            \n",
    "            for column in np.arange(0, diagonal_matrix_size):\n",
    "                m = column - l\n",
    "                Y_l[row+diagonal_matrix_offset][column+diagonal_matrix_offset] = sh.sph_harm(m, l, theta, phi)\n",
    "    return Y_l\n",
    "\n",
    "\n",
    "def eq_A_l_hat(l):\n",
    "    A_hat = np.linalg.inv(eq_Y_l(l))\n",
    "    return A_hat\n",
    "\n",
    "\n",
    "def eq_A_hat(N):\n",
    "    A_hat = np.linalg.inv(eq_Y(N))\n",
    "    return A_hat\n",
    "\n",
    "\n",
    "def print_matrix(m, N):\n",
    "    for l in np.arange(N):\n",
    "        offset = l**2\n",
    "        for row in np.arange(2*l+1):\n",
    "            linestr = \"\"\n",
    "            for col in np.arange(2*l+1):\n",
    "                linestr += \"{:10.6f}\".format(m[offset+row][offset+col]) + \" \"\n",
    "            print(linestr)\n",
    "        "
   ]
  },
  {
   "cell_type": "code",
   "execution_count": null,
   "metadata": {},
   "outputs": [],
   "source": [
    "def spherical_dir(theta, phi):\n",
    "    x = np.sin(theta) * np.cos(phi)\n",
    "    y = np.sin(theta) * np.sin(phi)\n",
    "    z = np.cos(theta)\n",
    "    return x, y, z\n",
    "\n",
    "def spherical_coord(x, y, z):\n",
    "    norm = np.sqrt(x**2 + y**2 + z**2)\n",
    "    theta = np.arccos(z/norm)\n",
    "    phi = np.arctan2(y, x)\n",
    "    return theta, phi\n",
    "\n",
    "def meshgrid_spherical_coord(numsamples):\n",
    "    theta = np.linspace(0, np.pi, num=numsamples)\n",
    "    phi = np.linspace(0, 2*np.pi, num=numsamples*2)\n",
    "    theta, phi = np.meshgrid(theta, phi)\n",
    "    return theta, phi\n",
    "\n",
    "# define a helper function that apply a rotation to a spherical function\n",
    "def rotate_spherical_func(func, rotation):\n",
    "    def func_r(theta, phi):\n",
    "        x, y, z = spherical_dir(theta, phi)\n",
    "        rot_matrix = rotation.as_dcm().transpose()\n",
    "        x_p = rot_matrix[0][0]*x+rot_matrix[0][1]*y+rot_matrix[0][2]*z\n",
    "        y_p = rot_matrix[1][0]*x+rot_matrix[1][1]*y+rot_matrix[1][2]*z\n",
    "        z_p = rot_matrix[2][0]*x+rot_matrix[2][1]*y+rot_matrix[2][2]*z\n",
    "        theta_p = np.arccos(z_p)\n",
    "        phi_p = np.arctan2(y_p, x_p)\n",
    "        return func(theta_p, phi_p)\n",
    "    return func_r"
   ]
  },
  {
   "cell_type": "code",
   "execution_count": null,
   "metadata": {},
   "outputs": [],
   "source": [
    "# define a function that we want to rotate\n",
    "def func(theta, phi):\n",
    "    return np.maximum(0, 5*np.cos(theta)-4) + np.maximum(0, -4*np.sin(theta-np.pi)*np.cos(phi-2.5+np.pi)-3)"
   ]
  },
  {
   "cell_type": "code",
   "execution_count": null,
   "metadata": {},
   "outputs": [],
   "source": [
    "from scipy.spatial.transform import Rotation as R\n",
    "\n",
    "# define a rotation that we want to apply to that function\n",
    "rotation = R.from_euler('z', 44, degrees=True)"
   ]
  },
  {
   "cell_type": "code",
   "execution_count": null,
   "metadata": {},
   "outputs": [],
   "source": [
    "# rotate the function and project into SH\n",
    "func_rot = rotate_spherical_func(func, rotation)\n",
    "sh_band = 3\n",
    "sh_coeffs_rot = sh_tools.sh_projection(func_rot, sh_band, 256)\n",
    "sh_tools.print_sh_coeffs(sh_band, sh_coeffs_rot)"
   ]
  },
  {
   "cell_type": "code",
   "execution_count": null,
   "metadata": {},
   "outputs": [],
   "source": [
    "# project into Rotated Zonal Harmonic Basis\n",
    "sh_coeffs = sh_tools.sh_projection(func, sh_band, 256)\n",
    "A_hat = eq_A_hat(sh_band)\n",
    "Z_hat = A_hat.transpose().dot(sh_coeffs)\n",
    "\n",
    "# rotate in RZHB\n",
    "Y_R = eq_Y_R(sh_band, rotation)\n",
    "sh_coeffs_r = Y_R.transpose().dot(Z)\n",
    "sh_tools.print_sh_coeffs(sh_band, sh_coeffs_r)"
   ]
  },
  {
   "cell_type": "code",
   "execution_count": null,
   "metadata": {},
   "outputs": [],
   "source": [
    "# compare the results\n",
    "sh_coeffs_r - sh_coeffs_rot"
   ]
  },
  {
   "cell_type": "code",
   "execution_count": null,
   "metadata": {},
   "outputs": [],
   "source": [
    "# signal-tailored rotation\n",
    "\n",
    "inv_rotation = rotation.inv()\n",
    "Y_invR = eq_Y_R(sh_band, inv_rotation)\n",
    "sh_coeffs_tilde = Y_invR.dot(sh_coeffs)\n",
    "sh_coeffs_rot_str = A_hat.dot(sh_coeffs_tilde)\n",
    "sh_tools.print_sh_coeffs(sh_band, sh_coeffs_rot_str)"
   ]
  },
  {
   "cell_type": "code",
   "execution_count": null,
   "metadata": {},
   "outputs": [],
   "source": [
    "# compare the results\n",
    "sh_coeffs_r - sh_coeffs_rot_str"
   ]
  }
 ],
 "metadata": {
  "kernelspec": {
   "display_name": "Python 3",
   "language": "python",
   "name": "python3"
  },
  "language_info": {
   "codemirror_mode": {
    "name": "ipython",
    "version": 3
   },
   "file_extension": ".py",
   "mimetype": "text/x-python",
   "name": "python",
   "nbconvert_exporter": "python",
   "pygments_lexer": "ipython3",
   "version": "3.7.3"
  }
 },
 "nbformat": 4,
 "nbformat_minor": 2
}
