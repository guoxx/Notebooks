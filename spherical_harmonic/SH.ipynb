{
 "cells": [
  {
   "cell_type": "markdown",
   "metadata": {},
   "source": [
    "# Spherical harmonics"
   ]
  },
  {
   "cell_type": "markdown",
   "metadata": {},
   "source": [
    "## References\n",
    "\n",
    "* [Spherical Harmonics for Beginners](https://dickyjim.wordpress.com/2013/09/04/spherical-harmonics-for-beginners/)\n",
    "* [Spherical Harmonic Lighting: The Gritty Details](references/spherical-harmonic-lighting.pdf)\n",
    "* [Spherical Harmonics in Actual Games](https://tomforsyth1000.github.io/papers/papers.html)\n",
    "* [Stupid Spherical Harmonics (SH) Tricks](http://www.ppsloan.org/publications/StupidSH36.pdf)\n",
    "* [An Efficient Representation for Irradiance Environment Maps](http://cseweb.ucsd.edu/~ravir/papers/envmap/envmap.pdf)\n",
    "* [On the relationship between radiance andirradiance:  determiningthe illumination fromimages of a convex Lambertian object](http://cseweb.ucsd.edu/~ravir/papers/invlamb/josa.pdf)\n",
    "* [GameDev.net - Spherical Harmonics Cubemap](https://www.gamedev.net/forums/topic/671562-spherical-harmonics-cubemap/)\n",
    "* [HLSL-Spherical-Harmonics](https://github.com/sebh/HLSL-Spherical-Harmonics)  \n",
    "* [Dive in SH buffer idea](https://seblagarde.wordpress.com/2011/10/09/dive-in-sh-buffer-idea/)"
   ]
  },
  {
   "cell_type": "markdown",
   "metadata": {},
   "source": [
    "## Utility code snippets"
   ]
  },
  {
   "cell_type": "code",
   "execution_count": null,
   "metadata": {},
   "outputs": [],
   "source": [
    "import numpy as np\n",
    "import sph_harm as sh\n",
    "\n",
    "def spherical_integral(integrand, numsamples):\n",
    "    dtheta = np.pi / (numsamples - 1)\n",
    "    dphi = 2*np.pi / (2*numsamples - 1)\n",
    "\n",
    "    theta = np.arange(0, np.pi, dtheta)\n",
    "    phi = np.arange(0, np.pi*2, dphi)\n",
    "    theta, phi = np.meshgrid(theta, phi)\n",
    "    vals = integrand(theta, phi) * np.sin(theta)\n",
    "\n",
    "    return vals.sum() * dtheta * dphi\n",
    "\n",
    "def spherical_dir(theta, phi):\n",
    "    x = np.sin(theta) * np.cos(phi)\n",
    "    y = np.sin(theta) * np.sin(phi)\n",
    "    z = np.cos(theta)\n",
    "    return x, y, z\n",
    "\n",
    "def spherical_coord(x, y, z):\n",
    "    norm = np.sqrt(x**2 + y**2 + z**2)\n",
    "    theta = np.arccos(z/norm)\n",
    "    phi = np.arctan2(y, x)\n",
    "    return theta, phi\n",
    "\n",
    "def meshgrid_spherical_coord(numsamples):\n",
    "    theta = np.linspace(0, np.pi, num=numsamples)\n",
    "    phi = np.linspace(0, 2*np.pi, num=numsamples*2)\n",
    "    theta, phi = np.meshgrid(theta, phi)\n",
    "    return theta, phi\n",
    "\n",
    "def sph_harm_xyz(m, l, x, y, z):\n",
    "    theta, phi = spherical_coord(x, y, z)\n",
    "    return sh.sph_harm(m, l, theta, phi)\n",
    "\n",
    "def print_sh_coeffs(band, coeffs):\n",
    "    for l in np.arange(band):\n",
    "        linestr = \"\"\n",
    "        for m in np.arange(-l, l+1):\n",
    "            i = sh_idx(m, l)\n",
    "            linestr += str(coeffs[i]) + \" \"\n",
    "        print(linestr)"
   ]
  },
  {
   "cell_type": "markdown",
   "metadata": {},
   "source": [
    "## SH coefficient visualization"
   ]
  },
  {
   "cell_type": "code",
   "execution_count": null,
   "metadata": {},
   "outputs": [],
   "source": [
    "import numpy as np\n",
    "import sph_harm as sh\n",
    "import ipyvolume as ipv\n",
    "from matplotlib import cm, colors\n",
    "\n",
    "\n",
    "# color map for SH coefficient visualization\n",
    "N = 256\n",
    "vals = np.zeros((N, 4))\n",
    "vals[:N//2, 0] = np.linspace(1, 0, N//2)\n",
    "vals[N//2:, 1] = np.linspace(0, 1, N//2)\n",
    "vals[:, 3] = np.ones(N)\n",
    "sh_colormap = colors.ListedColormap(vals)\n",
    "\n",
    "theta, phi = meshgrid_spherical_coord(128)\n",
    "x, y, z = spherical_dir(theta, phi)\n",
    "\n",
    "sh_band = 5\n",
    "\n",
    "ipv.figure(lighting=False)\n",
    "ipv.xyzlim(-sh_band*2, sh_band*2)\n",
    "ipv.ylim(-sh_band*3, sh_band)\n",
    "\n",
    "for l in np.arange(sh_band):\n",
    "    for m in np.arange(-l, l+1):\n",
    "        sh_vals = sh.sph_harm(m, l, theta, phi).real\n",
    "#         sh_vals = sph_harm_xyz(m, l, x, y, z).real\n",
    "        abs_sh = np.abs(sh_vals)\n",
    "        sh_min, sh_max = sh_vals.min(), sh_vals.max()\n",
    "        sh_max += 0.000001\n",
    "        sh_gradient = (sh_vals - sh_min) / (sh_max - sh_min)\n",
    "\n",
    "        cmap = sh_colormap(sh_gradient)\n",
    "        if l == 0:\n",
    "            # hack the cmap for first order cause it's a constant so that gradient is zero\n",
    "            cmap = \"green\"\n",
    "\n",
    "        coord_offset = np.array([2*m, -2*l, 0])\n",
    "        ipv.plot_mesh(x*abs_sh+coord_offset[0], z*abs_sh+coord_offset[1], y*abs_sh+coord_offset[2], wireframe=False, color=cmap)\n",
    "        sphere_scale = 0.2\n",
    "        sphere_offset = coord_offset+np.array([0.5, 0.5, 0])\n",
    "        ipv.plot_mesh(x*sphere_scale+sphere_offset[0], z*sphere_scale+sphere_offset[1], y*sphere_scale+sphere_offset[2], wireframe=False, color=cmap)\n",
    "ipv.show()"
   ]
  },
  {
   "cell_type": "markdown",
   "metadata": {
    "toc-hr-collapsed": false
   },
   "source": [
    "## SH projection example"
   ]
  },
  {
   "cell_type": "markdown",
   "metadata": {},
   "source": [
    "Define a function that we want to project into SH basis"
   ]
  },
  {
   "cell_type": "code",
   "execution_count": null,
   "metadata": {},
   "outputs": [],
   "source": [
    "import numpy as np\n",
    "import sph_harm as sh\n",
    "import ipyvolume as ipv\n",
    "from matplotlib import cm\n",
    "\n",
    "def func(theta, phi):\n",
    "    l = np.maximum(0, 5*np.cos(theta)-4) + np.maximum(0, -4*np.sin(theta-np.pi)*np.cos(phi-2.5+np.pi)-3)\n",
    "    return l"
   ]
  },
  {
   "cell_type": "markdown",
   "metadata": {},
   "source": [
    "Visualize it"
   ]
  },
  {
   "cell_type": "code",
   "execution_count": null,
   "metadata": {},
   "outputs": [],
   "source": [
    "theta, phi = meshgrid_spherical_coord(128)\n",
    "x, y, z = spherical_dir(theta, phi)\n",
    "\n",
    "vals = func(theta, phi)\n",
    "\n",
    "ipv.figure(lighting=False)\n",
    "ipv.xyzlim(-1, 1)\n",
    "ipv.plot_mesh(x, z, y, wireframe=False, color=cm.coolwarm(vals))\n",
    "ipv.show()"
   ]
  },
  {
   "cell_type": "markdown",
   "metadata": {},
   "source": [
    "Another way to visualize it"
   ]
  },
  {
   "cell_type": "code",
   "execution_count": null,
   "metadata": {},
   "outputs": [],
   "source": [
    "ipv.figure(lighting=False)\n",
    "ipv.xyzlim(-1, 1)\n",
    "ipv.plot_mesh(x*vals, z*vals, y*vals, wireframe=False, color=cm.coolwarm(vals))\n",
    "ipv.show()"
   ]
  },
  {
   "cell_type": "markdown",
   "metadata": {},
   "source": [
    "Now define SH projection and reconstruction functions"
   ]
  },
  {
   "cell_type": "code",
   "execution_count": null,
   "metadata": {},
   "outputs": [],
   "source": [
    "def sh_projection(spherical_func, band, numsamples):\n",
    "    sh_coeffs = np.ndarray(band**2)\n",
    "    sh_coeffs.fill(0)\n",
    "\n",
    "    for l in range(band):\n",
    "        for m in range(-l, l + 1):\n",
    "            def integrand(theta, phi):\n",
    "                return spherical_func(theta, phi) * sh.sph_harm(m, l, theta, phi).real\n",
    "#                 x = np.sin(theta) * np.cos(phi)\n",
    "#                 y = np.sin(theta) * np.sin(phi)\n",
    "#                 z = np.cos(theta)\n",
    "#                 return spherical_func(theta, phi) * sph_harm_xyz(m, l, x, y, z).real\n",
    "\n",
    "            i = sh.sh_idx(m, l)\n",
    "            sh_coeffs[i] = spherical_integral(integrand, numsamples)\n",
    "    return sh_coeffs\n",
    "\n",
    "# zonal harmonics\n",
    "def zh_projection(spherical_func, band, numsamples):\n",
    "    sh_coeffs = np.ndarray(band**2)\n",
    "    sh_coeffs.fill(0)\n",
    "\n",
    "    for l in range(band):\n",
    "        m = 0\n",
    "\n",
    "        def integrand(theta, phi):\n",
    "            return spherical_func(theta, phi) * sh.sph_harm(m, l, theta, phi).real\n",
    "\n",
    "        i = sh.sh_idx(m, l)\n",
    "        sh_coeffs[i] = spherical_integral(integrand, numsamples)\n",
    "    return sh_coeffs\n",
    "\n",
    "def zh_coeffs_replicate(band, zh_coeffs):\n",
    "    sh_coeffs = zh_coeffs\n",
    "    for l in range(band):\n",
    "        for m in range(-l, l + 1):\n",
    "            if m != 0:\n",
    "                base = sh.sh_idx(0, l)\n",
    "                i = sh.sh_idx(m, l)\n",
    "                sh_coeffs[i] = zh_coeffs[base]\n",
    "    return sh_coeffs\n",
    "\n",
    "def sh_reconstruction(theta, phi, band, sh_coeffs):\n",
    "    vals = np.zeros_like(theta)\n",
    "    for l in range(band):\n",
    "        for m in range(-l, l + 1):\n",
    "            sh_val = sh.sph_harm(m, l, theta, phi).real\n",
    "            i = sh.sh_idx(m, l)\n",
    "            coeff = sh_coeffs[i]\n",
    "            vals = vals + sh_val * coeff\n",
    "    return vals"
   ]
  },
  {
   "cell_type": "markdown",
   "metadata": {},
   "source": [
    "Visualize the difference between original function and reconstructed function"
   ]
  },
  {
   "cell_type": "code",
   "execution_count": null,
   "metadata": {},
   "outputs": [],
   "source": [
    "theta, phi = meshgrid_spherical_coord(128)\n",
    "x, y, z = spherical_dir(theta, phi)\n",
    "\n",
    "sh_band = 6\n",
    "coeff = sh_projection(func, sh_band, 256)\n",
    "diff = sh_reconstruction(theta, phi, sh_band, coeff) - func(theta, phi)\n",
    "\n",
    "ipv.figure(lighting=False)\n",
    "ipv.xyzlim(-1, 1)\n",
    "ipv.plot_mesh(x*diff, z*diff, y*diff, wireframe=False, color=cm.coolwarm(diff))\n",
    "ipv.show()"
   ]
  },
  {
   "cell_type": "markdown",
   "metadata": {},
   "source": [
    "## Zonal harmonics rotation"
   ]
  },
  {
   "cell_type": "code",
   "execution_count": null,
   "metadata": {},
   "outputs": [],
   "source": [
    "import numpy as np\n",
    "import ipyvolume as ipv\n",
    "from matplotlib import cm\n",
    "\n",
    "# define a radial symmetry function\n",
    "def func(theta, phi):\n",
    "    return np.maximum(0, np.cos(theta))"
   ]
  },
  {
   "cell_type": "code",
   "execution_count": null,
   "metadata": {},
   "outputs": [],
   "source": [
    "# define a helper function that apply a rotation to a spherical function\n",
    "def rotate_spherical_func(func, rotation, x, y, z):\n",
    "    rot_matrix = rotation.as_dcm().transpose()\n",
    "    x_p = rot_matrix[0][0]*x+rot_matrix[0][1]*y+rot_matrix[0][2]*z\n",
    "    y_p = rot_matrix[1][0]*x+rot_matrix[1][1]*y+rot_matrix[1][2]*z\n",
    "    z_p = rot_matrix[2][0]*x+rot_matrix[2][1]*y+rot_matrix[2][2]*z\n",
    "    theta_p = np.arccos(z_p)\n",
    "    phi_p = np.arctan2(y_p, x_p)\n",
    "    return func(theta_p, phi_p)"
   ]
  },
  {
   "cell_type": "code",
   "execution_count": null,
   "metadata": {},
   "outputs": [],
   "source": [
    "from scipy.spatial.transform import Rotation as R\n",
    "\n",
    "theta, phi = meshgrid_spherical_coord(128)\n",
    "x, y, z = spherical_dir(theta, phi)\n",
    "\n",
    "# define a rotation\n",
    "rotation = R.from_euler('y', 90, degrees=True)\n",
    "\n",
    "vals = rotate_spherical_func(func, rotation, x, y, z)\n",
    "\n",
    "ipv.figure(lighting=False)\n",
    "ipv.xyzlim(-1, 1)\n",
    "ipv.plot_mesh(x, y, z, wireframe=False, color=cm.coolwarm(vals))\n",
    "ipv.show()"
   ]
  },
  {
   "cell_type": "code",
   "execution_count": null,
   "metadata": {},
   "outputs": [],
   "source": [
    "vec = np.array([0, 0, 1])\n",
    "vec_p = rotation.apply(vec)\n",
    "\n",
    "sh_bands = 6\n",
    "sh_coeffs = zh_projection(func, sh_bands, 128)\n",
    "sh_coeffs = zh_coeffs_replicate(sh_bands, sh_coeffs)\n",
    "for l in np.arange(sh_bands):\n",
    "    for m in np.arange(-l, l+1):\n",
    "        i = sh.sh_idx(m, l)\n",
    "        # rotate zonal harmonics\n",
    "        sh_coeffs[i] = np.sqrt(4*np.pi/(2*l+1))*sph_harm_xyz(m, l, vec_p[0], vec_p[1], vec_p[2])*sh_coeffs[i]\n",
    "\n",
    "diff = sh_reconstruction(theta, phi, sh_bands, sh_coeffs) - vals\n",
    "\n",
    "ipv.figure(lighting=False)\n",
    "ipv.xyzlim(-1, 1)\n",
    "ipv.plot_mesh(x, y, z, wireframe=False, color=cm.coolwarm(diff))\n",
    "ipv.show()"
   ]
  }
 ],
 "metadata": {
  "kernelspec": {
   "display_name": "Python 3",
   "language": "python",
   "name": "python3"
  },
  "language_info": {
   "codemirror_mode": {
    "name": "ipython",
    "version": 3
   },
   "file_extension": ".py",
   "mimetype": "text/x-python",
   "name": "python",
   "nbconvert_exporter": "python",
   "pygments_lexer": "ipython3",
   "version": "3.7.3"
  }
 },
 "nbformat": 4,
 "nbformat_minor": 2
}
