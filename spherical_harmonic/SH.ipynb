{
 "cells": [
  {
   "cell_type": "markdown",
   "metadata": {},
   "source": [
    "# Spherical harmonics"
   ]
  },
  {
   "cell_type": "markdown",
   "metadata": {},
   "source": [
    "## References\n",
    "\n",
    "* [Spherical Harmonics for Beginners](https://dickyjim.wordpress.com/2013/09/04/spherical-harmonics-for-beginners/)\n",
    "* [Spherical Harmonic Lighting: The Gritty Details](references/spherical-harmonic-lighting.pdf)\n",
    "* [Spherical Harmonics in Actual Games](https://tomforsyth1000.github.io/papers/papers.html)\n",
    "* [Stupid Spherical Harmonics (SH) Tricks](http://www.ppsloan.org/publications/StupidSH36.pdf)\n",
    "* [An Efficient Representation for Irradiance Environment Maps](http://cseweb.ucsd.edu/~ravir/papers/envmap/envmap.pdf)\n",
    "* [On the relationship between radiance andirradiance:  determiningthe illumination fromimages of a convex Lambertian object](http://cseweb.ucsd.edu/~ravir/papers/invlamb/josa.pdf)\n",
    "* [GameDev.net - Spherical Harmonics Cubemap](https://www.gamedev.net/forums/topic/671562-spherical-harmonics-cubemap/)\n",
    "* [HLSL-Spherical-Harmonics](https://github.com/sebh/HLSL-Spherical-Harmonics)  \n",
    "* [Dive in SH buffer idea](https://seblagarde.wordpress.com/2011/10/09/dive-in-sh-buffer-idea/)"
   ]
  },
  {
   "cell_type": "markdown",
   "metadata": {},
   "source": [
    "## SH coefficient visualization"
   ]
  },
  {
   "cell_type": "code",
   "execution_count": null,
   "metadata": {},
   "outputs": [],
   "source": [
    "import numpy as np\n",
    "import sph_harm as sh\n",
    "import ipyvolume as ipv\n",
    "from matplotlib import cm, colors\n",
    "\n",
    "\n",
    "# color map for SH coefficient visualization\n",
    "N = 256\n",
    "vals = np.zeros((N, 4))\n",
    "vals[:N//2, 0] = np.linspace(1, 0, N//2)\n",
    "vals[N//2:, 1] = np.linspace(0, 1, N//2)\n",
    "vals[:, 3] = np.ones(N)\n",
    "sh_colormap = colors.ListedColormap(vals)\n",
    "\n",
    "theta = np.linspace(0, np.pi, num=128)\n",
    "phi = np.linspace(0, 2*np.pi, num=128)\n",
    "theta, phi = np.meshgrid(theta, phi)\n",
    "\n",
    "x = np.sin(theta) * np.cos(phi)\n",
    "y = np.sin(theta) * np.sin(phi)\n",
    "z = np.cos(theta)\n",
    "\n",
    "sh_band = 5\n",
    "\n",
    "ipv.figure(lighting=False)\n",
    "ipv.xyzlim(-sh_band*2, sh_band*2)\n",
    "ipv.ylim(-sh_band*3, sh_band)\n",
    "\n",
    "for l in np.arange(sh_band):\n",
    "    for m in np.arange(-l, l+1):\n",
    "        sh_vals = sh.sph_harm(m, l, theta, phi).real\n",
    "        abs_sh = np.abs(sh_vals)\n",
    "        sh_min, sh_max = sh_vals.min(), sh_vals.max()\n",
    "        sh_max += 0.000001\n",
    "        sh_gradient = (sh_vals - sh_min) / (sh_max - sh_min)\n",
    "\n",
    "        cmap = sh_colormap(sh_gradient)\n",
    "        if l == 0:\n",
    "            # hack the cmap for first order cause it's a constant so that gradient is zero\n",
    "            cmap = \"green\"\n",
    "\n",
    "        coord_offset = np.array([2*m, -2*l, 0])\n",
    "        ipv.plot_mesh(x*abs_sh+coord_offset[0], z*abs_sh+coord_offset[1], y*abs_sh+coord_offset[2], wireframe=False, color=cmap)\n",
    "        sphere_scale = 0.2\n",
    "        sphere_offset = coord_offset+np.array([0.5, 0.5, 0])\n",
    "        ipv.plot_mesh(x*sphere_scale+sphere_offset[0], z*sphere_scale+sphere_offset[1], y*sphere_scale+sphere_offset[2], wireframe=False, color=cmap)\n",
    "ipv.show()"
   ]
  },
  {
   "cell_type": "markdown",
   "metadata": {
    "toc-hr-collapsed": false
   },
   "source": [
    "## SH projection example"
   ]
  },
  {
   "cell_type": "markdown",
   "metadata": {},
   "source": [
    "Define a function that we want to project into SH basis"
   ]
  },
  {
   "cell_type": "code",
   "execution_count": null,
   "metadata": {},
   "outputs": [],
   "source": [
    "import numpy as np\n",
    "import sph_harm as sh\n",
    "import ipyvolume as ipv\n",
    "from matplotlib import cm\n",
    "\n",
    "def func(theta, phi):\n",
    "    l = np.maximum(0, 5*np.cos(theta)-4) + np.maximum(0, -4*np.sin(theta-np.pi)*np.cos(phi-2.5+np.pi)-3)\n",
    "    return l"
   ]
  },
  {
   "cell_type": "markdown",
   "metadata": {},
   "source": [
    "Visualize it"
   ]
  },
  {
   "cell_type": "code",
   "execution_count": null,
   "metadata": {},
   "outputs": [],
   "source": [
    "theta = np.linspace(0, np.pi, num=64)\n",
    "phi = np.linspace(0, 2*np.pi, num=128)\n",
    "theta, phi = np.meshgrid(theta, phi)\n",
    "\n",
    "x = np.sin(theta) * np.cos(phi)\n",
    "y = np.sin(theta) * np.sin(phi)\n",
    "z = np.cos(theta)\n",
    "\n",
    "vals = func(theta, phi)\n",
    "\n",
    "ipv.figure(lighting=False)\n",
    "ipv.xyzlim(-1, 1)\n",
    "ipv.plot_mesh(x, z, y, wireframe=False, color=cm.coolwarm(vals))\n",
    "ipv.show()"
   ]
  },
  {
   "cell_type": "markdown",
   "metadata": {},
   "source": [
    "Another way to visualize it"
   ]
  },
  {
   "cell_type": "code",
   "execution_count": null,
   "metadata": {},
   "outputs": [],
   "source": [
    "ipv.figure(lighting=False)\n",
    "ipv.xyzlim(-1, 1)\n",
    "ipv.plot_mesh(x*vals, z*vals, y*vals, wireframe=False, color=cm.coolwarm(vals))\n",
    "ipv.show()"
   ]
  },
  {
   "cell_type": "markdown",
   "metadata": {},
   "source": [
    "Now define SH projection and reconstruction functions"
   ]
  },
  {
   "cell_type": "code",
   "execution_count": null,
   "metadata": {},
   "outputs": [],
   "source": [
    "def sh_projection(spherical_func, band, numsamples):\n",
    "    sh_coeffs = np.ndarray(band**2)\n",
    "    sh_coeffs.fill(0)\n",
    "\n",
    "    for l in range(band):\n",
    "        for m in range(-l, l + 1):\n",
    "            dtheta = np.pi / (numsamples - 1)\n",
    "            dphi = 2 * np.pi / (numsamples - 1)\n",
    "            sh_coeff = 0\n",
    "            for i in np.arange(0, numsamples):\n",
    "                for j in np.arange(0, numsamples):\n",
    "                    theta = dtheta * i\n",
    "                    phi = dphi * j\n",
    "                    v = spherical_func(theta, phi)\n",
    "                    sh_val = sh.sph_harm(m, l, theta, phi).real\n",
    "                    sh_coeff += sh_val * v * np.sin(theta) * dtheta * dphi\n",
    "\n",
    "            i = l * (l + 1) + m\n",
    "            sh_coeffs[i] = sh_coeff\n",
    "    return sh_coeffs\n",
    "\n",
    "def sh_reconstruction(theta, phi, band, sh_coeffs):\n",
    "    vals = np.zeros_like(theta)\n",
    "    for l in range(band):\n",
    "        for m in range(-l, l + 1):\n",
    "            sh_val = sh.sph_harm(m, l, theta, phi).real\n",
    "            i = l * (l + 1) + m\n",
    "            coeff = sh_coeffs[i]\n",
    "            vals = vals + sh_val * coeff\n",
    "    return vals"
   ]
  },
  {
   "cell_type": "markdown",
   "metadata": {},
   "source": [
    "Visualize the difference between original function and reconstructed function"
   ]
  },
  {
   "cell_type": "code",
   "execution_count": null,
   "metadata": {},
   "outputs": [],
   "source": [
    "theta = np.linspace(0, np.pi, num=64)\n",
    "phi = np.linspace(0, 2*np.pi, num=128)\n",
    "theta, phi = np.meshgrid(theta, phi)\n",
    "\n",
    "x = np.sin(theta) * np.cos(phi)\n",
    "y = np.sin(theta) * np.sin(phi)\n",
    "z = np.cos(theta)\n",
    "\n",
    "sh_band = 6\n",
    "coeff = sh_projection(func, sh_band, 128)\n",
    "diff = sh_reconstruction(theta, phi, sh_band, coeff) - func(theta, phi)\n",
    "\n",
    "colormap = cm.coolwarm \n",
    "color = colormap(diff)\n",
    "\n",
    "ipv.figure(lighting=False)\n",
    "ipv.xyzlim(-1, 1)\n",
    "ipv.plot_mesh(x, z, y, wireframe=False, color=color)\n",
    "ipv.show()"
   ]
  }
 ],
 "metadata": {
  "kernelspec": {
   "display_name": "Python 3",
   "language": "python",
   "name": "python3"
  },
  "language_info": {
   "codemirror_mode": {
    "name": "ipython",
    "version": 3
   },
   "file_extension": ".py",
   "mimetype": "text/x-python",
   "name": "python",
   "nbconvert_exporter": "python",
   "pygments_lexer": "ipython3",
   "version": "3.7.3"
  }
 },
 "nbformat": 4,
 "nbformat_minor": 2
}
