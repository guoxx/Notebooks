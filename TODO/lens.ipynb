{
 "cells": [
  {
   "cell_type": "code",
   "execution_count": null,
   "metadata": {},
   "outputs": [],
   "source": [
    "import numpy as np\n",
    "import matplotlib.pyplot as plt\n",
    "import ipywidgets as widgets\n",
    "import scipy.integrate as integrate\n",
    "import ipyvolume as ipv\n",
    "import importlib\n",
    "import sympy as sym"
   ]
  },
  {
   "cell_type": "code",
   "execution_count": null,
   "metadata": {},
   "outputs": [],
   "source": [
    "class LensElem():    \n",
    "    def __init__(self, data):\n",
    "        self.curvatureRadius = data[0]/1000\n",
    "        self.thickness = data[1]/1000\n",
    "        self.IOR = data[2]\n",
    "        self.apertureRadius = data[3]/2/1000\n",
    "    \n",
    "    def __repr__(self):\n",
    "        return \"Curvature Radius {0}\\nThickness {1}\\nIOR {2}\\nAperture Diameter {3}\\n\".format(self.curvatureRadius, self.thickness, self.IOR, self.apertureRadius)"
   ]
  },
  {
   "cell_type": "code",
   "execution_count": null,
   "metadata": {},
   "outputs": [],
   "source": [
    "class Ray():\n",
    "    def __init__(self, o, d):\n",
    "        self.o = o\n",
    "        self.d = d/np.linalg.norm(d)\n",
    "\n",
    "    def march(self, t):\n",
    "        return self.o + self.d * t\n",
    "\n",
    "    def sphereIntersect(self, c, r):\n",
    "        ox = self.o[0]\n",
    "        oy = self.o[1]\n",
    "        dx = self.d[0]\n",
    "        dy = self.d[1]\n",
    "        cx = c[0]\n",
    "        cy = c[1]\n",
    "        t = sym.Symbol('t')\n",
    "        eq = (ox + t * dx - cx) ** 2 + (oy + t * dy - cy) ** 2 - r ** 2\n",
    "        return sym.solve(eq, t)\n",
    "    \n",
    "    def __repr__(self):\n",
    "        return \"origin {0}\\ndirection {1}\\n\".format(self.o, self.d)"
   ]
  },
  {
   "cell_type": "code",
   "execution_count": null,
   "metadata": {},
   "outputs": [],
   "source": [
    "# wide 22mm camera lens system\n",
    "data_w22mm = np.array([\n",
    "# curvature radius, thickness, IOR, aperture diameter\n",
    "35.98738, 1.21638, 1.54, 23.716,\n",
    "11.69718, 9.9957, 1.0, 17.996,\n",
    "13.08714, 5.12622, 1.772, 12.364,\n",
    "-22.63294, 1.76924, 1.617, 9.812,\n",
    "71.05802, 0.8184, 1.0, 9.152,\n",
    "0.0, 2.27766, 0.0, 8.756,\n",
    "-9.58584, 2.43254, 1.617, 8.184,\n",
    "-11.28864, 0.11506, 1.0, 9.152,\n",
    "-166.7765, 3.09606, 1.713, 10.648,\n",
    "-7.5911, 1.32682, 1.805, 11.44,\n",
    "-16.7662, 3.98068, 1.0, 12.276,\n",
    "-7.70286, 1.21638, 1.617, 13.42,\n",
    "-11.97328, 0.0, 1.0, 17.996,\n",
    "])\n",
    "data_w22mm = data_w22mm.reshape((-1,4))\n",
    "num_lens_elem = data_w22mm.shape[0]"
   ]
  },
  {
   "cell_type": "code",
   "execution_count": null,
   "metadata": {},
   "outputs": [],
   "source": [
    "lens = []\n",
    "rearZ = 0\n",
    "frontZ = 0\n",
    "for i in range(0, num_lens_elem):\n",
    "    e = LensElem(data_w22mm[i])\n",
    "    lens.append(e)\n",
    "    rearZ = e.thickness\n",
    "    frontZ += rearZ\n",
    "\n",
    "plt.figure(figsize=(16,4))\n",
    "plt.xlim(-0.16,0)\n",
    "plt.ylim(-0.02,0.02)\n",
    "\n",
    "ox = frontZ\n",
    "for e in lens:        \n",
    "    r = e.curvatureRadius\n",
    "\n",
    "    if r == 0.0:\n",
    "#         maxTheta = np.arcsin(e.apertureRadius/np.abs(e.curvatureRadius))\n",
    "#         theta = np.arange(-maxTheta, maxTheta, 0.01)\n",
    "        x = np.full((2), -ox)\n",
    "        y = np.array([100, e.apertureRadius])\n",
    "        plt.plot(x, y)\n",
    "        y = np.array([-100, -e.apertureRadius])\n",
    "        plt.plot(x, y)\n",
    "    else:\n",
    "        maxTheta = np.arcsin(e.apertureRadius/np.abs(e.curvatureRadius))\n",
    "        theta = np.arange(-maxTheta, maxTheta, 0.01)\n",
    "        x = -(r * np.cos(theta) + (ox - e.curvatureRadius))\n",
    "        y = r * np.sin(theta)\n",
    "        plt.plot(x, y)\n",
    "\n",
    "    ox = ox - e.thickness\n",
    "\n",
    "rOrigin = np.array([-0.11, 0])\n",
    "rDir = np.array([np.cos(2/180*np.pi), np.sin(2/180*np.pi)])\n",
    "ray = Ray(rOrigin, rDir)\n",
    "\n",
    "zIntercept = frontZ\n",
    "for i in range(0, num_lens_elem-11):\n",
    "    r = lens[i].curvatureRadius\n",
    "    c = np.array([-(zIntercept - r), 0])\n",
    "    ret = ray.sphereIntersect(c, r)\n",
    "    hit = ray.march(ret[0])\n",
    "    plt.plot([ray.o[0], hit[0]], [ray.o[1], hit[1]])\n",
    "    \n",
    "    rOrigin = np.array([hit[0], hit[1]])\n",
    "    ray = Ray(rOrigin, rDir)\n",
    "    zIntercept -= lens[i].thickness\n",
    "        \n",
    "    "
   ]
  },
  {
   "cell_type": "code",
   "execution_count": null,
   "metadata": {},
   "outputs": [],
   "source": []
  }
 ],
 "metadata": {
  "kernelspec": {
   "display_name": "Python 3",
   "language": "python",
   "name": "python3"
  },
  "language_info": {
   "codemirror_mode": {
    "name": "ipython",
    "version": 3
   },
   "file_extension": ".py",
   "mimetype": "text/x-python",
   "name": "python",
   "nbconvert_exporter": "python",
   "pygments_lexer": "ipython3",
   "version": "3.6.5"
  }
 },
 "nbformat": 4,
 "nbformat_minor": 2
}
