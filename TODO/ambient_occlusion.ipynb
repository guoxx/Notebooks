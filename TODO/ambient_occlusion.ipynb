{
 "cells": [
  {
   "cell_type": "code",
   "execution_count": null,
   "metadata": {},
   "outputs": [],
   "source": [
    "import numpy as np\n",
    "import matplotlib.pyplot as plt\n",
    "import ipywidgets as widgets"
   ]
  },
  {
   "cell_type": "code",
   "execution_count": null,
   "metadata": {},
   "outputs": [],
   "source": [
    "def spherical_direction(theta, phi):\n",
    "    return np.array([np.sin(theta)*np.cos(phi), np.sin(theta)*np.sin(phi), np.cos(theta)])    "
   ]
  },
  {
   "cell_type": "code",
   "execution_count": null,
   "metadata": {},
   "outputs": [],
   "source": [
    "def integrate(func):\n",
    "    dtheta = 0.1\n",
    "    dphi = 0.1\n",
    "    integral = 0.0\n",
    "    for theta in np.arange(-np.pi, np.pi, dtheta):\n",
    "        for phi in np.arange(0, np.pi, dphi):\n",
    "            integral += func(theta, phi) * np.abs(np.sin(theta))\n",
    "    print(integral * dtheta * dphi)\n",
    "    return integral * dtheta * dphi\n",
    "\n",
    "def integrand(theta, phi, normalVec):\n",
    "    wi = spherical_direction(theta, phi)\n",
    "#     return np.maximum(np.dot(normalVec, wi), 0)/np.pi\n",
    "\n",
    "    tangentVec = spherical_direction(np.pi/2, phi)\n",
    "    planeNormal = np.cross(tangentVec, np.array([0, 0, 1]))\n",
    "    projectedNormalVec = normalVec - np.dot(normalVec, planeNormal) * planeNormal\n",
    "    return np.maximum(np.dot(projectedNormalVec, wi), 0)/np.pi\n",
    "\n",
    "    l = np.sqrt(np.dot(projectedNormalVec, projectedNormalVec))\n",
    "    projectedNormalVec /= l\n",
    "    return np.maximum(np.cos(theta), 0)/np.pi\n",
    "\n",
    "def test(theta, phi):\n",
    "    normalVec = spherical_direction(theta, phi)\n",
    "    integrate(lambda theta, phi: integrand(theta, phi, normalVec))\n",
    "\n",
    "widgets.interact(test, theta=(-np.pi, np.pi, 0.1), phi=(0, np.pi, 0.1))\n"
   ]
  },
  {
   "cell_type": "code",
   "execution_count": null,
   "metadata": {},
   "outputs": [],
   "source": [
    "def integrate_slice(func):    \n",
    "    dphi = 0.2\n",
    "    integral = 0.0\n",
    "    for phi in np.arange(0, np.pi, dphi):\n",
    "        integral += func(phi)\n",
    "    integral *= dphi\n",
    "    print(integral)\n",
    "    return integral\n",
    "\n",
    "def integrate_arc(phi, normalVec):    \n",
    "    tangentVec = spherical_direction(np.pi/2, phi)\n",
    "    \n",
    "    planeNormal = np.cross(tangentVec, np.array([0, 0, 1]))\n",
    "    projectedNormalVec = normalVec - np.dot(normalVec, planeNormal) * planeNormal\n",
    "    l = np.sqrt(np.dot(projectedNormalVec, projectedNormalVec))\n",
    "    projectedNormalVec /= l\n",
    "\n",
    "    n = np.arccos(np.dot(projectedNormalVec, tangentVec))\n",
    "    n = n - np.pi/2\n",
    "    h1 = -np.pi\n",
    "    h2 = np.pi\n",
    "    h1 = n + max(h1 - n, -np.pi/2)\n",
    "    h2 = n + min(h2 - n,  np.pi/2)\n",
    "    integral = 1/4*(-np.cos(2*h1-n) + np.cos(n) + 2*h1*np.sin(n)) + 1/4*(-np.cos(2*h2-n) + np.cos(n) + 2*h2*np.sin(n))\n",
    "    return integral * l / np.pi\n",
    "\n",
    "def test(theta, phi):\n",
    "    normalVec = spherical_direction(theta, phi)\n",
    "    integrate_slice(lambda phi: integrate_arc(phi, normalVec))\n",
    "\n",
    "widgets.interact(test, theta=(-np.pi, np.pi, 0.1), phi=(0, np.pi, 0.1))\n"
   ]
  },
  {
   "cell_type": "code",
   "execution_count": null,
   "metadata": {},
   "outputs": [],
   "source": []
  }
 ],
 "metadata": {
  "kernelspec": {
   "display_name": "Python 3",
   "language": "python",
   "name": "python3"
  },
  "language_info": {
   "codemirror_mode": {
    "name": "ipython",
    "version": 3
   },
   "file_extension": ".py",
   "mimetype": "text/x-python",
   "name": "python",
   "nbconvert_exporter": "python",
   "pygments_lexer": "ipython3",
   "version": "3.6.5"
  }
 },
 "nbformat": 4,
 "nbformat_minor": 2
}
