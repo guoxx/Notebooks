{
 "cells": [
  {
   "cell_type": "markdown",
   "metadata": {},
   "source": [
    "# Clear sky\n",
    "\n",
    "* [Precomputed Atmospheric scattering](https://ebruneton.github.io/precomputed_atmospheric_scattering/)\n",
    "* [Rendering Parametrizable Planetary Atmospheres with Multiple Scattering in Real-Time](https://www.semanticscholar.org/paper/Rendering-Parametrizable-Planetary-Atmospheres-with-Elek/a15e7674894209fbbc42f4bf4c53af83cac74638)\n",
    "* [Outdoor Light Scattering Sample](https://software.intel.com/en-us/blogs/2013/06/26/outdoor-light-scattering-sample)\n",
    "* [A Qualitative and Quantitative Evaluation of 8 Clear Sky Models](https://arxiv.org/abs/1612.04336)\n",
    "* [Physically Based Sky, Atmosphere and Cloud Rendering in Frostbite](https://www.ea.com/frostbite/news/physically-based-sky-atmosphere-and-cloud-rendering)"
   ]
  },
  {
   "cell_type": "code",
   "execution_count": null,
   "metadata": {},
   "outputs": [],
   "source": []
  }
 ],
 "metadata": {
  "kernelspec": {
   "display_name": "Python 3",
   "language": "python",
   "name": "python3"
  },
  "language_info": {
   "codemirror_mode": {
    "name": "ipython",
    "version": 3
   },
   "file_extension": ".py",
   "mimetype": "text/x-python",
   "name": "python",
   "nbconvert_exporter": "python",
   "pygments_lexer": "ipython3",
   "version": "3.6.5"
  }
 },
 "nbformat": 4,
 "nbformat_minor": 2
}
