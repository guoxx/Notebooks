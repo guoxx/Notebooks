{
 "cells": [
  {
   "cell_type": "markdown",
   "metadata": {
    "collapsed": true
   },
   "source": [
    "# Build a path tracer base on [Nori](http://wjakob.github.io/nori/#about)\n",
    "\n",
    "## Basic knowledge\n",
    "\n",
    "### Monte carlo integration\n",
    "\n",
    "### Importance sampling\n",
    "\n",
    "### Sampling from a PDF\n",
    "\n",
    "### Light transport equation\n",
    "\n",
    "### Frenel equation\n",
    "\n",
    "### Microfacet theory"
   ]
  },
  {
   "cell_type": "code",
   "execution_count": null,
   "metadata": {
    "collapsed": true
   },
   "outputs": [],
   "source": []
  }
 ],
 "metadata": {
  "kernelspec": {
   "display_name": "Python 3",
   "language": "python",
   "name": "python3"
  },
  "language_info": {
   "codemirror_mode": {
    "name": "ipython",
    "version": 3
   },
   "file_extension": ".py",
   "mimetype": "text/x-python",
   "name": "python",
   "nbconvert_exporter": "python",
   "pygments_lexer": "ipython3",
   "version": "3.6.2"
  }
 },
 "nbformat": 4,
 "nbformat_minor": 2
}
