{
 "cells": [
  {
   "cell_type": "code",
   "execution_count": null,
   "metadata": {},
   "outputs": [],
   "source": [
    "import numpy as np\n",
    "import matplotlib.pyplot as plt\n",
    "from matplotlib import cm\n",
    "# This import registers the 3D projection, but is otherwise unused.\n",
    "from mpl_toolkits.mplot3d import Axes3D  # noqa: F401 unused import\n",
    "import ipyvolume as ipv"
   ]
  },
  {
   "cell_type": "code",
   "execution_count": null,
   "metadata": {
    "pycharm": {
     "name": "#%%\n"
    }
   },
   "outputs": [],
   "source": [
    "def saturate(x):\n",
    "    return np.clip(x, 0, 1)\n",
    "\n",
    "def horizon_clipping_sphere_approx(sinSigma, cosOmega):\n",
    "    l = sinSigma*sinSigma\n",
    "    Fz = cosOmega * l \n",
    "    sum = (l * l + Fz) / (l + 1)\n",
    "    return sum\n",
    "\n",
    "def horizon_clipping_sphere(sinSigma, cosOmega):\n",
    "    squaredSinSigma = sinSigma * sinSigma\n",
    "    sinSigma = np.sqrt(squaredSinSigma)\n",
    "    cosSigma = np.sqrt(1 - squaredSinSigma)\n",
    "    sigma = np.arcsin(sinSigma)\n",
    "\n",
    "    sinOmega = np.sqrt(1 - cosOmega * cosOmega)\n",
    "    omega = np.arccos(cosOmega)\n",
    "\n",
    "    sinGamma = saturate(cosSigma / sinOmega)\n",
    "    squaredCosGamma = 1 - sinGamma * sinGamma\n",
    "    cosGamma = np.sqrt(squaredCosGamma)\n",
    "    gamma = np.arcsin(sinGamma)\n",
    "\n",
    "    sum = 0\n",
    "    term0 = np.pi * cosOmega * squaredSinSigma\n",
    "    G = -2 * sinOmega * cosSigma * cosGamma + np.pi/2 - gamma + sinGamma * cosGamma\n",
    "    H = cosOmega * (cosGamma * np.sqrt(saturate(squaredSinSigma - squaredCosGamma)) + squaredSinSigma * np.arcsin(cosGamma / sinSigma))\n",
    "    if ((0 <= omega) and (omega < np.pi/2 - sigma)):\n",
    "        sum = term0\n",
    "    elif ((np.pi/2 - sigma <= omega) and (omega < np.pi/2)):\n",
    "        sum = term0 + G - H\n",
    "    elif ((np.pi/2 <= omega) and (omega < np.pi/2 + sigma)):\n",
    "        sum = G + H\n",
    "\n",
    "    sum = sum / np.pi\n",
    "    return sum\n",
    "\n",
    "\n",
    "horizon_clipping_sphere_vec = np.vectorize(horizon_clipping_sphere)\n",
    "sinSigma = np.arange(0.0001, 1, 0.01)\n",
    "cosOmega = np.arange(0.0001, 1, 0.01)\n",
    "sinSigma, cosOmega = np.meshgrid(sinSigma, cosOmega)\n",
    "lut = horizon_clipping_sphere_vec(sinSigma, cosOmega)\n",
    "# fig = plt.figure()\n",
    "# ax = fig.gca(projection='3d')\n",
    "# surf = ax.plot_surface(sinSigma, cosOmega, lut, cmap=cm.coolwarm)\n",
    "# plt.show()\n",
    "\n",
    "ipv.clear()\n",
    "ipv.plot_surface(sinSigma, cosOmega, lut)\n",
    "ipv.show()\n"
   ]
  },
  {
   "cell_type": "code",
   "execution_count": null,
   "metadata": {
    "pycharm": {
     "name": "#%%\n"
    }
   },
   "outputs": [],
   "source": [
    "approx = horizon_clipping_sphere_approx(sinSigma, cosOmega)\n",
    "# fig = plt.figure()\n",
    "# ax = fig.gca(projection='3d')\n",
    "# surf = ax.plot_surface(sinSigma, cosOmega, lut, cmap=cm.coolwarm)\n",
    "# plt.show()\n",
    "\n",
    "ipv.plot_surface(sinSigma, cosOmega, approx)\n",
    "ipv.show()\n"
   ]
  },
  {
   "cell_type": "code",
   "execution_count": null,
   "metadata": {},
   "outputs": [],
   "source": []
  }
 ],
 "metadata": {
  "kernelspec": {
   "display_name": "Python 3",
   "language": "python",
   "name": "python3"
  },
  "language_info": {
   "codemirror_mode": {
    "name": "ipython",
    "version": 3
   },
   "file_extension": ".py",
   "mimetype": "text/x-python",
   "name": "python",
   "nbconvert_exporter": "python",
   "pygments_lexer": "ipython3",
   "version": "3.8.3"
  }
 },
 "nbformat": 4,
 "nbformat_minor": 1
}
