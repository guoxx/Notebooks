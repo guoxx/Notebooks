{
 "cells": [
  {
   "cell_type": "code",
   "execution_count": null,
   "metadata": {},
   "outputs": [],
   "source": [
    "import numpy as np\n",
    "import matplotlib.pyplot as plt\n"
   ]
  },
  {
   "cell_type": "code",
   "execution_count": null,
   "metadata": {},
   "outputs": [],
   "source": [
    "def func(x):\n",
    "    return 2 - 2 * x\n",
    " "
   ]
  },
  {
   "cell_type": "code",
   "execution_count": null,
   "metadata": {},
   "outputs": [],
   "source": [
    "def draw_samples_exact(u):\n",
    "    x = 1 - np.sqrt(1 - u)\n",
    "    pdf = 2 - 2 * x\n",
    "    return x, pdf\n",
    "\n",
    "def draw_samples_p1(u):\n",
    "    return u, np.ones_like(u)\n",
    "\n",
    "def draw_samples_p2(u):\n",
    "    lower_bound = 1e-4\n",
    "    lower_bound = 0\n",
    "    norm = 1 + lower_bound*0.5\n",
    "    x = np.where(u<=1/norm, u*norm/2, (u*norm-1)/lower_bound + 0.5)\n",
    "    pdf = np.where(x<=0.5, 2, lower_bound) / norm\n",
    "    return x, pdf"
   ]
  },
  {
   "cell_type": "code",
   "execution_count": null,
   "metadata": {},
   "outputs": [],
   "source": [
    "num_samples = 1024*64\n",
    "u = np.linspace(0, 1, num_samples)\n",
    "x_p1, pdf_p1 = draw_samples_p1(u)\n",
    "x_p2, pdf_p2 = draw_samples_p2(u)\n",
    "x_exact, pdf_exact = draw_samples_exact(u)\n",
    "\n",
    "plt.figure()\n",
    "plt.plot(u, x_p1, label=\"p1\")\n",
    "plt.plot(u, x_p2, label=\"p2\")\n",
    "plt.plot(u, x_exact, label=\"exact\")\n",
    "plt.legend()\n",
    "\n",
    "\n",
    "plt.figure()\n",
    "plt.xlim(0, 1)\n",
    "plt.ylim(0, 2.5)\n",
    "plt.plot(u, 1/pdf_p1, label=\"p1\")\n",
    "plt.plot(u, 1/pdf_p2, label=\"p2\")\n",
    "plt.plot(u, 1/pdf_exact, label=\"exact\")\n",
    "plt.legend()\n",
    "\n",
    "plt.figure()\n",
    "plt.plot(x_p1, pdf_p1, label=\"p1\")\n",
    "plt.plot(x_p2, pdf_p2, label=\"p2\")\n",
    "plt.plot(x_exact, pdf_exact, label=\"exact\")\n",
    "plt.legend()\n",
    "\n"
   ]
  },
  {
   "cell_type": "code",
   "execution_count": null,
   "metadata": {},
   "outputs": [],
   "source": [
    "def integrate_func(sample_func, num_samples):\n",
    "    u = np.linspace(0, 1, num_samples)\n",
    "    x, pdf = sample_func(u)\n",
    "    y = func(x)\n",
    "    return np.sum(np.where(pdf > 0, y / pdf, 0)) / num_samples\n",
    "\n",
    "print(integrate_func(draw_samples_p1, 4096 * 128))\n",
    "print(integrate_func(draw_samples_p2, 4096 * 128))\n",
    "print(integrate_func(draw_samples_exact, 4096 * 128))\n"
   ]
  },
  {
   "cell_type": "code",
   "execution_count": null,
   "metadata": {},
   "outputs": [],
   "source": [
    "num_samples = 1024*8\n",
    "delta = 1/num_samples\n",
    "u = np.arange(0, 1, delta) + np.random.random_sample([int(num_samples)])*delta\n",
    "x_p1, pdf_p1 = draw_samples_p1(u)\n",
    "x_p2, pdf_p2 = draw_samples_p2(u)\n",
    "x_exact, pdf_exact = draw_samples_exact(u)\n",
    "\n",
    "plt.figure()\n",
    "plt.xlim(0, 1)\n",
    "plt.ylim(0, 3.5)\n",
    "plt.plot(x_p1, 1/pdf_p1, label=\"p1\")\n",
    "plt.plot(x_p2, 1/pdf_p2, label=\"p2\")\n",
    "plt.plot(x_exact, 1/pdf_exact, label=\"exact\")\n",
    "plt.legend()\n"
   ]
  },
  {
   "cell_type": "code",
   "execution_count": null,
   "metadata": {},
   "outputs": [],
   "source": [
    "num_samples = 1024\n",
    "M = 32*32\n",
    "num_rands = (int)(num_samples * M / 2)\n",
    "\n",
    "x_p1, pdf_p1 = draw_samples_p1(np.random.random_sample(num_rands))\n",
    "x_p2, pdf_p2 = draw_samples_p2(np.random.random_sample(num_rands))\n",
    "x = np.append(x_p1, x_p2)\n",
    "pdf = np.append(pdf_p1, pdf_p2)\n",
    "\n",
    "shuffle_idx = np.arange(num_samples*M).astype(int)\n",
    "np.random.shuffle(shuffle_idx)\n",
    "x = x[shuffle_idx]\n",
    "pdf = pdf[shuffle_idx]\n",
    "\n",
    "target_pdf = func(x)\n",
    "weight = np.where(pdf>0, target_pdf/pdf, 0)\n",
    "\n",
    "\n",
    "reservoir = np.zeros(num_samples)\n",
    "weight_sum = np.zeros(num_samples)\n",
    "Z = np.zeros(num_samples)\n",
    "\n",
    "for i in range(M):\n",
    "    idx = np.arange(0, num_samples) + i * num_samples\n",
    "\n",
    "    xi = x[idx]\n",
    "    w = weight[idx]\n",
    "    weight_sum += weight[idx]\n",
    "\n",
    "    Z = Z + np.where(pdf[idx]>0, 1, 0)\n",
    "    u = np.random.random_sample(num_samples)\n",
    "    reservoir = np.where(u * weight_sum < w, xi, reservoir)\n",
    "\n",
    "m = 1/M\n",
    "#m = 1/Z\n",
    "W = 1.0/func(reservoir) * (m * weight_sum)\n",
    "\n",
    "sort_indices = np.argsort(reservoir)\n",
    "plt.plot(reservoir[sort_indices], W[sort_indices], label=\"foo\")\n",
    "\n",
    "plt.plot(x_exact, 1/pdf_exact, label=\"reference\")\n",
    "plt.ylim(0, 3.2)\n",
    "plt.legend()\n"
   ]
  },
  {
   "cell_type": "code",
   "execution_count": null,
   "metadata": {},
   "outputs": [],
   "source": []
  }
 ],
 "metadata": {
  "language_info": {
   "name": "python"
  }
 },
 "nbformat": 4,
 "nbformat_minor": 0
}
