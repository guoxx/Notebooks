{
 "cells": [
  {
   "cell_type": "code",
   "execution_count": null,
   "metadata": {},
   "outputs": [],
   "source": [
    "import math\n",
    "import random\n",
    "\n",
    "def is_prime(num):\n",
    "    factor = 2\n",
    "    while factor * factor <= num:\n",
    "        if num % factor == 0:\n",
    "             return False\n",
    "        factor +=1\n",
    "    return True\n",
    "\n",
    "\n",
    "def nth_prime_number(n):\n",
    "    if n==1:\n",
    "        return 2\n",
    "    count = 1\n",
    "    num = 1\n",
    "    while(count < n):\n",
    "        num +=2 #optimization\n",
    "        if is_prime(num):\n",
    "            count +=1\n",
    "    return num\n",
    "\n",
    "def permutation_table(n):\n",
    "    perm = []\n",
    "    inv_perm = []\n",
    "    for i in range(n):\n",
    "        perm.append(i)\n",
    "        inv_perm.append(i)\n",
    "\n",
    "    random.shuffle(perm)\n",
    "    for i in range(n):\n",
    "        inv_perm[perm[i]] = i\n",
    "    return perm, inv_perm\n",
    "\n",
    "def radical_inverse(base, a, perm=None):\n",
    "    inv_base = 1.0 / base\n",
    "    reversed_digits = 0\n",
    "    inv_base_n = 1.0\n",
    "\n",
    "    while True:\n",
    "        next_ = a // base\n",
    "        digit = a - next_ * base\n",
    "\n",
    "        # apply permutation if required\n",
    "        if perm is not None:\n",
    "            assert(perm[digit] < base)\n",
    "            digit = perm[digit]\n",
    "\n",
    "        reversed_digits = reversed_digits * base + digit\n",
    "        inv_base_n *= inv_base\n",
    "        a = next_\n",
    "\n",
    "        if  a <= 0:\n",
    "            break\n",
    "\n",
    "    inverse = inv_base_n * reversed_digits\n",
    "    assert(inverse < 1.00001);\n",
    "    return inverse\n",
    "\n",
    "def inverse_radical_inverse(base, inverse, num_digits, inv_perm=None):\n",
    "    index = 0\n",
    "    while num_digits > 0:\n",
    "        digit = inverse % base;\n",
    "        if inv_perm is not None:\n",
    "            digit = inv_perm[digit]\n",
    "\n",
    "        inverse = inverse // base\n",
    "        index = index * base + digit\n",
    "        num_digits = num_digits - 1\n",
    "\n",
    "    return index\n"
   ]
  },
  {
   "cell_type": "code",
   "execution_count": null,
   "metadata": {
    "pycharm": {
     "name": "#%%\n"
    }
   },
   "outputs": [],
   "source": [
    "for n in range(1, 20):\n",
    "    base = nth_prime_number(n)\n",
    "    perm, inv_perm = permutation_table(base)\n",
    "    for a in range(100):\n",
    "        radical_inverse(base, a, perm)\n",
    "\n",
    "print(\"done\")"
   ]
  },
  {
   "cell_type": "code",
   "execution_count": null,
   "metadata": {
    "pycharm": {
     "name": "#%%\n"
    },
    "scrolled": true
   },
   "outputs": [],
   "source": [
    "import matplotlib.pyplot as plt\n",
    "\n",
    "plt.figure(figsize=[4,4])\n",
    "\n",
    "ndim = 1\n",
    "perturb = True\n",
    "perm, inv_perm = None, None\n",
    "\n",
    "p = [[],[]]\n",
    "for dim in range(2):\n",
    "    base = nth_prime_number(ndim + dim)\n",
    "    if perturb:\n",
    "        perm, inv_perm = permutation_table(base)\n",
    "\n",
    "    for i in range(256):\n",
    "        p[dim].append(radical_inverse(base, i, perm))\n",
    "\n",
    "plt.scatter(p[0], p[1], color='black', s=2)\n",
    "plt.xlim(0,1)\n",
    "plt.ylim(0,1)\n",
    "plt.show()"
   ]
  },
  {
   "cell_type": "code",
   "execution_count": null,
   "metadata": {
    "pycharm": {
     "name": "#%%\n"
    }
   },
   "outputs": [],
   "source": [
    "def next_power_of_base(base, i):\n",
    "    if i == 0:\n",
    "        return 1, 0\n",
    "\n",
    "    n = base\n",
    "    exp = 1\n",
    "    while n <= i:\n",
    "        n *= base\n",
    "        exp += 1\n",
    "    return n, exp\n",
    "\n",
    "for dim in range(1, 200):\n",
    "    base = nth_prime_number(dim)\n",
    "    perm, inv_perm = permutation_table(base)\n",
    "    for a in range(20000):\n",
    "        s = radical_inverse(base, a, perm)\n",
    "        n, n_digits = next_power_of_base(base, a)\n",
    "        inverse = round(s * n)\n",
    "        a_ = inverse_radical_inverse(base, inverse, n_digits, inv_perm)\n",
    "        if a_ - a != 0:\n",
    "            print(\"error: \", \"a\", a, \"a_\", a_)\n",
    "\n",
    "print(\"done\")\n"
   ]
  },
  {
   "cell_type": "code",
   "execution_count": null,
   "metadata": {
    "pycharm": {
     "name": "#%%\n"
    }
   },
   "outputs": [],
   "source": [
    "import numpy as np\n",
    "\n",
    "def chinese_remainder(n, a):\n",
    "    sum=0\n",
    "    prod=reduce(lambda a, b: a*b, n)\n",
    "    for n_i, a_i in zip(n,a):\n",
    "        p=prod//n_i\n",
    "        sum += a_i* mul_inv(p, n_i)*p\n",
    "    return sum % prod\n",
    "def mul_inv(a, b):\n",
    "    b0= b\n",
    "    x0, x1= 0,1\n",
    "    if b== 1: return 1\n",
    "    while a>1 :\n",
    "        q=a// b\n",
    "        a, b= b, a%b\n",
    "        x0, x1=x1 -q *x0, x0\n",
    "    if x1<0 : x1+= b0\n",
    "    return x1\n",
    "n=[3,5,7]\n",
    "a=[2,3,2]\n",
    "v = chinese_remainder(n,a)\n",
    "\n",
    "print(np.remainder(v, n))"
   ]
  },
  {
   "cell_type": "code",
   "execution_count": null,
   "metadata": {
    "pycharm": {
     "name": "#%%\n"
    }
   },
   "outputs": [],
   "source": [
    "import math\n",
    "import numpy as np\n",
    "import matplotlib.cm as cm\n",
    "from matplotlib.colors import LogNorm\n",
    "import matplotlib.pyplot as plt\n",
    "from functools import reduce\n",
    "\n",
    "\n",
    "def dither17(x, y):\n",
    "    FrameIndexMod4 = 0\n",
    "    v = np.dot(np.array([x, y, FrameIndexMod4]), np.array([2,7,23])/17)\n",
    "    return math.fmod(v, 1.0)\n",
    "\n",
    "def ign(x, y):\n",
    "    return math.fmod(52.9829189 * math.fmod(0.06711056*x + 0.00583715*y, 1.0), 1.0)\n",
    "\n",
    "pow = np.zeros(2)\n",
    "exp = np.zeros(2)\n",
    "for i in [0,1]:\n",
    "    pow[i], exp[i] = next_power_of_base(nth_prime_number(i + 1), rez-1)\n",
    "\n",
    "perm, inv_perm = None, None\n",
    "\n",
    "def pixel(s, t, rez):\n",
    "    # return dither17(s, t)\n",
    "#     return ign(s,t)\n",
    "#     return (s + t * rez + np.random.rand(1)) / (rez**2)\n",
    "#     i = t * rez + s\n",
    "#     return math.fmod(.618033988749894 * i, 1)\n",
    "    # return math.fmod(n, 1)\n",
    "    # return np.random.rand(1)\n",
    "    idx = np.zeros(2)\n",
    "    for i in [0,1]:\n",
    "        prime = nth_prime_number(i + 1)\n",
    "        a = s if i == 0 else t\n",
    "        idx[i] = inverse_radical_inverse(prime, a, exp[i], inv_perm)\n",
    "\n",
    "        # sanity check\n",
    "        a_ = np.round(radical_inverse(prime, idx[i], perm) * pow[i])\n",
    "        assert a == a_\n",
    "\n",
    "    a = int(chinese_remainder(pow, idx))\n",
    "    # a = t * rez + s\n",
    "    dim = 3\n",
    "    base = nth_prime_number(dim)\n",
    "    return radical_inverse(base, a)\n",
    "\n",
    "rez = 128\n",
    "bitmap = np.zeros((rez,rez))\n",
    "for t in range(rez):\n",
    "    for s in range(rez):\n",
    "        bitmap[t][s] = pixel(s, t, rez)\n",
    "\n",
    "plt.figure(figsize=[6,6])\n",
    "plt.imshow(bitmap, cmap=cm.gray)\n",
    "plt.show()\n",
    "\n",
    "\n",
    "freq = np.fft.fft2(bitmap).real\n",
    "freq = np.abs(freq)\n",
    "\n",
    "plt.figure(figsize=[6,6])\n",
    "# plt.imshow(freq, norm=LogNorm(vmin=5))\n",
    "plt.imshow(freq, norm=LogNorm(vmin=2), cmap=cm.gray)\n",
    "plt.show()\n"
   ]
  },
  {
   "cell_type": "code",
   "execution_count": null,
   "metadata": {
    "pycharm": {
     "name": "#%%\n"
    }
   },
   "outputs": [],
   "source": [
    "import ipyvolume as ipv\n",
    "\n",
    "\n",
    "x=np.arange(rez)\n",
    "y=np.arange(rez)\n",
    "x,y = np.meshgrid(x, y)\n",
    "ipv.clear()\n",
    "ipv.plot_surface(x,y,freq)\n",
    "ipv.zlim(0,800)\n",
    "ipv.show()\n"
   ]
  },
  {
   "cell_type": "code",
   "execution_count": null,
   "metadata": {},
   "outputs": [],
   "source": []
  }
 ],
 "metadata": {
  "kernelspec": {
   "display_name": "Python 3",
   "language": "python",
   "name": "python3"
  },
  "language_info": {
   "codemirror_mode": {
    "name": "ipython",
    "version": 3
   },
   "file_extension": ".py",
   "mimetype": "text/x-python",
   "name": "python",
   "nbconvert_exporter": "python",
   "pygments_lexer": "ipython3",
   "version": "3.8.5"
  }
 },
 "nbformat": 4,
 "nbformat_minor": 4
}
