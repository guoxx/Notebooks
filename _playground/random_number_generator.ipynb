{
 "cells": [
  {
   "cell_type": "code",
   "execution_count": null,
   "metadata": {},
   "outputs": [],
   "source": [
    "import math\n",
    "import random\n",
    "\n",
    "def is_prime(num):\n",
    "    factor = 2\n",
    "    while factor * factor <= num:\n",
    "        if num % factor == 0:\n",
    "             return False\n",
    "        factor +=1\n",
    "    return True\n",
    "\n",
    "\n",
    "def nth_prime_number(n):\n",
    "    if n==1:\n",
    "        return 2\n",
    "    count = 1\n",
    "    num = 1\n",
    "    while(count < n):\n",
    "        num +=2 #optimization\n",
    "        if is_prime(num):\n",
    "            count +=1\n",
    "    return num\n",
    "\n",
    "def permutation_table(n):\n",
    "    tbl = []\n",
    "    for i in range(n):\n",
    "        tbl.append(i)\n",
    "    random.shuffle(tbl)\n",
    "    return tbl\n",
    "\n",
    "def radical_inverse(base, a, permutation=None):\n",
    "    assert isinstance(base, int)\n",
    "    assert isinstance(a, int)\n",
    "\n",
    "    if a == 0:\n",
    "        return 0.0\n",
    "\n",
    "    v = 0.0\n",
    "    n = math.ceil(math.log(a * (base - 1) / base + 1, base))\n",
    "    for i in range(n + 1):\n",
    "        x = math.floor(a / base**i) % base\n",
    "        if permutation is not None:\n",
    "            x = permutation[x]\n",
    "        v += x / base**(i+1)\n",
    "    return v"
   ]
  },
  {
   "cell_type": "code",
   "execution_count": null,
   "metadata": {
    "pycharm": {
     "name": "#%%\n"
    }
   },
   "outputs": [],
   "source": [
    "# first few numbers of van de Corput sequence (base 2)\n",
    "base = 2\n",
    "for a in range(10):\n",
    "    print(radical_inverse(base, a) * 8)"
   ]
  },
  {
   "cell_type": "code",
   "execution_count": null,
   "metadata": {
    "pycharm": {
     "name": "#%%\n"
    },
    "scrolled": true
   },
   "outputs": [],
   "source": [
    "import matplotlib.pyplot as plt\n",
    "\n",
    "plt.figure(figsize=[4,4])\n",
    "\n",
    "# start_dim = 0\n",
    "ndim = 1\n",
    "perturb = False\n",
    "permutation_lut = {}\n",
    "\n",
    "for i in range(256):\n",
    "    p = [0,0]\n",
    "    for dim in range(2):\n",
    "        base = nth_prime_number(ndim + dim)\n",
    "\n",
    "        lut = None\n",
    "        if perturb:\n",
    "            lut = permutation_lut.get(base)\n",
    "            if lut is None:\n",
    "                lut = permutation_table(base)\n",
    "                permutation_lut[base] = lut\n",
    "\n",
    "        p[dim] = radical_inverse(base, i, lut)\n",
    "\n",
    "    plt.scatter(p[0], p[1], color='black', s=2)\n",
    "\n",
    "plt.xlim(0,1)\n",
    "plt.ylim(0,1)\n",
    "plt.show()"
   ]
  },
  {
   "cell_type": "code",
   "execution_count": null,
   "metadata": {
    "pycharm": {
     "name": "#%%\n"
    }
   },
   "outputs": [],
   "source": [
    "import numpy as np\n",
    "import matplotlib.cm as cm\n",
    "import matplotlib.pyplot as plt\n",
    "\n",
    "ndim = 1\n",
    "rez = 8\n",
    "samples = np.zeros((rez,rez))\n",
    "print(samples.shape)\n",
    "\n",
    "for row in range(rez):\n",
    "    for col in range(rez):\n",
    "        a = row * rez + col\n",
    "        base = nth_prime_number(ndim)\n",
    "        samples[row][col] = radical_inverse(base, a)\n",
    "\n",
    "plt.figure(figsize=[4,4])\n",
    "plt.imshow(samples, cmap=cm.gray)\n",
    "plt.show()"
   ]
  },
  {
   "cell_type": "code",
   "execution_count": null,
   "metadata": {
    "pycharm": {
     "name": "#%%\n"
    }
   },
   "outputs": [],
   "source": []
  }
 ],
 "metadata": {
  "kernelspec": {
   "display_name": "Python 3",
   "language": "python",
   "name": "python3"
  },
  "language_info": {
   "codemirror_mode": {
    "name": "ipython",
    "version": 3
   },
   "file_extension": ".py",
   "mimetype": "text/x-python",
   "name": "python",
   "nbconvert_exporter": "python",
   "pygments_lexer": "ipython3",
   "version": "3.8.5"
  }
 },
 "nbformat": 4,
 "nbformat_minor": 4
}