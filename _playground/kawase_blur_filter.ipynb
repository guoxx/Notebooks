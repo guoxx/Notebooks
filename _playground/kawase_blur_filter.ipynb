{
 "cells": [
  {
   "cell_type": "code",
   "execution_count": null,
   "metadata": {
    "pycharm": {
     "name": "#%%\n"
    }
   },
   "outputs": [],
   "source": [
    "import numpy as np\n",
    "import matplotlib.pyplot as plt\n",
    "from scipy.signal import convolve2d"
   ]
  },
  {
   "cell_type": "code",
   "execution_count": null,
   "metadata": {},
   "outputs": [],
   "source": [
    "def gaussianCoeff(x, kernelWidth):\n",
    "    rcpSigma = 3 / kernelWidth\n",
    "    p = x * rcpSigma\n",
    "    return np.sqrt(1.0/2/np.pi) * rcpSigma * np.exp(-0.5*p*p)\n",
    "\n",
    "\n",
    "def cmain():\n",
    "    k = 23\n",
    "    x = np.arange(-k, k+1, 1)\n",
    "    y = gaussianCoeff(x, k)\n",
    "    plt.bar(x, y)\n",
    "    plt.show()\n",
    "\n",
    "    print(y/y.sum())\n",
    "\n",
    "cmain()"
   ]
  },
  {
   "cell_type": "code",
   "execution_count": null,
   "metadata": {
    "pycharm": {
     "name": "#%%\n"
    }
   },
   "outputs": [],
   "source": [
    "from matplotlib import cm\n",
    "\n",
    "def draw_bar3d(data):\n",
    "    fig = plt.figure()\n",
    "    ax = fig.add_subplot(111)\n",
    "    #ax.imshow(data, cmap=\"Greys\")\n",
    "    ax.imshow(data)\n",
    "    return ax\n",
    "\n",
    "    fig = plt.figure()\n",
    "    ax1 = fig.add_subplot(111, projection='3d')\n",
    "\n",
    "    nx = data.shape[0]\n",
    "    ny = data.shape[1]\n",
    "    x = np.arange(0, nx)\n",
    "    y = np.arange(0, ny)\n",
    "    x, y = np.meshgrid(x, y)\n",
    "    ax1.plot_surface(x, y, data)\n",
    "    return ax1"
   ]
  },
  {
   "cell_type": "code",
   "execution_count": null,
   "metadata": {
    "pycharm": {
     "name": "#%%\n"
    }
   },
   "outputs": [],
   "source": [
    "def fetch(data, s, t):\n",
    "    w = data.shape[1]\n",
    "    h = data.shape[0]\n",
    "    s = np.minimum(np.maximum(s, 0), w - 1)\n",
    "    t = np.minimum(np.maximum(t, 0), h - 1)\n",
    "    lin_data = data.reshape(-1)\n",
    "    return lin_data[t * w + s]\n",
    "\n",
    "def sample(data, u, v):\n",
    "    s = u * data.shape[1] - 0.5\n",
    "    t = v * data.shape[0] - 0.5\n",
    "\n",
    "    s0 = s.astype(int)\n",
    "    ds = s - s0\n",
    "\n",
    "    t0 = t.astype(int)\n",
    "    dt = t - t0\n",
    "\n",
    "    return (1 - ds) * (1 - dt) * fetch(data, s0, t0) + \\\n",
    "           (1 - ds) * dt * fetch(data, s0, t0 + 1) + \\\n",
    "           ds * (1 - dt) * fetch(data, s0 + 1, t0) + \\\n",
    "           ds * dt * fetch(data, s0 + 1, t0 + 1)\n",
    "\n",
    "def downsample(prev_mip, a_weight):\n",
    "    w = np.floor(prev_mip.shape[1] * 0.5).astype(int)\n",
    "    h = np.floor(prev_mip.shape[0] * 0.5).astype(int)\n",
    "\n",
    "    s = np.arange(0, w)\n",
    "    t = np.arange(0, h)\n",
    "    s, t = np.meshgrid(s, t)\n",
    "\n",
    "    half_pixel_u = 0.5/w\n",
    "    half_pixel_v = 0.5/h\n",
    "\n",
    "    u = s / w + half_pixel_u\n",
    "    v = t / h + half_pixel_v\n",
    "\n",
    "    accum  = sample(prev_mip, u, v) * a_weight\n",
    "    accum += sample(prev_mip, u - half_pixel_u, v - half_pixel_v)\n",
    "    accum += sample(prev_mip, u - half_pixel_u, v + half_pixel_v)\n",
    "    accum += sample(prev_mip, u + half_pixel_u, v + half_pixel_v)\n",
    "    accum += sample(prev_mip, u + half_pixel_u, v - half_pixel_v)\n",
    "    return accum / (4 + a_weight) * 2\n",
    "\n",
    "def upsample(prev_mip, b_weight, sample_radius):\n",
    "    w = np.floor(prev_mip.shape[1] * 2).astype(int)\n",
    "    h = np.floor(prev_mip.shape[0] * 2).astype(int)\n",
    "\n",
    "    s = np.arange(0, w)\n",
    "    t = np.arange(0, h)\n",
    "    s, t = np.meshgrid(s, t)\n",
    "\n",
    "    half_pixel_u = 0.5/w\n",
    "    half_pixel_v = 0.5/h\n",
    "\n",
    "    u = s / w + half_pixel_u\n",
    "    v = t / h + half_pixel_v\n",
    "\n",
    "    accum = sample(prev_mip, u, v) * b_weight * 2\n",
    "    accum += sample(prev_mip, u - half_pixel_u * sample_radius * 2.0, v)\n",
    "    accum += sample(prev_mip, u - half_pixel_u * sample_radius, v + half_pixel_v * sample_radius) * b_weight\n",
    "    accum += sample(prev_mip, u, v + half_pixel_v * sample_radius * 2.0)\n",
    "    accum += sample(prev_mip, u + half_pixel_u * sample_radius, v + half_pixel_v * sample_radius) * b_weight\n",
    "    accum += sample(prev_mip, u + half_pixel_u * sample_radius * 2.0, v)\n",
    "    accum += sample(prev_mip, u + half_pixel_u * sample_radius, v - half_pixel_v * sample_radius) * b_weight\n",
    "    accum += sample(prev_mip, u, v - half_pixel_v * sample_radius * 2.0)\n",
    "    accum += sample(prev_mip, u - half_pixel_u * sample_radius, v - half_pixel_v * sample_radius) * b_weight\n",
    "    return  accum / (4 + 6 * b_weight) /4\n",
    "\n",
    "def bilinear_upsample(prev_mip):\n",
    "    w = np.floor(prev_mip.shape[1] * 2).astype(int)\n",
    "    h = np.floor(prev_mip.shape[0] * 2).astype(int)\n",
    "\n",
    "    s = np.arange(0, w)\n",
    "    t = np.arange(0, h)\n",
    "    s, t = np.meshgrid(s, t)\n",
    "\n",
    "    half_pixel_u = 0.5/w\n",
    "    half_pixel_v = 0.5/h\n",
    "\n",
    "    u = s / w + half_pixel_u\n",
    "    v = t / h + half_pixel_v\n",
    "\n",
    "    accum = sample(prev_mip, u, v)\n",
    "    return accum\n",
    "\n",
    "\n",
    "def kawase_dual_filter(input, iter_cnt, a_weight, b_weight, upsample_radius, plot=False):\n",
    "    iter_ = iter_cnt\n",
    "    last_mip = input\n",
    "    for next_mip_level in np.arange(1, iter_+1):\n",
    "        tmp = downsample(last_mip, a_weight)\n",
    "        last_mip = tmp\n",
    "        # print(last_mip)\n",
    "        # print(np.sum(last_mip))\n",
    "        if plot:\n",
    "            print(last_mip.shape)\n",
    "            ax = draw_bar3d(last_mip)\n",
    "            ax.set_title(\"mip \" + str(next_mip_level))\n",
    "            plt.show()\n",
    "\n",
    "    prev_mip = last_mip\n",
    "    iter_ = iter_cnt\n",
    "    for next_mip_level in np.arange(1, iter_):\n",
    "        tmp = upsample(prev_mip, b_weight, upsample_radius)\n",
    "        prev_mip = tmp\n",
    "        # print(np.sum(prev_mip))\n",
    "        if plot:\n",
    "            print(prev_mip.shape)\n",
    "            ax = draw_bar3d(prev_mip)\n",
    "            ax.set_title(\"mip \" + str(iter_ - next_mip_level) + \", size \")\n",
    "            plt.show()\n",
    "\n",
    "    prev_mip = bilinear_upsample(prev_mip)\n",
    "    if plot:\n",
    "        print(prev_mip.shape)\n",
    "        draw_bar3d(prev_mip).set_title(\"mip 0\")\n",
    "        plt.show()\n",
    "\n",
    "    # prev_mip = prev_mip[0: data_1d_gaussian_filtered.shape[0]]\n",
    "    prev_mip = prev_mip/np.sum(prev_mip)\n",
    "    return prev_mip\n",
    "\n",
    "def get_kawase_kernel_size(output_data):\n",
    "    masked = output_data * (output_data > np.max(output_data) * 0.001).astype(float)\n",
    "    return np.max(np.count_nonzero(masked, axis=0))\n",
    "\n",
    "def get_kawase_kernel_size_empirical(iteration_cnt):\n",
    "    # based on statistics data with upsample radius 2\n",
    "    lut = [0, 7, 23, 49, 99, 199, 397, 795]\n",
    "    return lut[iteration_cnt]\n",
    "    # return 2 ** (iteration_cnt + 2)\n",
    "\n",
    "def compact_kawase_kernel(filter_kernel):\n",
    "    w = filter_kernel.shape[1]\n",
    "    h = filter_kernel.shape[0]\n",
    "    hw = int(w * 0.5)\n",
    "    hh = int(h * 0.5)\n",
    "    kernel_width = get_kawase_kernel_size(filter_kernel)\n",
    "    kernel_width = int(kernel_width/2)\n",
    "    return filter_kernel[hh-kernel_width:hh+kernel_width+1, hw-kernel_width:hw+kernel_width+1]"
   ]
  },
  {
   "cell_type": "code",
   "execution_count": null,
   "metadata": {
    "pycharm": {
     "name": "#%%\n"
    }
   },
   "outputs": [],
   "source": [
    "kernel_radius = 256\n",
    "kernel_size = kernel_radius * 2\n",
    "data_impulse = np.zeros([kernel_size, kernel_size])\n",
    "data_impulse[kernel_radius][kernel_radius] = 1\n",
    "# draw_bar3d(data_impulse)\n",
    "# plt.show()\n",
    "\n",
    "kawase_iter = 6\n",
    "a_weight = 4\n",
    "b_weight = 2\n",
    "upsample_radius = 2\n",
    "\n",
    "kawase_filtered = kawase_dual_filter(data_impulse, kawase_iter, a_weight, b_weight, upsample_radius, plot=False)\n",
    "draw_bar3d(kawase_filtered)\n",
    "plt.show()\n",
    "\n",
    "kernel_size = get_kawase_kernel_size(kawase_filtered)\n",
    "print(kernel_size)\n",
    "print(get_kawase_kernel_size_empirical(kawase_iter))"
   ]
  },
  {
   "cell_type": "code",
   "execution_count": null,
   "metadata": {
    "pycharm": {
     "is_executing": true,
     "name": "#%%\n"
    }
   },
   "outputs": [],
   "source": [
    "kawase_iter = 4\n",
    "a_weight = 4\n",
    "b_weight = 2\n",
    "upsample_radius = 2\n",
    "\n",
    "kawase_filtered = kawase_dual_filter(data_impulse, kawase_iter, a_weight, b_weight, upsample_radius)\n",
    "draw_bar3d(kawase_filtered)\n",
    "plt.show()\n",
    "\n",
    "# kawase_filtered_compact = compact_kawase_kernel(kawase_filtered)\n",
    "# draw_bar3d(kawase_filtered_compact)\n",
    "# plt.show()\n",
    "\n",
    "kernel_size = get_kawase_kernel_size(kawase_filtered)\n",
    "print(kernel_size)\n",
    "print(get_kawase_kernel_size_empirical(kawase_iter))\n",
    "\n",
    "gaussian_kernel_radius = get_kawase_kernel_size_empirical(kawase_iter) / 2\n",
    "print(gaussian_kernel_radius)\n",
    "gaussian_filter_x = gaussianCoeff(np.arange(-gaussian_kernel_radius, gaussian_kernel_radius+1), gaussian_kernel_radius)\n",
    "gaussian_filter_y = gaussianCoeff(np.arange(-gaussian_kernel_radius, gaussian_kernel_radius+1), gaussian_kernel_radius)\n",
    "gaussian_filter_x, gaussian_filter_y = np.meshgrid(gaussian_filter_x, gaussian_filter_y)\n",
    "gaussian_filter = gaussian_filter_x * gaussian_filter_y\n",
    "gaussian_filter /= np.sum(gaussian_filter)\n",
    "# draw_bar3d(gaussian_filter)\n",
    "# plt.show()\n",
    "\n",
    "gaussian_filtered_ = convolve2d(data_impulse, gaussian_filter, mode=\"same\")\n",
    "# gaussian_filtered_ = gaussian_filtered_[kernel_radius - gaussian_kernel_radius: kernel_radius + gaussian_kernel_radius, kernel_radius - gaussian_kernel_radius : kernel_radius + gaussian_kernel_radius]\n",
    "draw_bar3d(gaussian_filtered_)\n",
    "plt.show()"
   ]
  },
  {
   "cell_type": "code",
   "execution_count": null,
   "metadata": {
    "pycharm": {
     "name": "#%%\n"
    }
   },
   "outputs": [],
   "source": [
    "get_kawase_kernel_size(gaussian_filtered_)"
   ]
  },
  {
   "cell_type": "code",
   "execution_count": null,
   "metadata": {
    "pycharm": {
     "name": "#%%\n"
    }
   },
   "outputs": [],
   "source": [
    "from scipy import optimize\n",
    "\n",
    "def loss(params):\n",
    "    a_weight, b_weight, upsample_radius = params\n",
    "    kawase_filtered = kawase_dual_filter(data_impulse, kawase_iter, a_weight, b_weight, upsample_radius)\n",
    "    shape_offset = ((np.array(kawase_filtered.shape) - np.array(gaussian_filtered_.shape)) * 0.5).astype(int)\n",
    "    kawase_filtered = kawase_filtered[shape_offset[0]: gaussian_filtered_.shape[0] + shape_offset[0],\n",
    "                                      shape_offset[1]: gaussian_filtered_.shape[1] + shape_offset[1]]\n",
    "    diff = kawase_filtered - gaussian_filtered_\n",
    "    return np.mean(np.abs(diff)**4)\n",
    "\n",
    "initial_guess = [4,2,2]\n",
    "result = optimize.minimize(loss, initial_guess, method=\"Nelder-Mead\")\n",
    "print(result)\n",
    "# plt.plot(x, y, label=\"exact\")\n",
    "# plt.plot(x, y_, label=\"approx\")\n",
    "# plt.legend()\n",
    "# plt.show()\n",
    "\n"
   ]
  },
  {
   "cell_type": "code",
   "execution_count": null,
   "metadata": {
    "pycharm": {
     "name": "#%%\n"
    }
   },
   "outputs": [],
   "source": [
    "\n",
    "approx = kawase_dual_filter(data_impulse, kawase_iter, result.x[0], result.x[1], result.x[2])\n",
    "draw_bar3d(approx)\n",
    "plt.show()\n",
    "\n",
    "draw_bar3d(gaussian_filtered_)\n",
    "plt.show()\n",
    "\n",
    "approx_compact = compact_kawase_kernel(approx)\n",
    "ax = draw_bar3d(approx_compact)\n",
    "ax.set_title(\"kawase dual\")\n",
    "plt.show()\n",
    "\n",
    "ax = draw_bar3d(gaussian_filter)\n",
    "ax.set_title(\"gaussian\")\n",
    "plt.show()\n",
    "\n",
    "diff = np.abs(compact_kawase_kernel(approx - gaussian_filtered_))\n",
    "ax = draw_bar3d(diff)\n",
    "ax.set_zlim(0,np.max(gaussian_filter))\n",
    "ax.set_title(\"diff\")\n",
    "plt.show()\n"
   ]
  },
  {
   "cell_type": "code",
   "execution_count": null,
   "metadata": {
    "pycharm": {
     "name": "#%%\n"
    }
   },
   "outputs": [],
   "source": [
    "get_kawase_kernel_size_empirical(kawase_iter)"
   ]
  },
  {
   "cell_type": "code",
   "execution_count": null,
   "metadata": {
    "pycharm": {
     "name": "#%%\n"
    }
   },
   "outputs": [],
   "source": [
    "[7.0242585 , 1.52714585, 2.44185195]\n",
    "[5.69430406, 1.40275451, 2.37575196]\n",
    "[5.1570802 , 1.53785764, 2.37161158]\n",
    "[4.88042859, 1.69690314, 2.40855495]\n"
   ]
  }
 ],
 "metadata": {
  "kernelspec": {
   "display_name": "Python 3",
   "language": "python",
   "name": "python3"
  },
  "language_info": {
   "codemirror_mode": {
    "name": "ipython",
    "version": 3
   },
   "file_extension": ".py",
   "mimetype": "text/x-python",
   "name": "python",
   "nbconvert_exporter": "python",
   "pygments_lexer": "ipython3",
   "version": "3.8.5"
  }
 },
 "nbformat": 4,
 "nbformat_minor": 1
}