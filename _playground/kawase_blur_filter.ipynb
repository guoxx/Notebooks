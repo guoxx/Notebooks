{
 "cells": [
  {
   "cell_type": "code",
   "execution_count": null,
   "metadata": {
    "pycharm": {
     "name": "#%%\n"
    }
   },
   "outputs": [],
   "source": [
    "import numpy as np\n",
    "import matplotlib.pyplot as plt"
   ]
  },
  {
   "cell_type": "code",
   "execution_count": null,
   "metadata": {},
   "outputs": [],
   "source": [
    "def gaussianCoeff(x, kernelWidth):\n",
    "    rcpSigma = 3 / kernelWidth\n",
    "    p = x * rcpSigma\n",
    "    return np.sqrt(1.0/2/np.pi) * rcpSigma * np.exp(-0.5*p*p)\n",
    "\n",
    "\n",
    "def cmain():\n",
    "    k = 23\n",
    "    x = np.arange(-k, k+1, 1)\n",
    "    y = gaussianCoeff(x, k)\n",
    "    plt.bar(x, y)\n",
    "    plt.show()\n",
    "\n",
    "    print(y/y.sum())\n",
    "\n",
    "cmain()"
   ]
  },
  {
   "cell_type": "code",
   "execution_count": null,
   "metadata": {
    "pycharm": {
     "name": "#%%\n"
    }
   },
   "outputs": [],
   "source": [
    "def right_bound(iter_, x):\n",
    "    if iter_ <= 0:\n",
    "        return x\n",
    "    return right_bound(iter_ - 1, 2 * x + 2)\n",
    "\n",
    "def left_bound(iter_, x):\n",
    "    if iter_ == 0:\n",
    "        return x\n",
    "    return left_bound(iter_ - 1, 2 * x - 1)\n",
    "\n",
    "def calc_kernel_size(k):\n",
    "    return 2**(k + 1) + 2**(k) - 2\n",
    "\n",
    "w = 2\n",
    "base_coeff = np.array([1, w+1, w+1, 1])\n",
    "\n",
    "def fill_coeff(iter_, x, pw, offset, coeff):\n",
    "    x_start = 2*x-1\n",
    "    x_end = 2*x+2\n",
    "\n",
    "    if iter_ <= 1:\n",
    "        for x_i in range(x_start, x_end + 1):\n",
    "            coeff[x_i+offset] += base_coeff[x_i - x_start] * pw\n",
    "    else:\n",
    "        for x_i in range(x_start, x_end + 1):\n",
    "            fill_coeff(iter_ - 1, x_i, base_coeff[x_i - x_start], offset, coeff)\n",
    "\n",
    "def cmain():\n",
    "    iteration = 4\n",
    "    kernel_size = calc_kernel_size(iteration)\n",
    "    lbound = left_bound(iteration, 0)\n",
    "    rbound = right_bound(iteration, 0)\n",
    "    coeff = np.zeros([kernel_size])\n",
    "    fill_coeff(iteration, 0, 1, -lbound, coeff)\n",
    "    coeff /= np.sum(coeff)\n",
    "    x = np.arange(0, kernel_size)\n",
    "    # print(x)\n",
    "    plt.bar(x, coeff)\n",
    "    plt.show()\n",
    "\n",
    "    print(lbound)\n",
    "    print(rbound)\n",
    "    print(kernel_size)\n",
    "    # print(coeff)\n",
    "    # print(lbound, rbound, rbound - lbound + 1)\n",
    "\n",
    "cmain()"
   ]
  },
  {
   "cell_type": "code",
   "execution_count": null,
   "metadata": {
    "pycharm": {
     "name": "#%%\n"
    }
   },
   "outputs": [],
   "source": [
    "\n",
    "\n",
    "\n"
   ]
  }
 ],
 "metadata": {
  "kernelspec": {
   "display_name": "Python 3",
   "language": "python",
   "name": "python3"
  },
  "language_info": {
   "codemirror_mode": {
    "name": "ipython",
    "version": 3
   },
   "file_extension": ".py",
   "mimetype": "text/x-python",
   "name": "python",
   "nbconvert_exporter": "python",
   "pygments_lexer": "ipython3",
   "version": "3.8.5"
  }
 },
 "nbformat": 4,
 "nbformat_minor": 1
}
