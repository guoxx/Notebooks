{
 "cells": [
  {
   "cell_type": "markdown",
   "metadata": {},
   "source": [
    "# Polygonal Area Light With Linearly Transformed Cosines\n",
    "\n",
    "## Polygonal diffusion light with lambert diffuse model\n",
    "\n",
    "Solved by Johann Heinrich Lambert in 18th century. \n",
    "\n",
    "$$\n",
    "E(p_1, ..., p_n) = \\frac 1 {2 \\pi} \\sum_{i=1}^{n} acos(\\langle p_i, p_j \\rangle) \\langle {\\frac {p_i \\times p_j} {\\| {p_i \\times p_j} \\|} }, {\\begin{bmatrix} 0\\\\ 0\\\\ 1\\\\ \\end{bmatrix}} \\rangle \\quad \\textrm{where} \\quad j = i + 1\n",
    "$$\n",
    "\n",
    "\n",
    "## Polygonal diffusion light for microfacet model\n",
    "\n",
    "### Approximate GGX distribution and Smith shadowing term with linearly transformed cosines"
   ]
  },
  {
   "cell_type": "code",
   "execution_count": 9,
   "metadata": {},
   "outputs": [
    {
     "data": {
      "application/vnd.jupyter.widget-view+json": {
       "model_id": "de8ae478e8b44cceb3abe1db28a8ac1f",
       "version_major": 2,
       "version_minor": 0
      },
      "text/plain": [
       "A Jupyter Widget"
      ]
     },
     "metadata": {},
     "output_type": "display_data"
    },
    {
     "data": {
      "text/plain": [
       "<function __main__.func>"
      ]
     },
     "execution_count": 9,
     "metadata": {},
     "output_type": "execute_result"
    }
   ],
   "source": [
    "import numpy as np\n",
    "import matplotlib.pyplot as plt\n",
    "from mpl_toolkits.mplot3d import Axes3D\n",
    "from matplotlib import cm, colors\n",
    "import ipywidgets as widgets\n",
    "\n",
    "\n",
    "def func(a, b, c, d):\n",
    "    grid_res_x = 64\n",
    "    grid_res_y = grid_res_x\n",
    "\n",
    "    # convention of scipy: theta is the azimuthal angle and phi is the polar angle\n",
    "    phi = np.linspace(0, np.pi, num=grid_res_x)\n",
    "    theta = np.linspace(0, 2*np.pi, num=grid_res_y)\n",
    "    phi, theta = np.meshgrid(phi, theta)\n",
    "\n",
    "    x = np.sin(phi) * np.cos(theta)\n",
    "    y = np.sin(phi) * np.sin(theta)\n",
    "    z = np.cos(phi)\n",
    "\n",
    "    fig = plt.figure(figsize=[8, 8])\n",
    "\n",
    "    ax = fig.add_subplot(111, projection='3d')\n",
    "    ax.set_xlabel('X')\n",
    "    ax.set_ylabel('Y')\n",
    "    ax.set_zlabel('Z')\n",
    "\n",
    "    trans = [[a, 0, b],\n",
    "             [0, c, 0],\n",
    "             [d, 0, 1]]\n",
    "    inv_trans = np.linalg.inv(trans)\n",
    "\n",
    "    # clamped cosine lobe\n",
    "    dist = np.maximum(z, 0)\n",
    "\n",
    "    x_copy = np.array(x)\n",
    "    y_copy = np.array(y)\n",
    "    z_copy = np.array(z)\n",
    "    for row in range(grid_res_y):\n",
    "        for colum in range(grid_res_x):\n",
    "            px = x[row][colum]\n",
    "            py = y[row][colum]\n",
    "            pz = z[row][colum]\n",
    "\n",
    "            new_pt = np.dot(inv_trans, [px, py, pz])\n",
    "            new_pt = new_pt / np.linalg.norm(new_pt)\n",
    "\n",
    "            x_copy[row][colum] = new_pt[0]\n",
    "            y_copy[row][colum] = new_pt[1]\n",
    "            z_copy[row][colum] = new_pt[2]\n",
    "\n",
    "    dist = np.maximum(z_copy, 0)\n",
    "\n",
    "    surf = ax.plot_surface(x, y, z, facecolors=cm.jet(dist), rcount=grid_res_x, ccount=grid_res_y)\n",
    "\n",
    "    plt.show()\n",
    "\n",
    "value_limit = 1\n",
    "a = widgets.FloatSlider(min=0,max=value_limit,step=0.1,value=0.8)\n",
    "b = widgets.FloatSlider(min=-1,max=value_limit,step=0.1,value=0.9)\n",
    "c = widgets.FloatSlider(min=0,max=value_limit,step=0.1,value=0.2)\n",
    "d = widgets.FloatSlider(min=0,max=value_limit,step=0.1,value=0)\n",
    "widgets.interact(func, a=a, b=b, c=c, d=d)"
   ]
  },
  {
   "cell_type": "markdown",
   "metadata": {},
   "source": [
    "### [Approximate Fresnel term separately](http://blog.selfshadow.com/publications/s2016-advances/s2016_ltc_fresnel.pdf)\n",
    "\n",
    "### Put together\n",
    "\n",
    "HLSL code\n",
    "```\n",
    "    float theta = acos(dot(N, V));\n",
    "    float2 uv = float2(roughness, theta / (0.5 * M_PIf));\n",
    "    uv = uv * LUT_SCALE + LUT_BIAS;\n",
    "\n",
    "    const float4 t = ltcMat.Sample(ltcSamp, coord);\n",
    "    float3x3 invM = float3x3(\n",
    "        float3(  1,   0, t.y),\n",
    "        float3(  0, t.z,   0),\n",
    "        float3(t.w,   0, t.x)\n",
    "    );\n",
    "\n",
    "    float res = ltcEvaluate(N, V, P, invM, points, false);\n",
    "\n",
    "    /* Apply BRDF scale terms (BRDF magnitude and Schlick Fresnel) */\n",
    "    const float2 schlick = ltcAmp.Sample(ltcSamp, uv).xy;\n",
    "    res *= (F0 * schlick.x + (1.0 - F0) * schlick.y);\n",
    "```"
   ]
  },
  {
   "cell_type": "markdown",
   "metadata": {},
   "source": [
    "## References\n",
    "\n",
    "* [Real-Time Polygonal-Light Shading with Linearly Transformed Cosines](https://eheitzresearch.wordpress.com/415-2/)\n",
    "* [Real-Time Area Lighting: a Journey From Research to Production](http://blog.selfshadow.com/publications/s2016-advances/)\n",
    "* [Real-Time Line- and Disk-Light Shading with Linearly Transformed Cosines](https://labs.unity.com/article/real-time-line-and-disk-light-shading-linearly-transformed-cosines)\n",
    "* [paper](LTC/LTC.pdf)\n",
    "* [slides](LTC/slides.pdf)\n",
    "* [supplemental: MATLAB](LTC/supplemental_matlab.pdf)\n",
    "* [WebGL Demo](http://blog.selfshadow.com/sandbox/ltc.html)\n",
    "* [BRDF fitting code](LTC/fit.zip)"
   ]
  }
 ],
 "metadata": {
  "kernelspec": {
   "display_name": "Python 3",
   "language": "python",
   "name": "python3"
  },
  "language_info": {
   "codemirror_mode": {
    "name": "ipython",
    "version": 3
   },
   "file_extension": ".py",
   "mimetype": "text/x-python",
   "name": "python",
   "nbconvert_exporter": "python",
   "pygments_lexer": "ipython3",
   "version": "3.6.3"
  }
 },
 "nbformat": 4,
 "nbformat_minor": 2
}
