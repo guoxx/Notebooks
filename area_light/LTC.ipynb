{
 "cells": [
  {
   "cell_type": "markdown",
   "metadata": {},
   "source": [
    "# Polygonal Area Light With Linearly Transformed Cosines\n",
    "\n",
    "## 1. Polygonal diffusion light with lambert diffuse model\n",
    "\n",
    "Solved by Johann Heinrich Lambert in 18th century. \n",
    "\n",
    "$$\n",
    "E(p_1, ..., p_n) = \\frac 1 {2 \\pi} \\sum_{i=1}^{n} acos(\\langle p_i, p_j \\rangle) \\langle {\\frac {p_i \\times p_j} {\\| {p_i \\times p_j} \\|} }, {\\begin{bmatrix} 0\\\\ 0\\\\ 1\\\\ \\end{bmatrix}} \\rangle \\quad \\textrm{where} \\quad j = i + 1\n",
    "$$\n",
    "\n",
    "\n",
    "## 2. Polygonal diffusion light for microfacet model\n",
    "\n",
    "### 2.1 Approximate GGX distribution and Smith shadowing term with linearly transformed cosines"
   ]
  },
  {
   "cell_type": "code",
   "execution_count": null,
   "metadata": {},
   "outputs": [],
   "source": [
    "import numpy as np\n",
    "import matplotlib.pyplot as plt\n",
    "from mpl_toolkits.mplot3d import Axes3D\n",
    "from matplotlib import cm, colors\n",
    "import ipywidgets as widgets\n",
    "from ltc_lut import lut_size, ltc_matrix, ltc_amplitude"
   ]
  },
  {
   "cell_type": "code",
   "execution_count": null,
   "metadata": {},
   "outputs": [],
   "source": [
    "%matplotlib widget\n",
    "\n",
    "def sampleLut(roughness, costheta):\n",
    "    uvscale = (lut_size - 1.0) / lut_size\n",
    "    uvbias = 0.5 / lut_size\n",
    "    uv = np.array([roughness, costheta]) * uvscale + uvbias\n",
    "    st = uv * lut_size\n",
    "    iuv = np.floor(st)\n",
    "    fuv = st - iuv\n",
    "    \n",
    "    a = ltc_matrix[int(iuv[1]), int(iuv[0])]\n",
    "    b = ltc_matrix[int(iuv[1]), np.minimum(63, int(iuv[0] + 1))]\n",
    "    c = ltc_matrix[np.minimum(63, int(iuv[1] + 1)), int(iuv[0])]\n",
    "    d = ltc_matrix[np.minimum(63, int(iuv[1] + 1)), np.minimum(63, int(iuv[0]) + 1)]\n",
    "    lerp = lambda t, a, b: (1.0 - t) * a + t * b\n",
    "    M = lerp(fuv[1], lerp(fuv[0], a, b), lerp(fuv[0], c, d))\n",
    "    M = np.transpose(M)\n",
    "    return M, np.linalg.inv(M)\n",
    "\n",
    "def evalLtc(L, M, invM):\n",
    "    Loriginal = np.dot(invM, L)\n",
    "    Loriginal = Loriginal / np.linalg.norm(Loriginal)\n",
    "\n",
    "    L_ = np.dot(M, Loriginal)\n",
    "\n",
    "    l = np.linalg.norm(L_)\n",
    "    Jacobian = np.linalg.det(M) / (l*l*l);\n",
    "\n",
    "    D = np.maximum(0.0, Loriginal[2])\n",
    "    return D / Jacobian"
   ]
  },
  {
   "cell_type": "code",
   "execution_count": null,
   "metadata": {},
   "outputs": [],
   "source": [
    "fig = plt.figure(figsize=[8, 8])\n",
    "ax = fig.add_subplot(111, projection='3d')\n",
    "ax.set_xlabel('X')\n",
    "ax.set_ylabel('Y')\n",
    "ax.set_zlabel('Z')\n",
    "    \n",
    "def plot(roughness, theta):\n",
    "    grid_res_x = 64\n",
    "    grid_res_y = grid_res_x\n",
    "\n",
    "    # convention of scipy: theta is the azimuthal angle and phi is the polar angle\n",
    "    phiSeq = np.linspace(0, np.pi, num=grid_res_x)\n",
    "    thetaSeq = np.linspace(0, 2*np.pi, num=grid_res_y)\n",
    "    phiSeq, thetaSeq = np.meshgrid(phiSeq, thetaSeq)\n",
    "\n",
    "    x = np.sin(phiSeq) * np.cos(thetaSeq)\n",
    "    y = np.sin(phiSeq) * np.sin(thetaSeq)\n",
    "    z = np.cos(phiSeq)\n",
    "\n",
    "    # clamped cosine lobe\n",
    "    dist = np.maximum(z, 0)\n",
    "\n",
    "    M, invM = sampleLut(roughness, np.cos(theta))\n",
    "    for row in range(grid_res_y):\n",
    "        for colum in range(grid_res_x):\n",
    "            L = [x[row][colum], y[row][colum], z[row][colum]]\n",
    "            dist[row][colum] = evalLtc(L, M, invM)\n",
    "\n",
    "    normalized_dist = dist / np.maximum(np.nanmax(dist), 1.0)\n",
    "    ax.plot_surface(-x, y, z, facecolors=cm.jet(normalized_dist), rcount=grid_res_x, ccount=grid_res_y)\n",
    "    \n",
    "a = widgets.FloatSlider(min=0,max=1,step=0.1,value=0.8)\n",
    "t = widgets.FloatSlider(min=0,max=np.pi/2,step=np.pi/200,value=np.pi/4)\n",
    "widgets.interact(plot, roughness=a, theta=t)"
   ]
  },
  {
   "cell_type": "markdown",
   "metadata": {},
   "source": [
    "### 2.2 [Approximate Fresnel term separately](http://blog.selfshadow.com/publications/s2016-advances/s2016_ltc_fresnel.pdf)\n",
    "\n",
    "### 2.3 Put together\n",
    "\n",
    "HLSL code\n",
    "```\n",
    "    float theta = acos(dot(N, V));\n",
    "    float2 uv = float2(roughness, theta / (0.5 * M_PIf));\n",
    "    uv = uv * LUT_SCALE + LUT_BIAS;\n",
    "\n",
    "    const float4 t = ltcMat.Sample(ltcSamp, coord);\n",
    "    float3x3 invM = float3x3(\n",
    "        float3(  1,   0, t.y),\n",
    "        float3(  0, t.z,   0),\n",
    "        float3(t.w,   0, t.x)\n",
    "    );\n",
    "\n",
    "    float res = ltcEvaluate(N, V, P, invM, points, false);\n",
    "\n",
    "    /* Apply BRDF scale terms (BRDF magnitude and Schlick Fresnel) */\n",
    "    const float2 schlick = ltcAmp.Sample(ltcSamp, uv).xy;\n",
    "    res *= (F0 * schlick.x + (1.0 - F0) * schlick.y);\n",
    "```"
   ]
  },
  {
   "cell_type": "markdown",
   "metadata": {},
   "source": [
    "## References\n",
    "\n",
    "* [Real-Time Polygonal-Light Shading with Linearly Transformed Cosines](https://eheitzresearch.wordpress.com/415-2/)\n",
    "* [Real-Time Area Lighting: a Journey From Research to Production](http://blog.selfshadow.com/publications/s2016-advances/)\n",
    "* [Real-Time Line- and Disk-Light Shading with Linearly Transformed Cosines](https://labs.unity.com/article/real-time-line-and-disk-light-shading-linearly-transformed-cosines)\n",
    "* [paper](LTC/LTC.pdf)\n",
    "* [slides](LTC/slides.pdf)\n",
    "* [supplemental: MATLAB](LTC/supplemental_matlab.pdf)\n",
    "* [WebGL Demo](http://blog.selfshadow.com/sandbox/ltc.html)\n",
    "* [BRDF fitting code](LTC/fit.zip)"
   ]
  }
 ],
 "metadata": {
  "kernelspec": {
   "display_name": "Python 3",
   "language": "python",
   "name": "python3"
  },
  "language_info": {
   "codemirror_mode": {
    "name": "ipython",
    "version": 3
   },
   "file_extension": ".py",
   "mimetype": "text/x-python",
   "name": "python",
   "nbconvert_exporter": "python",
   "pygments_lexer": "ipython3",
   "version": "3.6.5"
  }
 },
 "nbformat": 4,
 "nbformat_minor": 2
}
