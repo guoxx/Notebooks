{
 "cells": [
  {
   "cell_type": "code",
   "execution_count": 19,
   "metadata": {},
   "outputs": [
    {
     "data": {
      "application/vnd.jupyter.widget-view+json": {
       "model_id": "3ce75e57cd58476ea32ac480e1b03e82",
       "version_major": 2,
       "version_minor": 0
      },
      "text/plain": [
       "A Jupyter Widget"
      ]
     },
     "metadata": {},
     "output_type": "display_data"
    },
    {
     "data": {
      "text/plain": [
       "<function __main__.func>"
      ]
     },
     "execution_count": 19,
     "metadata": {},
     "output_type": "execute_result"
    }
   ],
   "source": [
    "import numpy as np\n",
    "import matplotlib.pyplot as plt\n",
    "from mpl_toolkits.mplot3d import Axes3D\n",
    "from matplotlib import cm, colors\n",
    "import ipywidgets as widgets\n",
    "\n",
    "\n",
    "def func(a, b, c, d):\n",
    "    grid_res_x = 64\n",
    "    grid_res_y = grid_res_x\n",
    "\n",
    "    # convention of scipy: theta is the azimuthal angle and phi is the polar angle\n",
    "    phi = np.linspace(0, np.pi, num=grid_res_x)\n",
    "    theta = np.linspace(0, 2*np.pi, num=grid_res_y)\n",
    "    phi, theta = np.meshgrid(phi, theta)\n",
    "\n",
    "    x = np.sin(phi) * np.cos(theta)\n",
    "    y = np.sin(phi) * np.sin(theta)\n",
    "    z = np.cos(phi)\n",
    "\n",
    "    fig = plt.figure(figsize=[8, 8])\n",
    "\n",
    "    ax = fig.add_subplot(111, projection='3d')\n",
    "    ax.set_xlabel('X')\n",
    "    ax.set_ylabel('Y')\n",
    "    ax.set_zlabel('Z')\n",
    "\n",
    "    trans = [[a, 0, b],\n",
    "             [0, c, 0],\n",
    "             [d, 0, 1]]\n",
    "    inv_trans = np.linalg.inv(trans)\n",
    "\n",
    "    # clamped cosine lobe\n",
    "    dist = np.maximum(z, 0)\n",
    "\n",
    "    x_copy = np.array(x)\n",
    "    y_copy = np.array(y)\n",
    "    z_copy = np.array(z)\n",
    "    for row in range(grid_res_y):\n",
    "        for colum in range(grid_res_x):\n",
    "            px = x[row][colum]\n",
    "            py = y[row][colum]\n",
    "            pz = z[row][colum]\n",
    "\n",
    "            new_pt = np.dot(inv_trans, [px, py, pz])\n",
    "            new_pt = new_pt / np.linalg.norm(new_pt)\n",
    "\n",
    "            x_copy[row][colum] = new_pt[0]\n",
    "            y_copy[row][colum] = new_pt[1]\n",
    "            z_copy[row][colum] = new_pt[2]\n",
    "\n",
    "    dist = np.maximum(z_copy, 0)\n",
    "\n",
    "    surf = ax.plot_surface(x, y, z, facecolors=cm.jet(dist), rcount=grid_res_x, ccount=grid_res_y)\n",
    "\n",
    "    plt.show()\n",
    "\n",
    "value_limit = 1\n",
    "a = widgets.FloatSlider(min=0,max=value_limit,step=0.1,value=0.8)\n",
    "b = widgets.FloatSlider(min=-1,max=value_limit,step=0.1,value=0.9)\n",
    "c = widgets.FloatSlider(min=0,max=value_limit,step=0.1,value=0.2)\n",
    "d = widgets.FloatSlider(min=0,max=value_limit,step=0.1,value=0)\n",
    "widgets.interact(func, a=a, b=b, c=c, d=d)"
   ]
  },
  {
   "cell_type": "code",
   "execution_count": null,
   "metadata": {},
   "outputs": [],
   "source": []
  }
 ],
 "metadata": {
  "kernelspec": {
   "display_name": "Python 3",
   "language": "python",
   "name": "python3"
  },
  "language_info": {
   "codemirror_mode": {
    "name": "ipython",
    "version": 3
   },
   "file_extension": ".py",
   "mimetype": "text/x-python",
   "name": "python",
   "nbconvert_exporter": "python",
   "pygments_lexer": "ipython3",
   "version": "3.6.3"
  }
 },
 "nbformat": 4,
 "nbformat_minor": 2
}
