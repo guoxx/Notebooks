{
 "cells": [
  {
   "cell_type": "markdown",
   "metadata": {
    "jupyter": {
     "outputs_hidden": false
    },
    "pycharm": {
     "is_executing": false,
     "name": "#%%\n"
    }
   },
   "source": [
    "# Real time area light\n",
    "\n",
    "## Light transport equation (LTE in abbrev.)\n",
    "\n",
    "Firstly, let's look at the LTE\n",
    "$$L_o(W_o, P) = L_e(W_o, P) + \\int{L_i(W_i, P)}{f_r(W_o, W_i)}\\overline{\\langle W_o, W_i \\rangle} d{W_i}$$\n",
    "It's a simplified version of radiative transfer equation which involve integral differential equation. Let's make our life easier and focus on LTE.\n",
    "\n",
    "As we can see in following picture, $L_o$ and $L_i$ term is interchangeable in following relationship.\n",
    "![li_lo](screenshots/Li_Lo.png)  \n",
    "\n",
    "$$L_i(W_i, P) = L_o(-W_i, T(P, W_i)), where \\space T(P, \\vec{W)} = P + t * \\vec{W}$$\n",
    "\n",
    "Plugin this equation into LTE and simplify the notation, we have\n",
    "$$L(W, P) = L_e(W, P) + \\int{L(-W_i, T(P, W_i))}{f_r(W, W_i)}\\overline{\\langle W, W_i \\rangle} d{W_i}$$"
   ]
  },
  {
   "cell_type": "markdown",
   "metadata": {
    "jupyter": {
     "outputs_hidden": false
    },
    "pycharm": {
     "is_executing": false,
     "name": "#%%\n"
    }
   },
   "source": [
    "## Analytic solution for diffusion area light on lambert shading model\n",
    "\n",
    "There are several types of area light that used widely in computer graphics.\n",
    "* Sphere light\n",
    "* Disk light\n",
    "* Rectangle light\n",
    "* Polygonal light\n",
    "\n",
    "Let's look into sphere light for detail analysis. We will start with 2D space for simplicity and get familiar with Jupyter which will use quite ofen in our daily work."
   ]
  },
  {
   "cell_type": "code",
   "execution_count": null,
   "metadata": {},
   "outputs": [],
   "source": [
    "import numpy as np\n",
    "import matplotlib.pyplot as plt\n",
    "\n",
    "r = 2\n",
    "P = np.array([2.4, 2.6])\n",
    "d = np.linalg.norm(P)\n",
    "\n",
    "fig, ax = plt.subplots()\n",
    "\n",
    "def plot_sphere(center, radius):\n",
    "    theta = np.arange(0, np.pi*2, 0.01)\n",
    "    cos_theta = np.cos(theta) * radius\n",
    "    sin_theta = np.sin(theta) * radius\n",
    "    ax.plot(center[0] + cos_theta, center[1] + sin_theta, color='k')\n",
    "\n",
    "def plot_line(p0, p1):\n",
    "    ax.plot([p0[0], p1[0]], [p0[1], p1[1]], color='k')\n",
    "\n",
    "plt.xlim(-5, 5)\n",
    "plt.ylim(-0, 5)\n",
    "ax.axhline(y=0, color='k')\n",
    "ax.axvline(x=0, color='k')\n",
    "ax.set_aspect('equal')\n",
    "ax.grid(True, which='both')\n",
    "plot_sphere(P, r)\n",
    "plot_sphere([0,0], 1)\n",
    "\n",
    "theta_0 = np.arctan2(P[1], P[0])\n",
    "delta_theta = np.arcsin(r / d)\n",
    "min_theta = theta_0 - delta_theta\n",
    "max_theta = theta_0 + delta_theta\n",
    "analytic_result = -np.cos(max_theta) + np.cos(min_theta)\n",
    "print(\"Analytic result = \", analytic_result)\n",
    "\n",
    "plot_line([0,0], [np.cos(theta_0)*d, np.sin(theta_0)*d])\n",
    "plot_line([0,0], [np.cos(max_theta)*d, np.sin(max_theta)*d])\n",
    "plot_line([0,0], [np.cos(min_theta)*d, np.sin(min_theta)*d])\n",
    "\n",
    "mc_result = 0\n",
    "dTheta = 0.001\n",
    "for theta in np.arange(0, np.pi, dTheta):\n",
    "    cos_theta = np.sin(theta)\n",
    "    if theta >= min_theta and theta <= max_theta:\n",
    "        mc_result += cos_theta\n",
    "mc_result *= dTheta\n",
    "print(\"Monte carlo result = \", mc_result)\n",
    "\n",
    "plt.show()"
   ]
  },
  {
   "cell_type": "markdown",
   "metadata": {},
   "source": [
    "It's a showcase that demonstrate what we can do with data visualization and numeric computing.  \n",
    "From now on, We will start our study in 3D space! Inigo Quilez made a very detailed analysis about integrate cosine function over sphere projection in 3D in this [blog post](http://www.iquilezles.org/www/articles/sphereao/sphereao.htm). However it doesn't account for horizon clipping, the correct solution can be found in [radiation view factors](http://webserver.dmt.upm.es/~isidoro/tc3/Radiation%20View%20factors.pdf), \"Patch to a sphere: Tilted\" configuration"
   ]
  },
  {
   "cell_type": "markdown",
   "metadata": {},
   "source": [
    "Other very important light source are polygonal light. Here are a screenshots from Unity Adam demo.  \n",
    "![screenshot_ltc_1](screenshots/ltc_1.png)  \n",
    "\n",
    "As we can see the result are very impressive, the polygonal light is working with material variation for both specular and diffuse term. It's surprising that the polygonal light has analytic solution with lambert diffuse model which solved by Johann Heinrich Lambert in 18th century. You can take a look at [Deriving the analytical formula for a diffuseresponse from a polygonal light source](http://miciwan.com/misc/diffuse_area_der.pdf) and [Geometric Derivation of the Irradiance of Polygonal Lights](https://t.co/uZxgHJ3Upz?amp=1) for step by step derivation.\n",
    "\n",
    "$$E(p_1, ..., p_n) = \\frac 1 {2 \\pi} \\sum_{i=1}^{n} acos(\\langle p_i, p_j \\rangle) \\langle {\\frac {p_i \\times p_j} {\\| {p_i \\times p_j} \\|} }, {\\begin{bmatrix} 0\\\\ 0\\\\ 1\\\\ \\end{bmatrix}} \\rangle \\quad \\textrm{where} \\quad j = i + 1$$"
   ]
  },
  {
   "cell_type": "markdown",
   "metadata": {
    "jupyter": {
     "outputs_hidden": false
    },
    "pycharm": {
     "is_executing": false,
     "name": "#%%\n"
    }
   },
   "source": [
    "## Linearly transform cosine\n",
    "\n",
    "\n",
    "Before we take closer look at LTC, let's write down our notation first.  \n",
    "$D_o$: original function to be transformed, clamped cosine in our case  \n",
    "$W_o$: direction before transformatoin, on hemisphere domain  \n",
    "$P_o$: polygonal before transformation  \n",
    "$D$: LTC transformed function, an approximation to our microfacet BRDF  \n",
    "$W$: direction after transformatoin, on hemisphere domain  \n",
    "$P$:polygonal after transformation  \n",
    "$M$: matrix that transform $W_o$ to $W$  \n",
    "$\\Omega$: hemisphere domain  \n",
    "\n",
    "The idea of LTC is very simple, let's say we have $D_o(W_o)$ that can be any spherical function, for every point on spherical, apply a 3x3 matrix $M$, will create a new spherical function $D(W)$"
   ]
  },
  {
   "cell_type": "code",
   "execution_count": null,
   "metadata": {},
   "outputs": [],
   "source": [
    "import numpy as np\n",
    "import ipyvolume as ipv\n",
    "from matplotlib import cm, colors\n",
    "import ipywidgets as widgets\n",
    "\n",
    "import os\n",
    "import sys\n",
    "sys.path.insert(0, os.path.abspath('../pycode'))\n",
    "import spherical as sph\n",
    "import LTC\n",
    "import importlib\n",
    "importlib.reload(sph)\n",
    "importlib.reload(LTC)"
   ]
  },
  {
   "cell_type": "code",
   "execution_count": null,
   "metadata": {},
   "outputs": [],
   "source": [
    "# clamped cosine\n",
    "def D_orig(Wi):\n",
    "    return np.maximum(Wi[2], 0)\n",
    "\n",
    "fig = sph.spherical_plot3d(D_orig, num_samples=256)\n",
    "ipv.xyzlim(-1, 1)\n",
    "ipv.show()\n",
    "\n",
    "\n",
    "sph.spherical_integral(D_orig, num_samples=1024, hemisphere=False) / np.pi"
   ]
  },
  {
   "cell_type": "code",
   "execution_count": null,
   "metadata": {
    "pycharm": {
     "name": "#%%\n"
    }
   },
   "outputs": [],
   "source": [
    "import numpy as np\n",
    "import ipyvolume as ipv\n",
    "from matplotlib import cm, colors\n",
    "import ipywidgets as widgets\n",
    "\n",
    "fig = ipv.figure(lighting=False)\n",
    "\n",
    "def plot_ltc_func(a, b, c, d):\n",
    "    theta, phi = sph.meshgrid_spherical_coord(64)\n",
    "    Wi = sph.spherical_dir(theta, phi)\n",
    "    \n",
    "    ltc = LTC.LTC(a, b, c, d, 1)\n",
    "    vals = ltc.eval(Wi)\n",
    "\n",
    "    # normalize the value for better visualization\n",
    "    vals /= np.max(vals)\n",
    "    ipv.plot_mesh(Wi[0], Wi[2], Wi[1], wireframe=False, color=cm.coolwarm(vals))\n",
    "#     ipv.plot_mesh(x*vals, z*vals, y*vals, wireframe=False, color=cm.coolwarm(vals))\n",
    "\n",
    "    # plot lines in order to visualize the geometry transform\n",
    "    sample_points = np.array([[0, 0, 2], [-1, -1, 2], [-1, 1, 2], [1, 1, 2], [1, -1, 2]])\n",
    "    for p in sample_points:\n",
    "        p = np.dot(ltc.M, p)\n",
    "        p /= np.linalg.norm(p)\n",
    "        p *= 2\n",
    "        ipv.plot([0, p[0]], [0, p[2]], [0, p[1]])\n",
    "\n",
    "\n",
    "def plot(a, b, c, d):\n",
    "    fig.meshes.clear()\n",
    "    fig.scatters.clear()\n",
    "    plot_ltc_func(a, b, c, d)\n",
    "    ipv.xyzlim(-2, 2)\n",
    "\n",
    "\n",
    "aSlider = widgets.FloatSlider(min=0.01, max=1, step=0.01, value=1)\n",
    "bSlider = widgets.FloatSlider(min=-4, max=4, step=0.01, value=0)\n",
    "cSlider = widgets.FloatSlider(min=0.01, max=1, step=0.01, value=1)\n",
    "dSlider = widgets.FloatSlider(min=0, max=1, step=0.01, value=0)\n",
    "widgets.interact(plot, a=aSlider, b=bSlider, c=cSlider, d=dSlider)\n",
    "ipv.show()"
   ]
  },
  {
   "cell_type": "markdown",
   "metadata": {},
   "source": [
    "With those graph and code, we should have basic understanding about LTC. Let's formalize the equation and explore some proerty of LTC.\n",
    "\n",
    "### Linear transformation\n",
    "Apply a transformation by a square matrix is a linear transform if the matrix determinant is not 0, which means the shape of a line/triangle is the same after transformation.\n",
    "\n",
    "### Closed form expression\n",
    "By apply change of variable, we have a closed form expression.  \n",
    "$$D(W) = D_o(W_o) \\frac{\\delta W_o}{\\delta W}$$\n",
    "$$\\frac{\\delta W_o}{\\delta W} = \\frac{|M^{-1}|}{{|{M^{-1}}{W}|}^3}$$\n",
    "\n",
    "### Integration\n",
    "The integration of LTC is equal to original function after transformation.\n",
    "$$ \\int_{\\Omega} D(W) d{W} =\\int_{\\Omega} D_o(W_o) d{W_o}$$\n",
    "We can verify this by integrate $D_{ltc}$, the result should be 1.   \n",
    "If we integrate over polygonal, we get following equation\n",
    "$$ \\int_{P} D(W) d{W} =\\int_{P_o} D_o(W_o) d{W_o}$$\n",
    "\n",
    "Here is a screenshot from original paper:  \n",
    "![integrate_over_polygonal](screenshots/integrate_over_polygonal.png)"
   ]
  },
  {
   "cell_type": "markdown",
   "metadata": {},
   "source": [
    "As we are interested in use LTC to solve our light transport equation, let's visualize our BRDF function."
   ]
  },
  {
   "cell_type": "code",
   "execution_count": null,
   "metadata": {
    "collapsed": false,
    "jupyter": {
     "outputs_hidden": false
    },
    "pycharm": {
     "name": "#%%\n"
    }
   },
   "outputs": [],
   "source": [
    "import numpy as np\n",
    "import ipyvolume as ipv\n",
    "from matplotlib import cm, colors\n",
    "import ipywidgets as widgets\n",
    "\n",
    "fig = ipv.figure(lighting=False)\n",
    "\n",
    "\n",
    "def D_GGX(Wh, alpha):\n",
    "    cosTheta = Wh[2]\n",
    "    cosTheta2 = cosTheta * cosTheta\n",
    "    a2 = alpha * alpha\n",
    "    d = cosTheta2 * (a2 - 1) + 1\n",
    "    return a2 / (np.pi * d * d)\n",
    "\n",
    "def SmithG(V, a):\n",
    "    a2 = a * a\n",
    "    cosTheta = V[2]\n",
    "    cosTheta2 = cosTheta * cosTheta\n",
    "    return 2 * cosTheta / (cosTheta + np.sqrt(a2 + (1 - a2) * cosTheta2))\n",
    "\n",
    "def Gvis_GGX(Wo, Wi, alpha):\n",
    "    NdotV = Wo[2]\n",
    "    NdotL = Wi[2]\n",
    "    a2 = alpha*alpha;\n",
    "    G_V = NdotV + np.sqrt( (NdotV - NdotV * a2) * NdotV + a2 );\n",
    "    G_L = NdotL + np.sqrt( (NdotL - NdotL * a2) * NdotL + a2 );\n",
    "    return 1 / ( G_V * G_L );\n",
    "\n",
    "def normalizeVec3(v):\n",
    "    l = np.sqrt(v[0]**2 + v[1]**2 + v[2]**2)\n",
    "    return np.array([v[0]/l, v[1]/l, v[2]/l])\n",
    "\n",
    "def dotVec3(v0, v1):\n",
    "    return v0[0]*v1[0] + v0[1]*v1[1] + v0[2]*v1[2]\n",
    "\n",
    "def halfVec(Wo, Wi):\n",
    "    Wh = Wi\n",
    "    Wh[0] += Wo[0]\n",
    "    Wh[1] += Wo[1]\n",
    "    Wh[2] += Wo[2]\n",
    "    Wh = normalizeVec3(Wh)\n",
    "    return Wh\n",
    "\n",
    "def BRDF(Wo, Wi, alpha):\n",
    "    Wh = halfVec(Wo, Wi)\n",
    "    G = Gvis_GGX(Wo, Wi, alpha)\n",
    "    D = D_GGX(Wh, alpha)\n",
    "    return D * G * np.maximum(Wi[2], 0)\n",
    "\n",
    "\n",
    "def plot(thetaO, roughness):\n",
    "    alpha = roughness * roughness\n",
    "    \n",
    "    fig.meshes.clear()\n",
    "    fig.scatters.clear()\n",
    "\n",
    "    theta, phi = meshgrid_spherical_coord(256)\n",
    "    x, y, z = spherical_dir(theta, phi)\n",
    "\n",
    "    Wo = np.array([0, np.sin(thetaO), np.cos(thetaO)])\n",
    "    Wi = np.array([x, y, z])\n",
    "\n",
    "    vals = BRDF(Wo, Wi, alpha)\n",
    "\n",
    "    # normalize the value for better visualization\n",
    "    vals /= np.max(vals)\n",
    "    ipv.plot_mesh(x, z, y, wireframe=False, color=cm.coolwarm(vals))\n",
    "#     ipv.plot_mesh(x*vals, z*vals, y*vals, wireframe=False, color=cm.coolwarm(vals))\n",
    "    ipv.xyzlim(-2, 2)\n",
    "\n",
    "\n",
    "thetaSlider = widgets.FloatSlider(min=0.01, max=np.pi/2, step=0.01, value=0)\n",
    "roughnessSlider = widgets.FloatSlider(min=0.01, max=1, step=0.01, value=0.3)\n",
    "widgets.interact(plot, thetaO=thetaSlider, roughness=roughnessSlider)\n",
    "ipv.show()"
   ]
  },
  {
   "cell_type": "markdown",
   "metadata": {},
   "source": [
    "Base on our observation, it seems possible to find coefficients that make LTC an good approximation of our BRDF. The problem now become find a set of coefficients (a,b,c,d) to minimize following error measurement.\n",
    "$$error(a, b, c, d) = \\int_\\Omega ({D\\_ltc(W, a, b, c, d)} - {BRDF(W)})^2 d(W) $$"
   ]
  },
  {
   "cell_type": "code",
   "execution_count": null,
   "metadata": {
    "collapsed": false,
    "jupyter": {
     "outputs_hidden": false
    },
    "pycharm": {
     "name": "#%%\n"
    }
   },
   "outputs": [],
   "source": [
    "import numpy as np\n",
    "from scipy import optimize\n",
    "\n",
    "\n",
    "def reflectVec3(Wo, Wh):\n",
    "    proj = dotVec3(Wo, Wh)\n",
    "    Wi = Wh * (2 * proj)\n",
    "    Wi[0] -= Wo[0]\n",
    "    Wi[1] -= Wo[1]\n",
    "    Wi[2] -= Wo[2]\n",
    "    return normalizeVec3(Wi)\n",
    "\n",
    "thetaO = np.pi * (0.0/180)\n",
    "Wo = np.array([np.sin(thetaO), 0, np.cos(thetaO)])\n",
    "alpha = 0.5\n",
    "\n",
    "def computeError(params):\n",
    "    a = params[0]\n",
    "    b = params[1]\n",
    "    c = params[2]\n",
    "    d = params[3]\n",
    "    e = params[4]\n",
    "    transfo = np.identity(3, dtype = float)\n",
    "    transfo[0][0] = a\n",
    "    transfo[0][2] = b\n",
    "    transfo[1][1] = c\n",
    "    transfo[2][0] = d\n",
    "    transfo[2][2] = e\n",
    "    \n",
    "    error = 0.0;\n",
    "\n",
    "    Nsample = 256.0\n",
    "    \n",
    "    i = np.arange(0, Nsample)\n",
    "    j = np.arange(0, Nsample)\n",
    "    i, j = np.meshgrid(i, j)\n",
    "\n",
    "    U1 = (i+0.5)/Nsample;\n",
    "    U2 = (j+0.5)/Nsample;\n",
    "\n",
    "#     a2 = alpha * alpha;\n",
    "#     phi = np.pi * 2 * U2;\n",
    "#     cosTheta = np.sqrt(np.maximum(0, (1 - U1)) / (1 + (a2 - 1) * U1))\n",
    "#     sinTheta = np.sqrt(np.maximum(0, 1 - cosTheta * cosTheta));\n",
    "\n",
    "#     Wh = np.array([sinTheta * np.cos(phi), sinTheta * np.sin(phi), cosTheta])\n",
    "#     Wi = reflectVec3(Wo, Wh);\n",
    "\n",
    "#     pdf = D_GGX(Wh, alpha) * Wh[2] / (4 * dotVec3(Wh, Wi))\n",
    "\n",
    "\n",
    "    theta = np.arccos(1-U1);\n",
    "    phi = U2 * 2 * np.pi\n",
    "    pdf = 1 / (2 * np.pi)\n",
    "    Wi = np.array([np.sin(theta) * np.cos(phi), np.sin(theta) * np.sin(phi), np.cos(theta)])\n",
    "\n",
    "    brdf = BRDF(Wo, Wi, alpha)\n",
    "    ltc = D_ltc(Wi, transfo)\n",
    "    error = np.abs(brdf - ltc) ** 2 / pdf\n",
    "\n",
    "    return np.sum(error) / (Nsample*Nsample)\n",
    "\n",
    "# TODO: make it work\n",
    "initial_guess = [1,0,1,0,1]\n",
    "result = optimize.minimize(computeError, initial_guess, method=\"Nelder-Mead\")\n",
    "print(result)\n"
   ]
  },
  {
   "cell_type": "markdown",
   "metadata": {},
   "source": [
    "Unfortunately above code doesn't work due to time frame constraint, so that I will used data generated by code from this [github repository](https://github.com/selfshadow/ltc_code) instead. Let's validate the fitting."
   ]
  },
  {
   "cell_type": "code",
   "execution_count": null,
   "metadata": {
    "collapsed": false,
    "jupyter": {
     "outputs_hidden": false
    },
    "pycharm": {
     "name": "#%%\n"
    }
   },
   "outputs": [],
   "source": [
    "from ltc_lut import lut_size, ltc_matrix, ltc_amplitude\n",
    "\n",
    "def sampleLut(roughness, costheta):\n",
    "    uvscale = (lut_size - 1.0) / lut_size\n",
    "    uvbias = 0.5 / lut_size\n",
    "    uv = np.array([roughness, costheta]) * uvscale + uvbias\n",
    "    st = uv * lut_size\n",
    "    iuv = np.floor(st)\n",
    "    fuv = st - iuv\n",
    "    \n",
    "    a = ltc_matrix[int(iuv[1]), int(iuv[0])]\n",
    "    b = ltc_matrix[int(iuv[1]), np.minimum(63, int(iuv[0] + 1))]\n",
    "    c = ltc_matrix[np.minimum(63, int(iuv[1] + 1)), int(iuv[0])]\n",
    "    d = ltc_matrix[np.minimum(63, int(iuv[1] + 1)), np.minimum(63, int(iuv[0]) + 1)]\n",
    "    lerp = lambda t, a, b: (1.0 - t) * a + t * b\n",
    "    M = lerp(fuv[1], lerp(fuv[0], a, b), lerp(fuv[0], c, d))\n",
    "    M = np.transpose(M)\n",
    "    return M, np.linalg.inv(M)\n",
    "\n",
    "\n",
    "thetaO = np.pi * (70.0/180)\n",
    "Wo = np.array([np.sin(thetaO), 0, np.cos(thetaO)])\n",
    "roughness = 0.4\n",
    "transfo, inv_transfo = sampleLut(roughness, np.cos(thetaO))\n",
    "\n",
    "\n",
    "def plot_ltc_error():\n",
    "    theta, phi = meshgrid_spherical_coord(256)\n",
    "    x, y, z = spherical_dir(theta, phi)\n",
    "    Wi = np.array([x, y, z])\n",
    "    \n",
    "    ltc = D_ltc(Wi, transfo)\n",
    "    brdf = BRDF(Wo, Wi, roughness*roughness)\n",
    "    error = np.abs(ltc - brdf)\n",
    "    error /= np.maximum(brdf, 1)\n",
    "#     ipv.plot_mesh(x*ltc, z*ltc, y*ltc, wireframe=False, color=cm.coolwarm(ltc))\n",
    "#     ipv.plot_mesh(x*brdf, z*brdf, y*brdf, wireframe=False, color=cm.coolwarm(brdf))\n",
    "    ipv.plot_mesh(x*error, z*error, y*error, wireframe=False, color=cm.coolwarm(error))\n",
    "    ipv.xyzlim(-2, 2)\n",
    "    ipv.show()\n",
    "\n",
    "ipv.clear()\n",
    "plot_ltc_error()"
   ]
  },
  {
   "cell_type": "markdown",
   "metadata": {},
   "source": [
    "## Area light on microfacet shading model with linearly transform cosine\n",
    "\n",
    "Back to our light transport equation, the equation of microfacet shading model over polygonal light is\n",
    "$$L(W_o) = \\int_{P} L_e F_r(W_o, W_i) \\overline{\\langle N, W_i \\rangle} d{W_i} $$\n",
    "\n",
    "With a diffusion area light, we can move constants term $L_e$ out of the integral, that leave us a simplified form\n",
    "$$L(W_o) = L_e \\int_{P} F_r(W_o, W_i) \\overline{\\langle N, W_i \\rangle} d{W_i} $$\n",
    "\n",
    "If we can approximate $F_r(W_o, W_i)$ with LTC, then we can solve integration analytically. Can we?  \n",
    "We already know that $NDF$ and $G$ term can be approximated with LTC, however the integration of $NDF$ and $G$ is not equal to 1 so that we need to apply a multiplier factor to LTC integration. Regarding the fresnel term, it's been baked into this multiplier factor instead of trying to do fitting directly.\n",
    "\n",
    "$$\n",
    "\\begin{align}\n",
    "factor &= \\int_\\Omega Fr(W_o, W_i) \\overline{\\langle N, W_i \\rangle} d{W_i}                                                                                   \\\\\n",
    "       &= \\int_\\Omega F(W_h) {D(W_h)} G_{vis}(W_o, W_i) \\overline{\\langle N, W_i \\rangle} d{W_i}                                                              \\\\\n",
    "       &= \\int_\\Omega (F0 + (1 - F0) (1 - {\\overline{\\langle W_h, W_i \\rangle})^5}) {D(W_h)} G_{vis}(W_o, W_i) \\overline{\\langle N, W_i \\rangle} d{W_i}        \\\\\n",
    "       &= F0 \\int_\\Omega {D(W_h)} G_{vis}(W_o, W_i) \\overline{\\langle N, W_i \\rangle} d{W_i} + \n",
    "          (1 - F0) \\int_\\Omega (1 - (1 - \\overline{\\langle W_h, W_i \\rangle})^5) {D(W_h)} G_{vis}(W_o, W_i) \\overline{\\langle N, W_i \\rangle} d{W_i}        \\\\\n",
    "\\end{align}\n",
    "$$\n"
   ]
  },
  {
   "cell_type": "code",
   "execution_count": null,
   "metadata": {
    "collapsed": false,
    "jupyter": {
     "outputs_hidden": false
    },
    "pycharm": {
     "name": "#%%\n"
    }
   },
   "outputs": [],
   "source": [
    "## Area light with correct shadow\n",
    "\n",
    "$$L(W_o) = L_e \\int_{P} F_r(W_o, W_i) V(W_i) d{W_i} = L_e \\frac {\\int_{P} F_r(W_o, W_i) V(W_i) d{W_i}} {\\int_{P} F_r(W_o, W_i) d{W_i}} {\\int_{P} F_r(W_o, W_i) d{W_i}} $$\n",
    "\n",
    "Since ${\\int_{P} F_r(W_o, W_i) d{W_i}}$ can be solved analytically, then the occlusion term is unknow.  \n",
    "It's obvious that occlusion term  has value between 0 and 1. Unfortunately it's unlikely to has analytic solution, current game either ignore it or compute it in 1 sample per pixel and run a denoiser on top of the 1spp result."
   ]
  },
  {
   "cell_type": "markdown",
   "metadata": {},
   "source": [
    "## Conclusion\n",
    "\n",
    "LTC can calculate polygonal light analytically. However it's application is not limited by the polygonal light, for any shape of light source, if it is integration has analytic solution on original function, it can be approximated by LTC framework. Beyond the variation on type of light source, original solution is not limited by clamp cosine, it can be any function.\n",
    "\n",
    "Here are a screenshot to compare the result with offline renderer:  \n",
    "![ltc_comparison](screenshots/ltc_comparison.png)"
   ]
  },
  {
   "cell_type": "code",
   "execution_count": null,
   "metadata": {
    "collapsed": false,
    "jupyter": {
     "outputs_hidden": false
    },
    "pycharm": {
     "name": "#%%\n"
    }
   },
   "outputs": [],
   "source": [
    "## Future work\n",
    "\n",
    "* Light culling\n",
    "* Layered material"
   ]
  },
  {
   "cell_type": "code",
   "execution_count": null,
   "metadata": {
    "collapsed": false,
    "jupyter": {
     "outputs_hidden": false
    },
    "pycharm": {
     "name": "#%%\n"
    }
   },
   "outputs": [],
   "source": [
    "## References\n",
    "\n",
    "* [RADIATIVE VIEW FACTORS](http://webserver.dmt.upm.es/~isidoro/tc3/Radiation%20View%20factors.pdf)\n",
    "* [sphere ambient occlusion](http://www.iquilezles.org/www/articles/sphereao/sphereao.htm)\n",
    "* [Real-Time Polygonal-Light Shading with Linearly Transformed Cosines](https://eheitzresearch.wordpress.com/415-2/)\n",
    "* [Approximate Fresnel term separately](http://blog.selfshadow.com/publications/s2016-advances/s2016_ltc_fresnel.pdf)\n",
    "* [Real-Time Area Lighting: a Journey From Research to Production](http://blog.selfshadow.com/publications/s2016-advances/)\n",
    "* [Real-Time Line- and Disk-Light Shading with Linearly Transformed Cosines](https://labs.unity.com/article/real-time-line-and-disk-light-shading-linearly-transformed-cosines)\n",
    "* [Improving radiosity solutions through the use of analytically determined form-factors](http://citeseerx.ist.psu.edu/viewdoc/download?doi=10.1.1.466.963&rep=rep1&type=pdf)\n",
    "* [Deriving the analytical formula for a diffuseresponse from a polygonal light source](http://miciwan.com/misc/diffuse_area_der.pdf)\n",
    "* [Geometric Derivation of the Irradiance of Polygonal Lights](https://t.co/uZxgHJ3Upz?amp=1)"
   ]
  }
 ],
 "metadata": {
  "kernelspec": {
   "display_name": "Python 3",
   "language": "python",
   "name": "python3"
  },
  "language_info": {
   "codemirror_mode": {
    "name": "ipython",
    "version": 3
   },
   "file_extension": ".py",
   "mimetype": "text/x-python",
   "name": "python",
   "nbconvert_exporter": "python",
   "pygments_lexer": "ipython3",
   "version": "3.7.6"
  }
 },
 "nbformat": 4,
 "nbformat_minor": 4
}
