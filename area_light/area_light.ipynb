{
 "cells": [
  {
   "cell_type": "markdown",
   "metadata": {
    "jupyter": {
     "outputs_hidden": false
    },
    "pycharm": {
     "is_executing": false,
     "name": "#%%\n"
    }
   },
   "source": [
    "# Real time area light\n",
    "\n",
    "## Light transport equation (LTE in abbrev.)\n",
    "\n",
    "Firstly, let's look at the LTE\n",
    "$$L_o(W_o, P) = L_e(W_o, P) + \\int{L_i(W_i, P)}{f_r(W_o, W_i)}\\overline{\\langle W_o, W_i \\rangle} d{W_i}$$\n",
    "It's a simplified version of radiative transfer equation which involve integral differential equation. Let's make our life easier and focus on LTE.\n",
    "\n",
    "As we can see in following picture, $L_o$ and $L_i$ term is interchangeable in following relationship.\n",
    "$$L_i(W_i, P) = L_o(-W_i, T(P, W_i)), where \\space T(P, \\vec{W)} = P + t * \\vec{W}$$\n",
    "\n",
    "Plugin this equation into LTE and simplify the notation, we have\n",
    "$$L(W, P) = L_e(W, P) + \\int{L(-W_i, T(P, W_i))}{f_r(W, W_i)}\\overline{\\langle W, W_i \\rangle} d{W_i}$$"
   ]
  },
  {
   "cell_type": "markdown",
   "metadata": {
    "jupyter": {
     "outputs_hidden": false
    },
    "pycharm": {
     "is_executing": false,
     "name": "#%%\n"
    }
   },
   "source": [
    "## Path space integration"
   ]
  },
  {
   "cell_type": "markdown",
   "metadata": {
    "jupyter": {
     "outputs_hidden": false
    },
    "pycharm": {
     "is_executing": false,
     "name": "#%%\n"
    }
   },
   "source": [
    "## Analytic solution for diffusion area light on lambert shading model\n",
    "\n",
    "* Sphere light\n",
    "* Disk light\n",
    "* Rectangle light\n",
    "* Polygonal light"
   ]
  },
  {
   "cell_type": "code",
   "execution_count": null,
   "metadata": {},
   "outputs": [],
   "source": [
    "import numpy as np\n",
    "\n",
    "r = 5\n",
    "P = np.array([10, 10])\n",
    "theta_0 = np.arctan2(P[1], P[0])\n",
    "delta_theta = np.arctan2(r, np.linalg.norm(P))\n",
    "result = -np.cos(theta_0 + delta_theta) + np.cos(theta_0 - delta_theta)\n",
    "print(\"theta 1 = \", theta_0 - delta_theta)\n",
    "print(\"theta 2 = \", theta_0 + delta_theta)\n",
    "\n",
    "print(\"Analytic result = \", result)\n",
    "\n",
    "mc_result = 0\n",
    "dTheta = 0.001\n",
    "for theta in np.arange(0, np.pi, dTheta):\n",
    "    cos_theta = np.sin(theta)\n",
    "    if theta >= theta_0 - delta_theta and theta <= theta_0 + delta_theta:\n",
    "        mc_result += cos_theta\n",
    "mc_result *= dTheta\n",
    "print(\"Monte carlo result = \", mc_result)"
   ]
  },
  {
   "cell_type": "markdown",
   "metadata": {
    "jupyter": {
     "outputs_hidden": false
    },
    "pycharm": {
     "is_executing": false,
     "name": "#%%\n"
    }
   },
   "source": [
    "## Area light on microfacet shading model with linearly transform cosine"
   ]
  },
  {
   "cell_type": "markdown",
   "metadata": {
    "jupyter": {
     "outputs_hidden": false
    },
    "pycharm": {
     "is_executing": false,
     "name": "#%%\n"
    }
   },
   "source": [
    "## Area light on microfacet shading model with spherical harmonics"
   ]
  },
  {
   "cell_type": "markdown",
   "metadata": {
    "jupyter": {
     "outputs_hidden": false
    },
    "pycharm": {
     "is_executing": false,
     "name": "#%%\n"
    }
   },
   "source": [
    "## Real-time monte carlo integration with denoiser"
   ]
  },
  {
   "cell_type": "markdown",
   "metadata": {
    "jupyter": {
     "outputs_hidden": false
    },
    "pycharm": {
     "is_executing": false,
     "name": "#%%\n"
    }
   },
   "source": [
    "## Future work\n",
    "\n",
    "* Volume rendering\n",
    "* "
   ]
  },
  {
   "cell_type": "markdown",
   "metadata": {
    "pycharm": {
     "is_executing": false,
     "name": "#%%\n"
    }
   },
   "source": [
    "## References\n",
    "\n",
    "* [RADIATIVE VIEW FACTORS](http://webserver.dmt.upm.es/~isidoro/tc3/Radiation%20View%20factors.pdf)\n",
    "* [sphere ambient occlusion](http://www.iquilezles.org/www/articles/sphereao/sphereao.htm)"
   ]
  },
  {
   "cell_type": "code",
   "execution_count": null,
   "metadata": {},
   "outputs": [],
   "source": []
  }
 ],
 "metadata": {
  "kernelspec": {
   "display_name": "Python 3",
   "language": "python",
   "name": "python3"
  },
  "language_info": {
   "codemirror_mode": {
    "name": "ipython",
    "version": 3
   },
   "file_extension": ".py",
   "mimetype": "text/x-python",
   "name": "python",
   "nbconvert_exporter": "python",
   "pygments_lexer": "ipython3",
   "version": "3.6.10"
  },
  "pycharm": {
   "stem_cell": {
    "cell_type": "raw",
    "metadata": {
     "collapsed": false
    },
    "source": []
   }
  }
 },
 "nbformat": 4,
 "nbformat_minor": 4
}
