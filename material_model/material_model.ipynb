{
 "cells": [
  {
   "cell_type": "markdown",
   "metadata": {},
   "source": [
    "## Disney\n",
    "\n",
    "* [Pixar's Foundation for Materials](https://graphics.pixar.com/library/PxrMaterialsCourse2017/)\n",
    "* [RenderMan 21 Docs - Pixar Surface Materials](https://rmanwiki.pixar.com/display/REN/Pixar+Surface+Materials)\n",
    "* [disney.brdf](https://github.com/wdas/brdf/blob/master/src/brdfs/disney.brdf)"
   ]
  },
  {
   "cell_type": "markdown",
   "metadata": {},
   "source": [
    "# Unreal Engine 4\n",
    "\n",
    "There are several shaders implemented in UE4: default lit, subsurface, clearcoat, hair, cloth, eye, etc. Default lit is mostly used.    \n",
    "The **Default lit** material use 2 lobes, 1 diffuse and 1 specular. Contributions from 2 lobes are additive together.\n",
    "\n",
    "There are 4 major parameters:\n",
    "* Base Color\n",
    "* Metallic\n",
    "* Specular\n",
    "* Roughness\n",
    "\n",
    "Base Color, Metallic and Roughness is quite commonly used. Only thing that need to pay attention is Specular, it's a scaler that allow you to control the appearance of specularity for non-metal surface.\n",
    "\n",
    "```\n",
    "GBuffer.DiffuseColor = BaseColor - BaseColor * Metallic;\n",
    "GBuffer.SpecularColor = lerp(0.08 * Specular.xxx, BaseColor, Metallic.xxx);\n",
    "\n",
    "float3 StandardShading( float3 DiffuseColor, float3 SpecularColor, float3 LobeRoughness, float3 LobeEnergy, float3 L, float3 V, half3 N )\n",
    "{\n",
    "\tfloat NoL = dot(N, L);\n",
    "\tfloat NoV = dot(N, V);\n",
    "\tfloat LoV = dot(L, V);\n",
    "\tfloat InvLenH = rsqrt( 2 + 2 * LoV );\n",
    "\tfloat NoH = saturate( ( NoL + NoV ) * InvLenH );\n",
    "\tfloat VoH = saturate( InvLenH + InvLenH * LoV );\n",
    "\tNoL = saturate(NoL);\n",
    "\tNoV = saturate(abs(NoV) + 1e-5);\n",
    "\n",
    "\t// Generalized microfacet specular\n",
    "\tfloat D = D_GGX( LobeRoughness[1], NoH ) * LobeEnergy[1];\n",
    "\tfloat Vis = Vis_SmithJointApprox( LobeRoughness[1], NoV, NoL );\n",
    "\tfloat3 F = F_Schlick( SpecularColor, VoH );\n",
    "\n",
    "\tfloat3 Diffuse = Diffuse_Lambert( DiffuseColor );\n",
    "\n",
    "\treturn Diffuse * LobeEnergy[2] + (D * Vis) * F;\n",
    "}\n",
    "```\n",
    "\n",
    "Layered material is implemented as parameters blend.  "
   ]
  },
  {
   "cell_type": "markdown",
   "metadata": {},
   "source": [
    "# Unity"
   ]
  },
  {
   "cell_type": "code",
   "execution_count": null,
   "metadata": {},
   "outputs": [],
   "source": []
  }
 ],
 "metadata": {
  "kernelspec": {
   "display_name": "Python 3",
   "language": "python",
   "name": "python3"
  },
  "language_info": {
   "codemirror_mode": {
    "name": "ipython",
    "version": 3
   },
   "file_extension": ".py",
   "mimetype": "text/x-python",
   "name": "python",
   "nbconvert_exporter": "python",
   "pygments_lexer": "ipython3",
   "version": "3.6.4"
  }
 },
 "nbformat": 4,
 "nbformat_minor": 2
}
