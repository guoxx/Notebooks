{
 "cells": [
  {
   "cell_type": "markdown",
   "metadata": {},
   "source": [
    "# Ocean rendering"
   ]
  },
  {
   "cell_type": "markdown",
   "metadata": {},
   "source": [
    "## Previous work\n",
    "\n",
    "### Oceans\n",
    "Tessendorf FFT in real time, Wave particles \n",
    "\n",
    "### Simulation\n",
    "Positional Based Fluids,Macklin, Müller, SIGGRAPH 2013\n"
   ]
  },
  {
   "cell_type": "markdown",
   "metadata": {},
   "source": [
    "## References\n",
    "* https://www.fxguide.com/featured/assassins-creed-iii-the-tech-behind-or-beneath-the-action/\n",
    "* http://advances.realtimerendering.com/s2017/Ocean_SIGGRAPH17_Final.pptx\n",
    "* https://github.com/huwb/crest-oceanrender\n",
    "* http://advances.realtimerendering.com/s2016/Rendering%20rapids%20in%20Uncharted%204.pptx\n",
    "* http://advances.realtimerendering.com/s2013/OceanShoestring_SIGGRAPH2013_Online.pptx  \n",
    "* https://ttnghia.github.io/portfolio/project-ocean-surface-simulation/"
   ]
  },
  {
   "cell_type": "code",
   "execution_count": null,
   "metadata": {},
   "outputs": [],
   "source": [
    "import numpy as np\n",
    "import matplotlib.pyplot as plt\n",
    "import ipywidgets as widgets\n",
    "import scipy.integrate as integrate\n",
    "import ipyvolume as ipv\n",
    "import importlib\n",
    "import sympy as sym\n",
    "\n",
    "%matplotlib widget\n",
    "\n",
    "fig = plt.figure()\n",
    "ax = fig.add_subplot(111)\n",
    "\n",
    "def gerstner_waves(t, x0, lambda_, A):\n",
    "    wavevector = 1\n",
    "    k = 2 * np.pi / lambda_\n",
    "    freq = np.sqrt(9.8*k)\n",
    "    x = x0 - (wavevector/k) * A * np.sin(wavevector * x0 - freq * t)\n",
    "    y = A * np.cos(wavevector * x0 - freq * t)\n",
    "    return x, y\n",
    "\n",
    "def plot(t):\n",
    "    x0 = np.arange(0, 10, 0.1)\n",
    "    x, y = gerstner_waves(t, x0, 10, 1)\n",
    "    ax.clear()\n",
    "    ax.plot(x, y)\n",
    "\n",
    "widgets.interact(plot, t=(0, 10, 1.0))\n"
   ]
  },
  {
   "cell_type": "code",
   "execution_count": null,
   "metadata": {},
   "outputs": [],
   "source": []
  }
 ],
 "metadata": {
  "kernelspec": {
   "display_name": "Python 3",
   "language": "python",
   "name": "python3"
  },
  "language_info": {
   "codemirror_mode": {
    "name": "ipython",
    "version": 3
   },
   "file_extension": ".py",
   "mimetype": "text/x-python",
   "name": "python",
   "nbconvert_exporter": "python",
   "pygments_lexer": "ipython3",
   "version": "3.7.3"
  }
 },
 "nbformat": 4,
 "nbformat_minor": 2
}
