{
 "cells": [
  {
   "cell_type": "markdown",
   "metadata": {
    "toc-hr-collapsed": false
   },
   "source": [
    "# Ocean rendering"
   ]
  },
  {
   "cell_type": "markdown",
   "metadata": {
    "toc-hr-collapsed": true
   },
   "source": [
    "## Previous work\n",
    "\n",
    "### Oceans\n",
    "Tessendorf FFT in real time, Wave particles \n",
    "\n",
    "### Simulation\n",
    "Positional Based Fluids,Macklin, Müller, SIGGRAPH 2013\n"
   ]
  },
  {
   "cell_type": "markdown",
   "metadata": {
    "toc-hr-collapsed": true
   },
   "source": [
    "## References\n",
    "* https://www.fxguide.com/featured/assassins-creed-iii-the-tech-behind-or-beneath-the-action/\n",
    "* http://advances.realtimerendering.com/s2017/Ocean_SIGGRAPH17_Final.pptx\n",
    "* https://github.com/huwb/crest-oceanrender\n",
    "* http://advances.realtimerendering.com/s2016/Rendering%20rapids%20in%20Uncharted%204.pptx\n",
    "* http://advances.realtimerendering.com/s2013/OceanShoestring_SIGGRAPH2013_Online.pptx  \n",
    "* https://ttnghia.github.io/portfolio/project-ocean-surface-simulation/"
   ]
  },
  {
   "cell_type": "markdown",
   "metadata": {
    "toc-hr-collapsed": true
   },
   "source": [
    "## Examples"
   ]
  },
  {
   "cell_type": "markdown",
   "metadata": {},
   "source": [
    "### Gerstner"
   ]
  },
  {
   "cell_type": "code",
   "execution_count": null,
   "metadata": {},
   "outputs": [],
   "source": [
    "import numpy as np\n",
    "import ipyvolume as ipv\n",
    "\n",
    "def gerstner(t, x0, y0, direction, wave_length, amplitude, phase):\n",
    "    k = 2 * np.pi / wave_length\n",
    "    wave_dir = np.array([np.cos(direction), np.sin(direction)])\n",
    "    wave_vector = wave_dir * k\n",
    "    frequency = np.sqrt(9.8*k)\n",
    "    calc = x0*wave_vector[0] + y0*wave_vector[1] - frequency * t + phase\n",
    "    ox = -wave_dir[0] * amplitude * np.sin(calc)\n",
    "    oy = -wave_dir[1] * amplitude * np.sin(calc)\n",
    "    z = amplitude * np.cos(calc)\n",
    "    return ox, oy, z\n",
    "\n",
    "u = np.linspace(0, 8, 256)\n",
    "v = np.linspace(0, 8, 256)\n",
    "x, y = np.meshgrid(u, v)\n",
    "z = np.zeros_like(x)\n",
    "ox, oy, oz = gerstner(1, x, y, np.pi*0.25, 3, 0.2, np.pi/2)\n",
    "x += ox\n",
    "y += oy\n",
    "z += oz\n",
    "ox, oy, oz = gerstner(1, x, y, np.pi*0.35, 4, 0.4, np.pi)\n",
    "x += ox\n",
    "y += oy\n",
    "z += oz\n",
    "\n",
    "\n",
    "# Plot the surface\n",
    "ipv.figure()\n",
    "ipv.xlim(0, 8)\n",
    "ipv.zlim(0, 8)\n",
    "ipv.ylim(-4, 4)\n",
    "ipv.plot_surface(x, z, y, color=\"Grey\")\n",
    "ipv.show()"
   ]
  },
  {
   "cell_type": "markdown",
   "metadata": {
    "toc-hr-collapsed": true
   },
   "source": [
    "### Tessendorf FFT"
   ]
  },
  {
   "cell_type": "code",
   "execution_count": null,
   "metadata": {},
   "outputs": [],
   "source": [
    "import ipyvolume as ipv\n",
    "import numpy as np"
   ]
  },
  {
   "cell_type": "code",
   "execution_count": null,
   "metadata": {},
   "outputs": [],
   "source": [
    "def func_p_h(wavevector_x, wavevector_z):\n",
    "    # add a small bias to avoid divide by 0\n",
    "    k = np.sqrt(wavevector_x**2 + wavevector_z**2)+0.000001\n",
    "    L = wind_speed**2/gravitational_constant\n",
    "    cosine_factor = (wavevector_x/k*wind_dir[0] + wavevector_z/k*wind_dir[1])**2\n",
    "    return A * np.exp(-1/(k*L)**2) / k**4 * cosine_factor"
   ]
  },
  {
   "cell_type": "code",
   "execution_count": null,
   "metadata": {},
   "outputs": [],
   "source": [
    "def func_h_twiddle_0(wavevector_x, wavevector_z):\n",
    "    size = np.size(wavevector_x)\n",
    "    xi_r = np.random.normal(0, 1, size)\n",
    "    xi_i = np.random.normal(0, 1, size)\n",
    "    xi_r = np.reshape(xi_r, wavevector_x.shape)\n",
    "    xi_i = np.reshape(xi_i, wavevector_x.shape)\n",
    "    return 1/np.sqrt(2) * (xi_r + 1j*xi_i) * np.sqrt(func_p_h(wavevector_x, wavevector_z))\n",
    "\n",
    "def func_h_twiddle(h_twiddle_0, h_twiddle_0_conj, wavevector_x, wavevector_z, t):\n",
    "    k = np.sqrt(wavevector_x**2 + wavevector_z**2)\n",
    "    w = np.sqrt(k*gravitational_constant)\n",
    "    return h_twiddle_0*np.exp(1j*w*t) + h_twiddle_0_conj*np.exp(-1j*w*t)"
   ]
  },
  {
   "cell_type": "code",
   "execution_count": null,
   "metadata": {},
   "outputs": [],
   "source": [
    "N = 128\n",
    "L = 1000 # m\n",
    "A = 3e-7\n",
    "gravitational_constant = 9.80665 # m/s^2\n",
    "wind_speed = 30 # m/s\n",
    "wind_dir = (1,1)\n",
    "wind_dir /= np.linalg.norm(wind_dir)\n",
    "lambda_ = 1\n",
    "\n",
    "k = np.linspace(0, N-1, N)\n",
    "kx = (2*np.pi*k - np.pi*N)/L\n",
    "kz = (2*np.pi*k - np.pi*N)/L\n",
    "wavevector_x, wavevector_z = np.meshgrid(kx, kz)\n",
    "grid_N, grid_M = np.meshgrid(k, k)\n",
    "\n",
    "h_twiddle_0 = func_h_twiddle_0(wavevector_x, wavevector_z)\n",
    "h_twiddle_0_conj = np.conjugate(func_h_twiddle_0(-wavevector_x, -wavevector_z))\n",
    "\n",
    "\n",
    "x = k * L / N\n",
    "z = k * L / N\n",
    "x, z = np.meshgrid(x, z)\n",
    "xs = []\n",
    "zs = []\n",
    "ys = []\n",
    "for t in np.linspace(0, 40, 48):\n",
    "    sign = (-1)**(grid_N + grid_M)\n",
    "    scale = N * N\n",
    "    h_twiddle = func_h_twiddle(h_twiddle_0, h_twiddle_0_conj, wavevector_x, wavevector_z, t)\n",
    "    ys.append(np.fft.ifft2(h_twiddle).real * sign * scale)\n",
    "    \n",
    "    k = np.sqrt(wavevector_x**2 + wavevector_z**2) + 0.0000001\n",
    "    xs.append(x + lambda_ * np.fft.ifft2(-1j * wavevector_x / k * h_twiddle).real * sign * scale)\n",
    "    zs.append(z + lambda_ * np.fft.ifft2(-1j * wavevector_z / k * h_twiddle).real * sign * scale)\n",
    "\n",
    "ipv.figure()\n",
    "ipv.xlim(0, L)\n",
    "ipv.zlim(0, L)\n",
    "ipv.ylim(-L/2, L/2)\n",
    "s0 = ipv.plot_surface(xs, ys, zs, color=\"Grey\")\n",
    "s1 = ipv.plot_wireframe(xs, ys, zs)\n",
    "ipv.animation_control((s0, s1)) # shows controls for animation controls\n",
    "# ipv.animation_control(s1) # shows controls for animation controls\n",
    "ipv.show()"
   ]
  },
  {
   "cell_type": "code",
   "execution_count": null,
   "metadata": {},
   "outputs": [],
   "source": [
    "import matplotlib.pyplot as plt\n",
    "\n",
    "plt.imshow(xs[0]-x, cmap=\"gray\")\n",
    "plt.colorbar();\n",
    "plt.show()"
   ]
  }
 ],
 "metadata": {
  "kernelspec": {
   "display_name": "Python 3",
   "language": "python",
   "name": "python3"
  },
  "language_info": {
   "codemirror_mode": {
    "name": "ipython",
    "version": 3
   },
   "file_extension": ".py",
   "mimetype": "text/x-python",
   "name": "python",
   "nbconvert_exporter": "python",
   "pygments_lexer": "ipython3",
   "version": "3.7.3"
  }
 },
 "nbformat": 4,
 "nbformat_minor": 2
}
