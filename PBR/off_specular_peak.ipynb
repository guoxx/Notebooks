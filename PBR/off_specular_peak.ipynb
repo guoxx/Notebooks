{
 "cells": [
  {
   "cell_type": "code",
   "execution_count": null,
   "metadata": {
    "collapsed": true
   },
   "outputs": [],
   "source": [
    "import enoki as ek\n",
    "import mitsuba\n",
    "mitsuba.set_variant(\"packet_rgb\")\n",
    "\n",
    "import pycode.BRDF as pyxBRDF\n",
    "from pycode.mitsuba_ext import Frame\n",
    "\n",
    "from mitsuba.core import Float, Vector3f\n",
    "\n",
    "import numpy as np\n",
    "\n",
    "def microfacetBRDF(linRough, wo, wi):\n",
    "    wh = wo + wi\n",
    "    wh = ek.normalize(wh)\n",
    "    ggxAlpha = linRough**2\n",
    "\n",
    "    cosThetaH = Frame.cos_theta(wh)\n",
    "    cosThetaI = Frame.cos_theta(wi)\n",
    "    cosThetaO = Frame.cos_theta(wo)\n",
    "\n",
    "    D = pyxBRDF.NDF_GGX(ggxAlpha, cosThetaH)\n",
    "    G = pyxBRDF.G_GGX(ggxAlpha, cosThetaO, cosThetaI)\n",
    "    return D * G / (4 * cosThetaO)\n",
    "\n",
    "\n",
    "def ggx_dominant_direction_exact(wo, linRough):\n",
    "    num_samples = 2048\n",
    "\n",
    "    theta = ek.linspace(Float, -np.pi/2, np.pi/2, num_samples)\n",
    "    phi = Float(0.0)\n",
    "    wi = sph.spherical_dir(theta, phi)\n",
    "\n",
    "    brdf = microfacetBRDF(linRough, wo, wi)\n",
    "    ind = np.argmax(brdf.numpy(), axis=None)\n",
    "    return np.array([wi.x[ind], wi.y[ind] * 0, wi.z[ind]])\n",
    "\n",
    "\n",
    "def ggx_dominant_direction_frostbite(wo, linRough):\n",
    "    R = np.array([-wo[0], wo[1], wo[2]])\n",
    "    N = np.array([0, 0, 1])\n",
    "\n",
    "    ggxAlpha = linRough**2\n",
    "    smoothness = 1 - ggxAlpha;\n",
    "    factor = smoothness * (np.sqrt(smoothness) + ggxAlpha);\n",
    "    return N * (1 - factor) + R * factor\n",
    "\n",
    "\n",
    "def ggx_dominant_direction_filament(wo, linRough):\n",
    "    R = np.array([-wo[0], wo[1], wo[2]])\n",
    "    N = np.array([0, 0, 1])\n",
    "\n",
    "    ggxAlpha = linRough**2\n",
    "    a2 = ggxAlpha**2\n",
    "    return R * (1 - a2) + N * a2"
   ]
  },
  {
   "cell_type": "code",
   "execution_count": null,
   "outputs": [],
   "source": [
    "import plotly.graph_objects as go\n",
    "import pycode.spherical as sph\n",
    "import numpy as np\n",
    "\n",
    "num_samples = 256\n",
    "linearRoughness = 0.75\n",
    "theta_o = 75.0/180*ek.pi\n",
    "\n",
    "\n",
    "theta, phi = sph.meshgrid_spherical(num_samples, num_samples, hemisphere=True)\n",
    "wi = sph.spherical_dir(theta, phi)\n",
    "wo = sph.spherical_dir(theta_o, 0)\n",
    "\n",
    "vals = microfacetBRDF(linearRoughness, wo, wi)\n",
    "\n",
    "x, y, z = [comp.numpy().reshape(num_samples, num_samples) for comp in [wi.x, wi.y, wi.z]]\n",
    "vals_np = vals.numpy().reshape(num_samples, num_samples)\n",
    "\n",
    "fig = go.Figure()\n",
    "fig.add_trace(go.Surface(x=x*vals_np, y=y*vals_np, z=z*vals_np, surfacecolor=vals_np))\n",
    "\n",
    "max_val = np.max(vals_np) * 1.1\n",
    "fig.update_layout(scene=dict(xaxis=dict(range=[-max_val,max_val]),\n",
    "                             yaxis=dict(range=[-max_val,max_val]),\n",
    "                             zaxis=dict(range=[-max_val,max_val]),\n",
    "                             aspectmode='manual',\n",
    "                             aspectratio=dict(x=1, y=1, z=1)))\n",
    "\n",
    "\n",
    "def plot_line(p, color):\n",
    "    fig.add_trace(go.Scatter3d(x=[0, p[0]], y=[0, p[1]], z=[0, p[2]],\n",
    "                               mode='lines',\n",
    "                               showlegend=False,\n",
    "                               line=dict(color=color)))\n",
    "\n",
    "\n",
    "def brdf_dominant_direction(brdf_vals, wi):\n",
    "    ind = np.argmax(brdf_vals, axis=None)\n",
    "    return np.array([wi.x[ind], wi.y[ind] * 0, wi.z[ind]])\n",
    "\n",
    "\n",
    "plot_line(wo.numpy()[0] * 100, 'red')\n",
    "plot_line(wo.numpy()[0] * [-1, 1, 1] * 100, 'red')\n",
    "# plot_line(brdf_dominant_direction(vals_np, wi) * 100, 'green')\n",
    "plot_line(ggx_dominant_direction_exact(wo, linearRoughness) * 100, 'gray')\n",
    "plot_line(ggx_dominant_direction_frostbite(wo.numpy()[0], linearRoughness) * 100, 'blue')\n",
    "plot_line(ggx_dominant_direction_filament(wo.numpy()[0], linearRoughness) * 100, 'aqua')\n",
    "\n",
    "fig.show()\n"
   ],
   "metadata": {
    "collapsed": false,
    "pycharm": {
     "name": "#%%\n"
    }
   }
  },
  {
   "cell_type": "code",
   "execution_count": null,
   "outputs": [],
   "source": [
    "def interpolation_factor(R, N, direction):\n",
    "    R = R / np.linalg.norm(R)\n",
    "    N = N / np.linalg.norm(N)\n",
    "    R = R.reshape(-1, 1)\n",
    "    N = N.reshape(-1, 1)\n",
    "\n",
    "    delta = 0.001\n",
    "    factor = np.arange(0.0, 1.0 + delta, delta).reshape(1, -1)\n",
    "    V = R * (1 - factor) + N * factor\n",
    "    V = V.transpose()\n",
    "    V /= np.linalg.norm(V, axis=1).reshape(-1, 1)\n",
    "\n",
    "    dist = np.dot(V, direction)\n",
    "    ind = np.argmax(dist, axis=None)\n",
    "    return factor[0][ind]\n",
    "\n",
    "\n",
    "R = wo.numpy()[0] * [-1, 1, 1]\n",
    "N = np.array([0, 0, 1])\n",
    "dominant_dir = ggx_dominant_direction_exact(wo, linearRoughness)\n",
    "tmp = interpolation_factor(R, N, dominant_dir)\n",
    "dominant_dir_ = R * (1 - tmp) + N * tmp\n",
    "dominant_dir_ /= np.linalg.norm(dominant_dir_)\n",
    "print(dominant_dir)\n",
    "print(dominant_dir_)"
   ],
   "metadata": {
    "collapsed": false,
    "pycharm": {
     "name": "#%%\n"
    }
   }
  },
  {
   "cell_type": "code",
   "execution_count": null,
   "outputs": [],
   "source": [
    "res = 32\n",
    "lut = np.zeros((res, res))\n",
    "for i in range(res):\n",
    "    linearRoughness = (i + 0.5) / res\n",
    "\n",
    "    for j in range(res):\n",
    "        theta_o = (j + 0.5) / res * 0.5 * np.pi\n",
    "\n",
    "        wo = sph.spherical_dir(theta_o, 0)\n",
    "        R = wo.numpy()[0] * [-1, 1, 1]\n",
    "        N = np.array([0, 0, 1])\n",
    "\n",
    "        dominant_dir = ggx_dominant_direction_exact(wo, linearRoughness)\n",
    "        interp = interpolation_factor(R, N, dominant_dir)\n",
    "        dominant_dir_ = R * (1-interp) + N * interp\n",
    "        dominant_dir_ /= np.linalg.norm(dominant_dir_)\n",
    "\n",
    "        lut[j][i] = interp\n"
   ],
   "metadata": {
    "collapsed": false,
    "pycharm": {
     "name": "#%%\n"
    }
   }
  },
  {
   "cell_type": "code",
   "execution_count": null,
   "outputs": [],
   "source": [
    "def interp_factor_frostbite(linRough, NdotV):\n",
    "    ggxAlpha = linRough**2\n",
    "\n",
    "    # best fit\n",
    "    lerpFactor = 0.298475 * NdotV * np.log(39.4115 - 39.0029 * ggxAlpha) + (0.385503 -0.385503 * NdotV) * np.log(13.1567 - 12.2848 * ggxAlpha)\n",
    "    return 1 - lerpFactor\n",
    "\n",
    "    # coarse fit\n",
    "    smoothness = 1 - ggxAlpha;\n",
    "    factor = smoothness * (np.sqrt(smoothness) + ggxAlpha);\n",
    "    return 1 - factor\n",
    "\n",
    "\n",
    "def interp_factor_filament(linRough):\n",
    "    ggxAlpha = linRough**2\n",
    "    a2 = ggxAlpha**2\n",
    "    return a2\n",
    "\n",
    "rough = (np.arange(0, res) + 0.5) / res\n",
    "theta_o = (np.arange(0, res) + 0.5) / res * 0.5 * np.pi\n",
    "rough, theta_o = np.meshgrid(rough, theta_o)\n",
    "fig = go.Figure()\n",
    "fig.add_trace(go.Surface(x=rough, y=theta_o, z=lut - interp_factor_filament(rough)))\n",
    "# fig.add_trace(go.Surface(x=rough, y=theta_o, z=interp_factor_filament(rough)))\n",
    "fig.show()\n"
   ],
   "metadata": {
    "collapsed": false,
    "pycharm": {
     "name": "#%%\n"
    }
   }
  },
  {
   "cell_type": "code",
   "execution_count": null,
   "outputs": [],
   "source": [
    "fig = go.Figure()\n",
    "fig.add_trace(go.Surface(x=rough, y=theta_o, z=lut - interp_factor_frostbite(rough, np.cos(theta_o))))\n",
    "# fig.add_trace(go.Surface(x=rough, y=theta_o, z=interp_factor_frostbite(rough)))\n",
    "# fig.add_trace(go.Surface(x=rough, y=theta_o, z=y**2))\n",
    "fig.show()\n"
   ],
   "metadata": {
    "collapsed": false,
    "pycharm": {
     "name": "#%%\n"
    }
   }
  },
  {
   "cell_type": "code",
   "execution_count": null,
   "outputs": [],
   "source": [],
   "metadata": {
    "collapsed": false,
    "pycharm": {
     "name": "#%%\n"
    }
   }
  }
 ],
 "metadata": {
  "kernelspec": {
   "display_name": "Python 3",
   "language": "python",
   "name": "python3"
  },
  "language_info": {
   "codemirror_mode": {
    "name": "ipython",
    "version": 2
   },
   "file_extension": ".py",
   "mimetype": "text/x-python",
   "name": "python",
   "nbconvert_exporter": "python",
   "pygments_lexer": "ipython2",
   "version": "2.7.6"
  }
 },
 "nbformat": 4,
 "nbformat_minor": 0
}