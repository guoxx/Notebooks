{
 "cells": [
  {
   "cell_type": "markdown",
   "metadata": {},
   "source": [
    "The work is inspired by [Memo on Fresnel equations](https://seblagarde.wordpress.com/2013/04/29/memo-on-fresnel-equations/), I strongly suggest you check it out if not."
   ]
  },
  {
   "cell_type": "markdown",
   "metadata": {},
   "source": [
    "#### Fresnel Equation basis\n",
    "\n",
    "The calculations of the reflectance $R$ (What we are looking for when we want to calculate the percentage of reflection and transmission) depend on p- and s-polarization of the incident ray. $R_s$ and $R_p$ are the reflectivity for the two planes of polarization. $R_s$ is perpendicular (s = German senkrecht) and $R_p$ is parallel. The reflectance $R$ for unpolarized light is the average of $R_s$ and $R_p$:\n",
    "\n",
    "\\begin{equation}\n",
    "R = \\frac {R_s + R_p} 2 = \\frac {{r_\\perp}{^2} + {r_\\parallel}{^2}} 2\n",
    "\\end{equation}"
   ]
  },
  {
   "cell_type": "markdown",
   "metadata": {},
   "source": [
    "Snell's law dielectric-dielectric interface :\n",
    "\n",
    "\\begin{align}\n",
    "\\theta_i &= \\theta_o \\\\\n",
    "\\eta_i \\sin \\theta_i &= \\eta_t \\sin \\theta_t\n",
    "\\end{align}\n",
    "\n",
    "Fresnel equation dielectric-dielectric interface:\n",
    "\n",
    "\\begin{align}\n",
    "& r_\\perp = \\frac {\\eta_i {\\cos \\theta_i} - \\eta_t {\\cos \\theta_t}} \n",
    "                  {\\eta_i {\\cos \\theta_i} + \\eta_t {\\cos \\theta_t}} \n",
    "\\\\\n",
    "& r_\\parallel = \\frac {\\eta_t {\\cos \\theta_i} - \\eta_i {\\cos \\theta_t}} \n",
    "                      {\\eta_t {\\cos \\theta_i} + \\eta_i {\\cos \\theta_t}}\n",
    "\\end{align}\n"
   ]
  },
  {
   "cell_type": "markdown",
   "metadata": {},
   "source": [
    "Conductor is silimar with dielectric except that it has complex IOR\n",
    "\n",
    "\\begin{equation}\n",
    "\\bar\\eta_t = \\eta_t + i\\kappa_t\n",
    "\\end{equation}\n",
    "\n",
    "Snell's law dielectric-conductor interface :\n",
    "\\begin{align}\n",
    "\\theta_i &= \\theta_o \\\\\n",
    "\\eta_i \\sin \\theta_i &= (\\eta_t + i\\kappa_t) \\sin \\theta_t\n",
    "\\end{align}\n",
    "\n",
    "Fresnel equation dielectric-conductor interface:\n",
    "\n",
    "\\begin{align}\n",
    "& R_s = \\frac {a^2 + b^2 - 2a\\cos\\theta + \\cos{^2}\\theta} \n",
    "                  {a^2 + b^2 + 2a\\cos\\theta + \\cos{^2}\\theta}\n",
    "\\\\\n",
    "& R_p = {r_\\perp} \\frac {\\cos{^2}\\theta \\space {(a^2 + b^2)} - {2a} \\space {\\cos\\theta} \\space {\\sin{^2}\\theta + \\sin{^4}\\theta}}\n",
    "                                {\\cos{^2}\\theta \\space {(a^2 + b^2)} + {2a} \\space {\\cos\\theta} \\space {\\sin{^2}\\theta + \\sin{^4}\\theta}}\n",
    "\\\\                    \n",
    "& a^2 = \\frac 1 {2{\\eta_i}{^2}} ({\\sqrt {(\\eta_t^2 - \\kappa_t^2 - \\eta_i^2 \\sin^2\\theta)^2 + 4\\eta_t^2\\kappa_t^2}} + \\eta_t^2 - \\kappa_t^2 - \\eta_i^2\\sin^2\\theta)\n",
    "\\\\                    \n",
    "& b^2 = \\frac 1 {2{\\eta_i}{^2}} ({\\sqrt {(\\eta_t^2 - \\kappa_t^2 - \\eta_i^2 \\sin^2\\theta)^2 + 4\\eta_t^2\\kappa_t^2}} - \\eta_t^2 + \\kappa_t^2 + \\eta_i^2\\sin^2\\theta)\n",
    "\\end{align}"
   ]
  },
  {
   "cell_type": "markdown",
   "metadata": {},
   "source": [
    "#### Fresnel Schlick’s approximation\n",
    "\n",
    "There is two possible versions of the approximation.\n",
    "\n",
    "The first Schlick’s approximation use $R(0)$ , the  Fresnel reflectance at 0° (reflectance at normal incidence), also name specular color in PBR game :\n",
    "\n",
    "\\begin{equation}\n",
    "R = R(0) + (1 - R(0))(1-\\cos\\theta)^5\n",
    "\\end{equation}\n",
    "\n",
    "For conductor:\n",
    "\\begin{equation}\n",
    "R(0) = \\frac {(\\eta_t - \\eta_i)^2 + \\kappa_t^2} \n",
    "             {(\\eta_t + \\eta_i)^2 + \\kappa_t^2} \n",
    "     = \\mathbb{Re} {\\frac {((\\eta_t + i\\kappa_t) - \\eta_i)((\\eta_t - i\\kappa_t) - \\eta_i)} \n",
    "                          {((\\eta_t + i\\kappa_t) + \\eta_i)((\\eta_t - i\\kappa_t) + \\eta_i)}}\n",
    "\\end{equation}\n",
    "\n",
    "For dielectric:\n",
    "\\begin{equation}\n",
    "R(0) = \\frac {(\\eta_t - \\eta_i)^2} \n",
    "             {(\\eta_t + \\eta_i)^2} \n",
    "\\end{equation}"
   ]
  },
  {
   "cell_type": "code",
   "execution_count": null,
   "metadata": {},
   "outputs": [],
   "source": [
    "import numpy as np\n",
    "import matplotlib.pyplot as plt\n",
    "import ipywidgets as widgets\n",
    "\n",
    "air_ior = 1.000293\n",
    "water_ior = 1.33\n",
    "\n",
    "def fresnel(costheta_i, eta_i, eta_t, kappa_t):\n",
    "    cosThetaI = costheta_i\n",
    "    eta = eta_t / eta_i\n",
    "    k = kappa_t / eta_i\n",
    "\n",
    "    cosThetaI2 = cosThetaI*cosThetaI\n",
    "    sinThetaI2 = 1-cosThetaI2\n",
    "    sinThetaI4 = sinThetaI2*sinThetaI2\n",
    "\n",
    "    temp1 = eta*eta - k*k - sinThetaI2\n",
    "    a2pb2 = np.sqrt(temp1*temp1 + 4*k*k*eta*eta)\n",
    "    a     = np.sqrt(0.5 * (a2pb2 + temp1))\n",
    "\n",
    "    term1 = a2pb2 + cosThetaI2\n",
    "    term2 = 2*a*cosThetaI\n",
    "\n",
    "    Rs2 = (term1 - term2) / (term1 + term2)\n",
    "\n",
    "    term3 = a2pb2*cosThetaI2 + sinThetaI4\n",
    "    term4 = term2*sinThetaI2\n",
    "\n",
    "    Rp2 = Rs2 * (term3 - term4) / (term3 + term4)\n",
    "\n",
    "    return 0.5 * (Rp2 + Rs2)\n",
    "\n",
    "def schlick(costheta_i, eta_i, eta_t, kappa_t):\n",
    "    spec_color = ((eta_t - eta_i)**2 + kappa_t**2) / ((eta_t + eta_i)**2 + kappa_t**2)\n",
    "    R = spec_color + (1.0 - spec_color) * (1.0 - costheta_i)**5\n",
    "    return R\n",
    "\n",
    "def comp_fresnel_impl(eta_t, kappa_t):\n",
    "    xs = np.deg2rad(np.arange(0, 90, 1))\n",
    "    ys = fresnel(np.cos(xs), air_ior, eta_t, kappa_t)\n",
    "    ys_approx = schlick(np.cos(xs), air_ior, eta_t, kappa_t)\n",
    "\n",
    "    plt.ylim(0.0, 1.0)\n",
    "    plt.plot(xs, ys, label=\"Fresnel\")\n",
    "    plt.plot(xs, ys_approx, label=\"Schlick Approximation\")\n",
    "    plt.legend(loc='upper left')\n",
    "    plt.show()\n",
    "\n",
    "widgets.interact(comp_fresnel_impl, eta_t=widgets.FloatSlider(min=air_ior,max=20,step=0.01,value=water_ior), kappa_t=widgets.FloatSlider(min=0,max=10,step=0.01,value=0.0))\n"
   ]
  },
  {
   "cell_type": "code",
   "execution_count": null,
   "metadata": {},
   "outputs": [],
   "source": []
  }
 ],
 "metadata": {
  "kernelspec": {
   "display_name": "Python 3",
   "language": "python",
   "name": "python3"
  },
  "language_info": {
   "codemirror_mode": {
    "name": "ipython",
    "version": 3
   },
   "file_extension": ".py",
   "mimetype": "text/x-python",
   "name": "python",
   "nbconvert_exporter": "python",
   "pygments_lexer": "ipython3",
   "version": "3.6.5"
  }
 },
 "nbformat": 4,
 "nbformat_minor": 2
}
