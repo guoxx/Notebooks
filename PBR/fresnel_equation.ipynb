{
 "cells": [
  {
   "cell_type": "markdown",
   "metadata": {},
   "source": [
    "The work is inspired by [Memo on Fresnel equations](https://seblagarde.wordpress.com/2013/04/29/memo-on-fresnel-equations/), check it out if you don't."
   ]
  },
  {
   "cell_type": "markdown",
   "metadata": {},
   "source": [
    "Snell's law dielectric-dielectric interface :\n",
    "$$\\theta_i = \\theta_o$$\n",
    "$$\\eta_i \\sin \\theta_i = \\eta_t \\sin \\theta_t$$\n",
    "\n",
    "Snell's law dielectric-conductorinterface :\n",
    "$$\\theta_i = \\theta_o$$\n",
    "$$\\eta_i \\sin \\theta_i = (\\eta_t + i\\kappa_t) \\sin \\theta_t$$"
   ]
  },
  {
   "cell_type": "markdown",
   "metadata": {},
   "source": [
    "Fresnel equation\n",
    "\n",
    "\\begin{equation}\n",
    "\\bar\\eta_i = \\eta_i + i\\kappa_i \\\\\n",
    "\\bar\\eta_t = \\eta_t + i\\kappa_t\n",
    "\\end{equation}\n",
    "\n",
    "\\begin{align}\n",
    "& r_\\perp = \\frac {a^2 + b^2 - 2a\\cos\\theta + \\cos{^2}\\theta} \n",
    "                  {a^2 + b^2 + 2a\\cos\\theta + \\cos{^2}\\theta} \\\\\n",
    "& r_\\parallel = {r_\\perp} \\frac {\\cos{^2}\\theta \\space {(a^2 + b^2)} - {2a} \\space {\\cos\\theta} \\space {\\sin{^2}\\theta + \\sin{^4}\\theta}}\n",
    "                                {\\cos{^2}\\theta \\space {(a^2 + b^2)} + {2a} \\space {\\cos\\theta} \\space {\\sin{^2}\\theta + \\sin{^4}\\theta}}\n",
    "\\end{align}"
   ]
  },
  {
   "cell_type": "code",
   "execution_count": null,
   "metadata": {},
   "outputs": [],
   "source": []
  }
 ],
 "metadata": {
  "kernelspec": {
   "display_name": "Python 3",
   "language": "python",
   "name": "python3"
  },
  "language_info": {
   "codemirror_mode": {
    "name": "ipython",
    "version": 3
   },
   "file_extension": ".py",
   "mimetype": "text/x-python",
   "name": "python",
   "nbconvert_exporter": "python",
   "pygments_lexer": "ipython3",
   "version": "3.6.4"
  }
 },
 "nbformat": 4,
 "nbformat_minor": 2
}
