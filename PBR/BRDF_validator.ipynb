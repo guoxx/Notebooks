{
 "cells": [
  {
   "cell_type": "markdown",
   "metadata": {},
   "source": [
    "This work is inspicred by Eric Heitz [Understanding the Masking-Shadowing Function in Microfacet-Based BRDFs](http://jcgt.org/published/0003/02/03/), check it out if you hadn't."
   ]
  },
  {
   "cell_type": "markdown",
   "metadata": {},
   "source": [
    "A BRDF derived from microfacet theory has the form $\\frac {F(w_i, w_h, \\eta) D(w_h) G(w_i, w_o, w_h)} {4 \\overline\\cos\\theta_i \\overline\\cos\\theta_o}$, sometimes $\\frac {1} {4 \\overline\\cos\\theta_i \\overline\\cos\\theta_o}$ is been cancelled by G term so that it has the form $F(w_i, w_h, \\eta) D(w_h) G(w_i, w_o, w_h)$:\n",
    "* F: [fresnel equation](fresnel_equation.ipynb).\n",
    "* D: normal distributuion function (NDF in abbrev.).\n",
    "* G: masking and shadowing function, it's a composition of two visibility function (named $G_1$ by convention) for view and light direction."
   ]
  },
  {
   "cell_type": "markdown",
   "metadata": {},
   "source": [
    "A physically based BRDF must satify following constrains:\n",
    "* The (signed) projected area of the microsurface is the same as the projected area of the macrosurface for any direction $v$\n",
    "$$\\int_{\\Omega} D(m) \\overline{(v \\cdot m)} d{W_m} = v \\cdot n$$\n",
    "and in the special case $v=n$\n",
    "$$\\int_{\\Omega} D(m) \\overline{(n \\cdot m)} d{W_m} = 1$$\n",
    "\n",
    "* The projected area of the geometric surface onto the outgoing direction is also the projected area of the visible microsurface\n",
    "$$\\int_{\\Omega} G_1(o, m) \\overline{(o \\cdot m)} D(m) d{W_m} = \\overline{o \\cdot n}$$\n",
    "\n",
    "* If we don't take into accout the fresnel and shadowing, remain part of the BRDF $\\frac {G_1(o, m) D(m)} {4 \\cos \\theta_i \\cos \\theta_o}$ can be treat as the light reflect from visible normal surface, since in this model, no energy was lost so that the integral should be 1:\n",
    "$$\\int_{\\Omega} \\frac {G_1(o, m) D(m)} {4 \\cos \\theta_o} d(W_i) = 1$$"
   ]
  },
  {
   "cell_type": "code",
   "execution_count": 1,
   "metadata": {},
   "outputs": [],
   "source": [
    "import numpy as np\n",
    "import scipy.integrate as integrate\n",
    "import matplotlib.pyplot as plt\n",
    "import ipywidgets as widgets"
   ]
  },
  {
   "cell_type": "code",
   "execution_count": 27,
   "metadata": {},
   "outputs": [],
   "source": [
    "def lerp(t, v1, v2):\n",
    "    return (1 - t) * v1 + t * v2;\n",
    "\n",
    "def sqr(x):\n",
    "    return x * x\n",
    "\n",
    "def saturate(x):\n",
    "    return np.clip(x, 0.0, 1.0)\n",
    "\n",
    "def sphericalToCoordinates(theta, phi):\n",
    "    return np.array([np.sin(theta) * np.cos(phi), np.sin(theta) * np.sin(phi), np.cos(theta)])\n",
    "\n",
    "def roughnessToAlpha(roughness):\n",
    "    return roughness * roughness\n",
    "\n",
    "def hemisphere_integrate(func):\n",
    "#     def integrand(phi, theta):\n",
    "#         w = sphericalToCoordinates(theta, phi)\n",
    "#         return func(w) * np.sin(theta)\n",
    "#     return integrate.dblquad(integrand, 0, np.pi/2-0.00001, lambda _: 0, lambda _: np.pi*2)\n",
    "    dtheta = 0.05/4\n",
    "    dphi = 0.05\n",
    "    integral = 0.0\n",
    "    for theta in np.arange(0, np.pi/2, dtheta):\n",
    "        for phi in np.arange(0, np.pi*2, dphi):\n",
    "            w = sphericalToCoordinates(theta, phi)\n",
    "            integral += func(w) * np.sin(theta)\n",
    "    return integral * dtheta * dphi\n",
    "\n",
    "# def spherical_integrand(theta, phi, func):\n",
    "#     x = np.sin(theta) * np.cos(phi)\n",
    "#     y = np.sin(theta) * np.sin(phi)\n",
    "#     z = np.cos(theta)\n",
    "#     return func([x, y, z]) * np.sin(theta)\n",
    "\n",
    "# def NDF_integrand(theta, phi, ndf):\n",
    "#     return spherical_integrand(theta, phi, lambda v: ndf(v) * np.cos(theta))\n",
    "\n"
   ]
  },
  {
   "cell_type": "code",
   "execution_count": 28,
   "metadata": {},
   "outputs": [],
   "source": [
    "# http://graphicrants.blogspot.com/2013/08/specular-brdf-reference.html\n",
    "\n",
    "def D_BlinnPhong(H, a):\n",
    "    NdotH = H[2]\n",
    "    a2 = a * a\n",
    "    return 1 / (np.pi * a2) * np.power(NdotH, 2 / a2 - 2)\n",
    "\n",
    "def D_Beckmann(H, a):\n",
    "    cosTheta = H[2]\n",
    "    cosTheta2 = cosTheta * cosTheta\n",
    "    cosTheta4 = cosTheta2 * cosTheta2\n",
    "    a2 = a * a\n",
    "    return 1 / (np.pi * a2 * cosTheta4) * np.exp((cosTheta2 - 1) / (a2 * cosTheta2))\n",
    "\n",
    "def D_GGX(H, a):\n",
    "    cosTheta = H[2]\n",
    "    cosTheta2 = cosTheta * cosTheta\n",
    "    a2 = a * a\n",
    "    d = cosTheta2 * (a2 - 1) + 1\n",
    "    return a2 / (np.pi * d * d)\n",
    "\n",
    "def D_GGX_Aniso(H, anisotropic, a):\n",
    "    aspect = np.sqrt(1 - anisotropic * 0.9)\n",
    "    ax = np.maximum(.001, a / aspect)\n",
    "    ay = np.maximum(.001, a * aspect)\n",
    "\n",
    "    NdotH = H[2]\n",
    "    HdotX = H[0]\n",
    "    HdotY = H[1]\n",
    "    return 1 / (np.pi * ax*ay * sqr( sqr(HdotX/ax) + sqr(HdotY/ay) + NdotH*NdotH ))"
   ]
  },
  {
   "cell_type": "code",
   "execution_count": 29,
   "metadata": {},
   "outputs": [
    {
     "data": {
      "application/vnd.jupyter.widget-view+json": {
       "model_id": "40f1e0c7ca8246ff83a70331e55b59ed",
       "version_major": 2,
       "version_minor": 0
      },
      "text/plain": [
       "interactive(children=(Dropdown(description='Number:', index=2, options=('BlinnPhong', 'Beckmann', 'GGX', 'GGX_…"
      ]
     },
     "metadata": {},
     "output_type": "display_data"
    },
    {
     "data": {
      "text/plain": [
       "<function __main__.validate(NDF, roughness, anisotropic)>"
      ]
     },
     "execution_count": 29,
     "metadata": {},
     "output_type": "execute_result"
    }
   ],
   "source": [
    "def validate(NDF, roughness, anisotropic):\n",
    "    alpha = roughnessToAlpha(roughness)\n",
    "    \n",
    "    def integrand(w):\n",
    "        D = 0.0\n",
    "        if NDF == \"BlinnPhong\":\n",
    "            D = D_BlinnPhong(w, roughness)\n",
    "        elif NDF == \"Beckmann\":\n",
    "            D = D_Beckmann(w, roughness)\n",
    "        elif NDF == \"GGX\":\n",
    "            D = D_GGX(w, roughness)\n",
    "        elif NDF == \"GGX_Aniso\":\n",
    "            D = D_GGX_Aniso(w, anisotropic, roughness)\n",
    "        cosTheta = w[2]\n",
    "        return D * cosTheta\n",
    "\n",
    "    result = hemisphere_integrate(integrand)\n",
    "    print(\"Expected value = 1.0, numberically result = %s\" % str(result))\n",
    "\n",
    "NDF = widgets.Dropdown(options=['BlinnPhong', 'Beckmann', 'GGX', 'GGX_Aniso'], \n",
    "                       value='GGX',\n",
    "                       description='Number:',\n",
    "                       disabled=False)\n",
    "anisotropic = widgets.FloatSlider(min=0,max=1,step=0.1,value=0.6)\n",
    "roughness = widgets.FloatSlider(min=0.1,max=1,step=0.1,value=0.6);\n",
    "widgets.interact(validate, NDF=NDF, anisotropic=anisotropic, roughness=roughness)"
   ]
  },
  {
   "cell_type": "code",
   "execution_count": 30,
   "metadata": {},
   "outputs": [],
   "source": [
    "def G1_Beckman(V, alpha):\n",
    "    theta_o = np.arccos(V[2])\n",
    "    a = 1 / (alpha * np.tan(theta_o));\n",
    "    Lambda = 0.0\n",
    "    if a < 1.6:\n",
    "        Lambda = (1 - 1.259*a + 0.396*a**2) / (3.535*a + 2.181*a**2);\n",
    "    else:\n",
    "        Lambda = 0.0\n",
    "    G = 1.0 / (1 + Lambda);\n",
    "    return G\n",
    "\n",
    "def G1_GGX(V, a):\n",
    "    a2 = a * a\n",
    "    cosTheta = V[2]\n",
    "    cosTheta2 = cosTheta * cosTheta\n",
    "    return 2 * cosTheta / (cosTheta + np.sqrt(a2 + (1 - a2) * cosTheta2))"
   ]
  },
  {
   "cell_type": "code",
   "execution_count": null,
   "metadata": {},
   "outputs": [],
   "source": [
    "def validate(thetaO, phiO, alpha):\n",
    "    thetaO = thetaO * np.pi / 2 - 0.000001\n",
    "    phiO = phiO * np.pi * 2\n",
    "    Wo = sphericalToCoordinates(thetaO, phiO)\n",
    "\n",
    "    G = G1_GGX(Wo, alpha)\n",
    "    \n",
    "    def integrand(Wh):\n",
    "        return G * D_GGX(Wh, alpha) * saturate(np.dot(Wo, Wh))\n",
    "\n",
    "    result = hemisphere_integrate(integrand)\n",
    "    print(\"Expected value = {}, numberically result = {}\".format(str(Wo[2]), str(result)))\n",
    "\n",
    "theta = widgets.FloatSlider(min=0,max=1,step=0.1,value=0.5);\n",
    "phi = widgets.FloatSlider(min=0,max=1,step=0.1,value=0.5);\n",
    "alpha = widgets.FloatSlider(min=0.01,max=1,step=0.1,value=0.5);\n",
    "widgets.interact(validate, thetaO=theta, phiO=phi, alpha=alpha)"
   ]
  },
  {
   "cell_type": "code",
   "execution_count": 33,
   "metadata": {},
   "outputs": [
    {
     "data": {
      "application/vnd.jupyter.widget-view+json": {
       "model_id": "80e16a85d8fe4341b749d623c2d29f36",
       "version_major": 2,
       "version_minor": 0
      },
      "text/plain": [
       "interactive(children=(FloatSlider(value=0.5, description='thetaO', max=1.0), FloatSlider(value=0.5, descriptio…"
      ]
     },
     "metadata": {},
     "output_type": "display_data"
    },
    {
     "data": {
      "text/plain": [
       "<function __main__.validate(thetaO, phiO, alpha)>"
      ]
     },
     "execution_count": 33,
     "metadata": {},
     "output_type": "execute_result"
    }
   ],
   "source": [
    "def validate(thetaO, phiO, alpha):\n",
    "    thetaO = thetaO * np.pi / 2 - 0.000001\n",
    "    phiO = phiO * np.pi * 2\n",
    "    Wo = sphericalToCoordinates(thetaO, phiO)\n",
    "\n",
    "    G = G1_Beckman(Wo, alpha)\n",
    "\n",
    "    def integrand(Wi):\n",
    "        Wh = Wi + Wo\n",
    "        Wh /= np.linalg.norm(Wh)\n",
    "        cosThetaO = Wo[2]\n",
    "        return G * D_Beckmann(Wh, alpha) / (4 * cosThetaO)\n",
    "\n",
    "    result = hemisphere_integrate(integrand)\n",
    "    print(\"Expected value = {}, numberically result = {}\".format(str(1), str(result)))\n",
    "\n",
    "theta = widgets.FloatSlider(min=0,max=1,step=0.1,value=0.5);\n",
    "phi = widgets.FloatSlider(min=0,max=1,step=0.1,value=0.5);\n",
    "alpha = widgets.FloatSlider(min=0.01,max=1,step=0.1,value=0.5);\n",
    "widgets.interact(validate, thetaO=theta, phiO=phi, alpha=alpha)"
   ]
  },
  {
   "cell_type": "code",
   "execution_count": null,
   "metadata": {},
   "outputs": [],
   "source": []
  }
 ],
 "metadata": {
  "kernelspec": {
   "display_name": "Python 3",
   "language": "python",
   "name": "python3"
  },
  "language_info": {
   "codemirror_mode": {
    "name": "ipython",
    "version": 3
   },
   "file_extension": ".py",
   "mimetype": "text/x-python",
   "name": "python",
   "nbconvert_exporter": "python",
   "pygments_lexer": "ipython3",
   "version": "3.6.5"
  }
 },
 "nbformat": 4,
 "nbformat_minor": 2
}
