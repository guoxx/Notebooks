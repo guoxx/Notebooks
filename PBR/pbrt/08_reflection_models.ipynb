{
 "cells": [
  {
   "cell_type": "markdown",
   "metadata": {},
   "source": [
    "# Specular reflection and transimission\n",
    "\n",
    "The behavior of light at perfectly smooth surfaces can be characterize by [Fresnel equation and Snell's Law](../fresnel_equation.ipynb), and it's easy to solve analytically.  \n",
    "\n",
    "Let's define the notions:  \n",
    "$W_i$ : incoming vector  \n",
    "$L_i$ : incoming radiance  \n",
    "$\\eta_i$ : IOR of exterior medium  \n",
    "$W_o$ : outgoing vector  \n",
    "$L_o$ : outgoing radiance  \n",
    "$\\eta_o$ : IOR of interior medium  \n",
    "$F_r$ : fresnel  \n",
    "$f$ : BRDF or BTDF  \n",
    "$\\delta$ : delta distribution\n"
   ]
  },
  {
   "cell_type": "markdown",
   "metadata": {},
   "source": [
    "## Specular reflection\n",
    "\n",
    "In reflection case, the amout of reflected light is $L_i*F_r$, so we have\n",
    "\\begin{align}\n",
    "L_o(W_o) &= \\int_{hemisphere} {f(W_i, W_o)} {L_i(W_i)} {\\overline{cos(\\theta_i)}} d{W_i} = L_i(W_i) F_r(W_i, \\eta_i, \\eta_o)\n",
    "\\end{align}\n",
    "\n",
    "For perfectly smooth surface, there is only one direction that will reflect light, so that BRDF will be delta distribution and integral can be removed. Then we have\n",
    "\\begin{align}\n",
    "f(W_i, W_o) = \\frac {F_r(W_i, \\eta_i, \\eta_o) \\delta(W_i, Reflect(W_o))} {\\overline{cos(\\theta_i)}}\n",
    "\\end{align}\n",
    "\n",
    "We also noticed that $\\theta_i = \\theta_o$ and $\\phi_i = \\phi_o + \\pi$, so BRDF is reciprocity which means $f(W_i, W_o) = f(W_o, W_i)$\n",
    "\n",
    "## Specular transmission\n",
    "\n",
    "For transmission, the amout of reflected light is $L_i*(1 - F_r)$, but be carefull with solid angle compression. Here are simple description from pbrt book\n",
    "\n",
    "> When light refracts into a material with a higher index of refraction than the incident  \n",
    "medium’s index of refraction, the energy is compressed into a smaller set of angles. This is  \n",
    "easy to see yourself, for instance, by looking at the sky from underwater in a quiet outdoor  \n",
    "swimming pool. Because no light can be refracted below the critical angle (∼ 48.6◦ for  \n",
    "water), the incident hemisphere of light is squeezed into a considerably smaller subset  \n",
    "of the hemisphere, which covers the remaining set of angles. Radiance along rays that  \n",
    "do refract must thus increase so that energy is preserved when light passes through the  \n",
    "interface. More precisely, the incident (Li) and transmitted (Lt) radiance are related by  \n",
    "\n",
    "We can derive the equation with following steps\n",
    "\\begin{align}\n",
    "d{\\Phi_o} &= {(1 - F_r(W_i, \\eta_i, \\eta_o))} d{\\Phi_i} \\\\\n",
    "L_o(W_o) d{W_o} cos(\\theta_o) d{A} &= {(1 - F_r(W_i, \\eta_i, \\eta_o))} L_i(W_i) d{W_i} cos(\\theta_i) d{A} \\\\\n",
    "L_o(W_o) sin(\\theta_o) d{\\theta_o} d{\\phi_o} cos(\\theta_o) d{A} &= {(1 - F_r(W_i, \\eta_i, \\eta_o))} L_i(W_i) sin(\\theta_i) d{\\theta_i} d{\\phi_i} cos(\\theta_i) d{A}\n",
    "\\end{align}\n",
    "\n",
    "With Snell's law, it can be simplied\n",
    "\\begin{align}\n",
    "L_o(W_o) = \\frac {\\eta_o^2} {\\eta_i^2} {(1 - F_r(W_i, \\eta_i, \\eta_o))} L_i(W_i)\n",
    "\\end{align}\n",
    "\n",
    "Then we have\n",
    "\\begin{align}\n",
    "f(W_i, W_o) = \\frac {\\eta_o^2} {\\eta_i^2} {(1 - F_r(W_i, \\eta_i, \\eta_o))} L_i(W_i) \\frac {\\delta(W_i, Refract(W_o))} {\\overline{cos(\\theta_i)}}\n",
    "\\end{align}\n",
    "\n",
    "And we noticed that BTDF doesn't reciprocal due to solid angle compression."
   ]
  },
  {
   "cell_type": "markdown",
   "metadata": {},
   "source": [
    "# Microfacet models\n",
    "\n",
    "There are several awesome papers that give very detailed explanation about microfacet theory, check it if you don't:  \n",
    "* [Theory for Off-Specular Reflection From Roughened Surfaces](http://www.graphics.cornell.edu/~westin/pubs/TorranceSparrowJOSA1967.pdf)\n",
    "* [Microfacet Models for Refraction through Rough Surfaces](https://dl.acm.org/citation.cfm?id=2383874)\n",
    "* [Understanding the Masking-Shadowing Functionin Microfacet-Based BRDFs](http://jcgt.org/published/0003/02/03/paper.pdf)\n",
    "\n",
    "We can obtain BRDF and BTDF for microfacet models with following setup and derivation."
   ]
  },
  {
   "cell_type": "markdown",
   "metadata": {},
   "source": [
    "![](../images/setting_for_the_derivation_of_the_torrance_sparrow_model.png)"
   ]
  },
  {
   "cell_type": "markdown",
   "metadata": {},
   "source": [
    "### BRDF\n",
    "\n",
    "Firstly, we need to measure power of energy in microface, then convert to macrosurface.\n",
    "\n",
    "\\begin{align}\n",
    "d{\\Phi_h} &= L_i(W_i) d{W_i} cos(\\theta_h) dA(W_h) \\\\\n",
    "          &= L_i(W_i) d{W_i} cos(\\theta_h) D(W_h) G(W_h) dA\n",
    "\\end{align}\n",
    "\n",
    "Some part of light is reflected base on fresnel $d{\\Phi_o} = F_r d{\\Phi_h}$\n",
    "\n",
    "\\begin{align}\n",
    "d{\\Phi_o} &= F_r L_i(W_i) d{W_i} cos(\\theta_h) D(W_h) G(W_h) d{W_h} dA \\\\\n",
    "          &= L_o(W_o) d{W_o} cos(\\theta_o) dA\n",
    "\\end{align}\n",
    "\n",
    "So\n",
    "\n",
    "\\begin{align}\n",
    "L_o(W_o) &= \\frac {F_r L_i(W_i) d{W_i} cos(\\theta_h) D(W_h) G(W_h) d{W_h}}  {d{W_o} cos(\\theta_o)} \\hspace{1cm} \\text{where} \\hspace{1cm} d{W_h} = \\frac {d{W_o}} {4 cos(\\theta_h)} \\\\\n",
    "         &= \\frac {F_r L_i(W_i) d{W_i} D(W_h) G(W_h)}  {4 cos(\\theta_o)}\n",
    "\\end{align}\n",
    "\n",
    "By the definition of BRDF $$f = \\frac {L_o} {d{E_i}} = \\frac {L_o} {L_i(W_i) * cos(\\theta_i) * d{W_i}}$$\n",
    "\n",
    "Now we have\n",
    "\\begin{align}\n",
    "f(W_i, W_o) = \\frac {F_r D(W_h) G(W_h)}  {4 cos(\\theta_o) cos(\\theta_i)}\n",
    "\\end{align}\n",
    "\n",
    "Still this BRDF is reciprocity.\n",
    "\n",
    "### BTDF\n",
    "\n",
    "Derivation of BTDF is almost the same as BRDF except that\n",
    "$$d{W_h} = d{W_o} \\frac {\\eta_o^2 |(W_o \\cdot W_h)|} {(\\eta_i (W_i \\cdot W_h) + \\eta_o (W_o \\cdot W_h))^2}$$\n",
    "\n",
    "So we have BTDF\n",
    "\\begin{align}\n",
    "f(W_i, W_o) = {\\frac {(1 - F_r) D(W_h) G(W_h)} {cos(\\theta_o) cos(\\theta_i)}} {\\frac {\\eta_o^2 |W_o \\cdot W_h| |W_i \\cdot W_h |} {(\\eta_i (W_i \\cdot W_h) + \\eta_o (W_o \\cdot W_h))^2}}\n",
    "\\end{align}\n",
    "\n",
    "It's important to notice that BTDF is not reciprocity, and we have $$\\frac {f(W_i, W_o)} {\\eta_o^2} = \\frac {f(W_o, W_i)} {\\eta_i^2}$$"
   ]
  },
  {
   "cell_type": "code",
   "execution_count": null,
   "metadata": {},
   "outputs": [],
   "source": []
  }
 ],
 "metadata": {
  "kernelspec": {
   "display_name": "Python 3",
   "language": "python",
   "name": "python3"
  },
  "language_info": {
   "codemirror_mode": {
    "name": "ipython",
    "version": 3
   },
   "file_extension": ".py",
   "mimetype": "text/x-python",
   "name": "python",
   "nbconvert_exporter": "python",
   "pygments_lexer": "ipython3",
   "version": "3.6.5"
  }
 },
 "nbformat": 4,
 "nbformat_minor": 2
}
