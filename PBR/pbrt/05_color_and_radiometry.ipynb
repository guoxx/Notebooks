{
 "cells": [
  {
   "cell_type": "markdown",
   "metadata": {},
   "source": [
    "#### Compute the irradiance at a point due to a unit-radius disk h units directly above its normal with constant outgoing radiance of 10 W/m2 sr. Do the computation twice, once as an integral over solid angle and once as an integral over area. (Hint: If the results don’t match at ﬁrst, see Section 13.6.2.) \n",
    "\n",
    "[Solid angle subtended by a oriented disk](../../memo/solid_angle_subtended_by_a_oriented_disk.ipynb)  \n",
    "[cornell cs6630 notes for Radiometry chapter](http://www.cs.cornell.edu/courses/cs6630/2012sp/notes/02radiom.pdf)\n",
    "\n",
    "\n",
    "#### Similarly, compute the irradiance at a point due to a square quadrilateral with outgoing radiance of 10W/m2 sr that has sides of length 1 and is 1 unit directly above the point in the direction of its surface normal.\n",
    "\n",
    "[Solid Angle of a Rectangular Plate](http://www.mpia.de/~mathar/public/mathar20051002.pdf)"
   ]
  },
  {
   "cell_type": "markdown",
   "metadata": {},
   "source": []
  }
 ],
 "metadata": {
  "kernelspec": {
   "display_name": "Python 3",
   "language": "python",
   "name": "python3"
  },
  "language_info": {
   "codemirror_mode": {
    "name": "ipython",
    "version": 3
   },
   "file_extension": ".py",
   "mimetype": "text/x-python",
   "name": "python",
   "nbconvert_exporter": "python",
   "pygments_lexer": "ipython3",
   "version": "3.6.4"
  }
 },
 "nbformat": 4,
 "nbformat_minor": 2
}
