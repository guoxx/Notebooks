{
 "cells": [
  {
   "cell_type": "code",
   "execution_count": null,
   "metadata": {},
   "outputs": [],
   "source": [
    "import jax.numpy as jnp\n",
    "import scipy"
   ]
  },
  {
   "cell_type": "code",
   "execution_count": null,
   "metadata": {
    "pycharm": {
     "name": "#%%\n"
    }
   },
   "outputs": [],
   "source": [
    "def func(x):\n",
    "    return jnp.sin(x)\n",
    "\n",
    "def func_approx(x, a, b, c):\n",
    "    return a*x**3 + b*x**2 + c*x"
   ]
  },
  {
   "cell_type": "code",
   "execution_count": null,
   "metadata": {
    "pycharm": {
     "name": "#%%\n"
    }
   },
   "outputs": [],
   "source": [
    "import matplotlib.pyplot as plt\n",
    "\n",
    "x = jnp.arange(0, jnp.pi*2, 0.1)\n",
    "y = func(x)\n",
    "plt.plot(x, y)\n",
    "plt.show()"
   ]
  },
  {
   "cell_type": "code",
   "execution_count": null,
   "metadata": {
    "pycharm": {
     "name": "#%%\n"
    }
   },
   "outputs": [],
   "source": [
    "from scipy import optimize\n",
    "\n",
    "# solution 1: curve fitting\n",
    "popt, pcov = optimize.curve_fit(func_approx, x, y)\n",
    "print(popt)\n",
    "y_ = func_approx(x, *popt)\n",
    "plt.plot(x, y, label=\"exact\")\n",
    "plt.plot(x, y_, label=\"approx\")\n",
    "plt.legend()\n",
    "plt.show()"
   ]
  },
  {
   "cell_type": "code",
   "execution_count": null,
   "metadata": {
    "pycharm": {
     "name": "#%%\n"
    }
   },
   "outputs": [],
   "source": [
    "# solution 2: Nelder-Mead optimization\n",
    "def obj_func(params):\n",
    "    a, b, c = params\n",
    "\n",
    "    x = jnp.arange(0, jnp.pi*2, 0.1)\n",
    "    y0 = func(x)\n",
    "    y1 = func_approx(x, a, b, c)\n",
    "    return jnp.mean(jnp.square(y1 - y0))\n",
    "\n",
    "initial_guess = [0,0,0.5]\n",
    "result = optimize.minimize(obj_func, initial_guess, method=\"Nelder-Mead\")\n",
    "y_ = func_approx(x, *result.x)\n",
    "plt.plot(x, y, label=\"exact\")\n",
    "plt.plot(x, y_, label=\"approx\")\n",
    "plt.legend()\n",
    "plt.show()\n"
   ]
  },
  {
   "cell_type": "code",
   "execution_count": null,
   "metadata": {
    "pycharm": {
     "name": "#%%\n"
    }
   },
   "outputs": [],
   "source": [
    "import jax\n",
    "\n",
    "# solution 3: gradient descent\n",
    "@jax.jit\n",
    "def loss(params):\n",
    "    a, b, c = params\n",
    "    x = jnp.arange(0, jnp.pi*2, 0.1)\n",
    "    y0 = func(x)\n",
    "    y1 = func_approx(x, a, b, c)\n",
    "    return jnp.mean(jnp.square(y1 - y0))\n",
    "\n",
    "@jax.jit\n",
    "def update_parameters_step(params, learning_rate=0.0001):\n",
    "  grad_loss = jax.grad(loss)\n",
    "  grads = grad_loss(params)\n",
    "  return [param - learning_rate * grad for param, grad in zip(params, grads)]\n",
    "\n",
    "def optimize_loop(x0, print_loss = False):\n",
    "    NUM_STEPS = 50000*4\n",
    "    for n in range(NUM_STEPS):\n",
    "        x0 = update_parameters_step(x0)\n",
    "        if print_loss and n % 1000 == 0:\n",
    "            print(x0, obj_func(x0))\n",
    "    return x0\n",
    "\n",
    "result = optimize_loop([0.0, 0.0, 1.0], print_loss=False)\n",
    "y_ = func_approx(x, *result)\n",
    "plt.plot(x, y, label=\"exact\")\n",
    "plt.plot(x, y_, label=\"approx\")\n",
    "plt.legend()\n",
    "plt.show()"
   ]
  },
  {
   "cell_type": "code",
   "execution_count": null,
   "metadata": {
    "pycharm": {
     "name": "#%%\n"
    }
   },
   "outputs": [],
   "source": [
    "import numpy as np\n",
    "\n",
    "# solution 4: SVD\n",
    "n = 40\n",
    "A = np.zeros([n, 3])\n",
    "x = np.random.random(n) * np.pi * 2\n",
    "A_ = A.transpose()\n",
    "A_[0] = x**3\n",
    "A_[1] = x**2\n",
    "A_[2] = x\n",
    "A = A_.transpose()\n",
    "b = func(x)\n",
    "\n",
    "U, S, VT = np.linalg.svd(A, full_matrices=False)\n",
    "print(U.T.shape)\n",
    "xtilde = VT.T @ np.linalg.inv(np.diag(S)) @ U.T @ b\n",
    "\n",
    "x = jnp.arange(0, jnp.pi*2, 0.1)\n",
    "y = func(x)\n",
    "y_ = func_approx(x, *xtilde)\n",
    "print(xtilde)\n",
    "plt.plot(x, y, label=\"exact\")\n",
    "plt.plot(x, y_, label=\"approx\")\n",
    "plt.legend()\n",
    "plt.show()"
   ]
  }
 ],
 "metadata": {
  "kernelspec": {
   "display_name": "Python 3",
   "language": "python",
   "name": "python3"
  },
  "language_info": {
   "codemirror_mode": {
    "name": "ipython",
    "version": 3
   },
   "file_extension": ".py",
   "mimetype": "text/x-python",
   "name": "python",
   "nbconvert_exporter": "python",
   "pygments_lexer": "ipython3",
   "version": "3.8.3"
  }
 },
 "nbformat": 4,
 "nbformat_minor": 4
}
