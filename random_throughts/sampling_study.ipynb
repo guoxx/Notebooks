{
 "cells": [
  {
   "cell_type": "code",
   "execution_count": null,
   "metadata": {},
   "outputs": [],
   "source": [
    "import numpy as np\n",
    "import matplotlib.pyplot as plt\n",
    "\n",
    "def f(theta):\n",
    "    return np.cos(theta) + np.sin(6*theta)**4\n",
    "\n",
    "dx = 0.001\n",
    "x = np.arange(0, np.pi/2, dx)\n",
    "y = f(x)\n",
    "plt.plot(x,y)\n",
    "plt.ylim(0,2)\n",
    "plt.xlim(0, np.pi/2)\n",
    "plt.show()\n",
    "\n",
    "print(\"integral = \", np.sum(y)*dx)"
   ]
  },
  {
   "cell_type": "code",
   "execution_count": null,
   "metadata": {
    "pycharm": {
     "name": "#%%\n"
    }
   },
   "outputs": [],
   "source": [
    "# sampling by inverse cdf\n",
    "\n",
    "import scipy.stats as stats\n",
    "\n",
    "dx = 0.005\n",
    "x = np.arange(0, np.pi/2, dx)\n",
    "xi = np.arange(0, x.shape[0])\n",
    "y = f(x)\n",
    "dpdf = stats.rv_discrete(values=(xi, y/np.sum(y)))\n",
    "\n",
    "plt.plot(x, dpdf.pmf(xi)/np.max(dpdf.pmf(xi)), label=\"unorm pdf\")\n",
    "plt.plot(x, dpdf.cdf(xi), label=\"cdf\")\n",
    "plt.legend()\n",
    "plt.show()\n",
    "\n",
    "y_ = np.linspace(0,1,32)\n",
    "s = dpdf.ppf(y_)\n",
    "p = dpdf.pmf(s)\n",
    "plt.scatter(s, p/np.max(p))\n",
    "plt.plot(s, y_)\n",
    "plt.show()\n"
   ]
  },
  {
   "cell_type": "code",
   "execution_count": null,
   "metadata": {
    "pycharm": {
     "name": "#%%\n"
    }
   },
   "outputs": [],
   "source": [
    "# sampling importance resampling\n",
    "\n",
    "cnt = 256\n",
    "samples = np.zeros(cnt)\n",
    "pdfs = np.zeros(cnt)\n",
    "\n",
    "for i in range(cnt):\n",
    "    # importance resampling\n",
    "    M = 8\n",
    "    N = 1\n",
    "\n",
    "    u = np.random.rand(M)\n",
    "    u = np.sort(u)\n",
    "\n",
    "    # uniform sampling\n",
    "    xi = u * np.pi * 0.5\n",
    "    pdf_xi = np.pi * 0.5\n",
    "\n",
    "    w = f(xi) / pdf_xi\n",
    "    prob = w / np.sum(w)\n",
    "    j = np.random.choice(w.shape[0], N, p=prob)\n",
    "\n",
    "    samples[i] = xi[j]\n",
    "    pdfs[i] = prob[j]\n",
    "\n",
    "p = samples.argsort()\n",
    "plt.scatter(samples[p], pdfs[p])\n",
    "plt.show()\n"
   ]
  },
  {
   "cell_type": "code",
   "execution_count": null,
   "metadata": {
    "pycharm": {
     "name": "#%%\n"
    }
   },
   "outputs": [],
   "source": []
  }
 ],
 "metadata": {
  "kernelspec": {
   "display_name": "Python 3",
   "language": "python",
   "name": "python3"
  },
  "language_info": {
   "codemirror_mode": {
    "name": "ipython",
    "version": 3
   },
   "file_extension": ".py",
   "mimetype": "text/x-python",
   "name": "python",
   "nbconvert_exporter": "python",
   "pygments_lexer": "ipython3",
   "version": "3.8.5"
  }
 },
 "nbformat": 4,
 "nbformat_minor": 1
}