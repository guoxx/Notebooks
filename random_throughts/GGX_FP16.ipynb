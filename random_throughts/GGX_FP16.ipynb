{
 "cells": [
  {
   "cell_type": "code",
   "execution_count": null,
   "metadata": {},
   "outputs": [],
   "source": [
    "import numpy as np\n",
    "import matplotlib.pyplot as plt"
   ]
  },
  {
   "cell_type": "code",
   "execution_count": null,
   "metadata": {},
   "outputs": [],
   "source": [
    "def NDF_GGX(alpha, NoH, num_type):\n",
    "    alpha = alpha.astype(num_type)\n",
    "    NoH = NoH.astype(num_type)\n",
    "\n",
    "    a2 = alpha * alpha\n",
    "    d = ((NoH * a2 - NoH) * NoH + 1)\n",
    "    PI = np.array(np.pi).astype(num_type)\n",
    "    return a2 / (PI * d * d)\n",
    "\n",
    "def NDF_GGX_alt(alpha,  NoH, num_type):\n",
    "    alpha = alpha.astype(num_type)\n",
    "    NoH = np.minimum(NoH, np.array(0.99951172).astype(np.float16))\n",
    "    NoH = NoH.astype(num_type)\n",
    "\n",
    "    a2 = alpha * alpha\n",
    "    d = ((NoH * a2 - NoH) * NoH + 1)\n",
    "    PI = np.array(np.pi).astype(num_type)\n",
    "    return (alpha / d)**2 / PI\n",
    "                  \n"
   ]
  },
  {
   "cell_type": "code",
   "execution_count": null,
   "metadata": {},
   "outputs": [],
   "source": [
    "min_alpha = np.array(1.0**2)\n",
    "\n",
    "NoH = np.linspace(0.0, 1.0, 64)\n",
    "y_fp16 = NDF_GGX_alt(min_alpha, NoH, np.float16)\n",
    "y_fp32 = NDF_GGX(min_alpha, NoH, np.float32)\n",
    "\n",
    "plt.figure(figsize=(16,16))\n",
    "plt.plot(NoH.astype(np.float16), (y_fp16.astype(np.float16)), marker=\"o\", label=\"FP16\")\n",
    "plt.plot(NoH.astype(np.float32), (y_fp32.astype(np.float32)), marker=\"o\", label=\"FP32\")\n",
    "plt.ylim(np.minimum(np.min(y_fp16), np.min(y_fp32)), np.max(y_fp16))\n",
    "plt.ylim(0, 2)\n",
    "plt.legend()\n",
    "\n"
   ]
  },
  {
   "cell_type": "code",
   "execution_count": null,
   "metadata": {},
   "outputs": [],
   "source": [
    "print(NDF_GGX(np.array(0.089)**2, np.array(1.0), np.float32))\n"
   ]
  },
  {
   "cell_type": "code",
   "execution_count": null,
   "metadata": {},
   "outputs": [],
   "source": [
    "print(np.linspace(0.999, 1, 32).astype(np.float16))\n",
    "print(np.array((1+1022.0/1024)/2))"
   ]
  },
  {
   "cell_type": "code",
   "execution_count": null,
   "metadata": {},
   "outputs": [],
   "source": []
  }
 ],
 "metadata": {
  "language_info": {
   "name": "python"
  }
 },
 "nbformat": 4,
 "nbformat_minor": 1
}
