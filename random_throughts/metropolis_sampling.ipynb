{
 "nbformat": 4,
 "nbformat_minor": 0,
 "metadata": {
  "colab": {
   "name": "metropolis_sampling.ipynb",
   "private_outputs": true,
   "provenance": [
    {
     "file_id": "1CK6bZhQhNNdmqMoyUwlAVDoZlgu5D4iJ",
     "timestamp": 1642437585150
    }
   ],
   "collapsed_sections": [],
   "authorship_tag": "ABX9TyMCNDzrqmqAcLCH2gaH+oA3"
  },
  "kernelspec": {
   "name": "python3",
   "display_name": "Python 3"
  },
  "language_info": {
   "name": "python"
  }
 },
 "cells": [
  {
   "cell_type": "code",
   "execution_count": null,
   "metadata": {
    "id": "XHkD6OR06Ag9",
    "pycharm": {
     "name": "#%%\n"
    }
   },
   "outputs": [],
   "source": [
    "import numpy as np\n",
    "import matplotlib.pyplot as plt"
   ]
  },
  {
   "cell_type": "code",
   "source": [
    "def f(x):\n",
    "    if 0<=x and x<=1:\n",
    "        return (x-0.5)**2\n",
    "    else:\n",
    "        return 0"
   ],
   "metadata": {
    "id": "dInBvmAQ7z8i",
    "pycharm": {
     "name": "#%%\n"
    }
   },
   "execution_count": null,
   "outputs": []
  },
  {
   "cell_type": "code",
   "source": [
    "x = np.linspace(0,1,64)\n",
    "y = np.vectorize(f)(x)\n",
    "plt.plot(x,y)"
   ],
   "metadata": {
    "id": "28AQRozG8WwT",
    "pycharm": {
     "name": "#%%\n"
    }
   },
   "execution_count": null,
   "outputs": []
  },
  {
   "cell_type": "code",
   "source": [
    "def mutate_1(x):\n",
    "    return np.random.rand()\n",
    "\n",
    "def T_1(x, x_p):\n",
    "    return 1\n",
    "\n",
    "def mutate_2(x):\n",
    "    return x + (np.random.rand() - 0.5) * 0.1\n",
    "\n",
    "def T_2(x, x_p):\n",
    "    if np.abs(x - x_p) <= 0.05:\n",
    "        return 1/0.1\n",
    "    else:\n",
    "        return 0"
   ],
   "metadata": {
    "id": "aKcKNntV8Y5a",
    "pycharm": {
     "name": "#%%\n"
    }
   },
   "execution_count": null,
   "outputs": []
  },
  {
   "cell_type": "code",
   "source": [
    "def metropolis_sampling(N, x0, mutate, accept):\n",
    "    records = []\n",
    "\n",
    "    x = x0\n",
    "    for i in range(N):\n",
    "        x_p = mutate(x)\n",
    "        a = accept(x, x_p)\n",
    "\n",
    "        records.append((x, 1-a))\n",
    "        records.append((x_p, a))\n",
    "\n",
    "        u = np.random.rand()\n",
    "        if u < a:\n",
    "            x = x_p\n",
    "    return records\n",
    "\n",
    "np.random.seed(2000)\n",
    "\n",
    "x0 = np.random.rand()\n",
    "w = f(x0)\n",
    "samples = metropolis_sampling(10000, x0, mutate_1, lambda x, x_p: min(1, f(x_p)/f(x)))\n",
    "\n",
    "overall_sum = 0\n",
    "n_bucket = 50\n",
    "discrete_w = np.zeros(n_bucket)\n",
    "for rec in samples:\n",
    "    i = int(rec[0] * n_bucket)\n",
    "    discrete_w[i] += rec[1]\n",
    "    overall_sum += rec[1]\n",
    "\n",
    "plt.plot(np.linspace(0, 1, n_bucket), discrete_w/overall_sum)"
   ],
   "metadata": {
    "id": "_I0GyscgA5j2",
    "pycharm": {
     "name": "#%%\n"
    }
   },
   "execution_count": null,
   "outputs": []
  },
  {
   "cell_type": "code",
   "source": [
    "np.random.seed(1000)\n",
    "\n",
    "x0 = np.random.rand()\n",
    "w = f(x0)\n",
    "\n",
    "def mutate(x):\n",
    "    if np.random.rand() < 0.1:\n",
    "        return mutate_1(x)\n",
    "    else:\n",
    "        return mutate_2(x)\n",
    "\n",
    "samples = metropolis_sampling(10000, x0, mutate, lambda x, x_p: min(1, f(x_p)/f(x)))\n",
    "\n",
    "overall_sum = 0\n",
    "n_bucket = 50\n",
    "discrete_w = np.zeros(n_bucket)\n",
    "for rec in samples:\n",
    "    i = min(int(rec[0] * n_bucket), n_bucket-1)\n",
    "    discrete_w[i] += rec[1]\n",
    "    overall_sum += rec[1]\n",
    "\n",
    "plt.plot(np.linspace(0, 1, n_bucket), discrete_w/overall_sum)"
   ],
   "metadata": {
    "id": "uPi4A-8MgKG4",
    "pycharm": {
     "name": "#%%\n"
    }
   },
   "execution_count": null,
   "outputs": []
  },
  {
   "cell_type": "code",
   "source": [],
   "metadata": {
    "id": "9BjOtuVp30Q4",
    "pycharm": {
     "name": "#%%\n"
    }
   },
   "execution_count": null,
   "outputs": []
  }
 ]
}