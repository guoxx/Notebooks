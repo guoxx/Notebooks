{
 "cells": [
  {
   "cell_type": "markdown",
   "metadata": {},
   "source": [
    "## References\n",
    "* [The filtered and culled Visibility Buffer](http://www.conffx.com/Visibility_Buffer_GDCE.pdf)\n",
    "* [GeometryFX 1.2 – Cluster Culling](https://gpuopen.com/geometryfx-1-2-cluster-culling/)\n",
    "* [GPU-Driven Rendering Pipelines](http://advances.realtimerendering.com/s2015/aaltonenhaar_siggraph2015_combined_final_footer_220dpi.pdf)\n",
    "* [Beyond3D: GPU-driven rendering (SIGGRAPH 2015 follow up)](https://forum.beyond3d.com/threads/gpu-driven-rendering-siggraph-2015-follow-up.57240/)\n",
    "* [Optimizing the Graphics Pipeline with Compute](https://www.gdcvault.com/play/1023109/Optimizing-the-Graphics-Pipeline-With)"
   ]
  },
  {
   "cell_type": "code",
   "execution_count": null,
   "metadata": {
    "collapsed": true
   },
   "outputs": [],
   "source": []
  }
 ],
 "metadata": {
  "kernelspec": {
   "display_name": "Python 3",
   "language": "python",
   "name": "python3"
  },
  "language_info": {
   "codemirror_mode": {
    "name": "ipython",
    "version": 3
   },
   "file_extension": ".py",
   "mimetype": "text/x-python",
   "name": "python",
   "nbconvert_exporter": "python",
   "pygments_lexer": "ipython3",
   "version": "3.6.0"
  }
 },
 "nbformat": 4,
 "nbformat_minor": 2
}
