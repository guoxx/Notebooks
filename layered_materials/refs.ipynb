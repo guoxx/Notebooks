{
 "cells": [
  {
   "cell_type": "markdown",
   "metadata": {},
   "source": [
    "## References\n",
    "\n",
    "* [Practical Multilayered Materials in Call of Duty: Infinite Warfare](http://blog.selfshadow.com/publications/s2017-shading-course/drobot/s2017_pbs_multilayered.pdf)\n",
    "* [Physically-Based Materials: Where Are We?](http://openproblems.realtimerendering.com/s2017/02-PhysicallyBasedMaterialWhereAreWe.pdf)\n",
    "* [Arbitrarily Layered Micro-Facet Surfaces](https://www.cg.tuwien.ac.at/research/publications/2007/weidlich_2007_almfs/weidlich_2007_almfs-paper.pdf)\n",
    "* [Layered Materials in Real-Time Rendering](http://www.oskee.wz.cz/stranka/layered_model.html)\n",
    "* [layerlab: A Computational Toolbox for Layered Materials](https://rgl.epfl.ch/publications/Jakob2015Layerlab)\n",
    "* [A Comprehensive Framework for Rendering Layered Materials](https://rgl.epfl.ch/publications/Jakob2014Comprehensive)"
   ]
  },
  {
   "cell_type": "markdown",
   "metadata": {},
   "source": []
  }
 ],
 "metadata": {
  "kernelspec": {
   "display_name": "Python 3",
   "language": "python",
   "name": "python3"
  },
  "language_info": {
   "codemirror_mode": {
    "name": "ipython",
    "version": 3
   },
   "file_extension": ".py",
   "mimetype": "text/x-python",
   "name": "python",
   "nbconvert_exporter": "python",
   "pygments_lexer": "ipython3",
   "version": "3.6.0"
  }
 },
 "nbformat": 4,
 "nbformat_minor": 2
}
