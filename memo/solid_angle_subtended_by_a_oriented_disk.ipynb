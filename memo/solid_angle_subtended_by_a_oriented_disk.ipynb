{
 "cells": [
  {
   "cell_type": "markdown",
   "metadata": {},
   "source": [
    "## Solid angle subtended by a oriented disk\n",
    "\n",
    "If you take an object and project it radially outward onto the surface of a sphere the area of that projection divided by the square of the sphere's radius is the solid angle. That's the general definition. In this case, because the disk is oriented so that its surface normal is parallel to the radial direction the easiest sphere to choose for measuring solid angle is one that contains the circle. The radius of that sphere will then be:\n",
    "$$ R_{\\mathrm{sphere}} = \\sqrt{r_{\\mathrm{circle}}^2 + d^2},$$\n",
    "where $d$ is the distance to the circle. \n",
    "\n",
    "The area from the sphere that the circle projects onto can be found by choosing polar coordinates, with the center of the polar angle ($\\theta=0$) corresponding with the circle's axis. In those coordinates the area can be found with the double integral:\n",
    "$$\\begin{align}\n",
    "A &= \\int_0^{2\\pi} \\operatorname{d}\\phi \\int_0^{\\tan^{-1}(r_{\\mathrm{circle}} / d)} \\operatorname{d}\\theta\\ R_{\\mathrm{sphere}}^2 \\sin \\theta \\\\\n",
    "& = 2\\pi \\left(r_{\\mathrm{circle}}^2 + d^2\\right) \\cdot \\left[-\\cos \\theta \\vphantom{\\int}\\right]_{\\theta=0}^{\\tan^{-1}(r_{\\mathrm{circle}} / d)} \\\\\n",
    "& = 2\\pi \\left(r_{\\mathrm{circle}}^2 + d^2\\right) \\cdot \\left(1 - \\cos\\left[\\tan^{-1}\\left(\\frac{r_{\\mathrm{circle}}}{ d}\\right)\\right]\\right) \\\\\n",
    "& = 2\\pi \\left(r_{\\mathrm{circle}}^2 + d^2\\right) \\cdot \\left(1 - \\frac{d}{\\sqrt{r_{\\mathrm{circle}}^2 + d^2}}\\right) \n",
    "\\end{align}$$\n",
    "This gives a solid angle of:\n",
    "$$\\Omega = 2\\pi \\cdot \\left(1 - \\frac{d}{\\sqrt{r_{\\mathrm{circle}}^2 + d^2}}\\right).$$\n",
    "\n",
    "Confirm for yourself that this obeys the correct limits ($d \\rightarrow \\infty \\Rightarrow \\Omega \\rightarrow 0$ and $r_{\\mathrm{circle}} \\rightarrow \\infty \\Rightarrow \\Omega \\rightarrow 2\\pi$). Also be careful of numerical issues when actually doing calculations with this formula because it suffers from a similar <A HREF=\"https://en.wikipedia.org/wiki/Loss_of_significance#Instability_of_the_quadratic_equation\">numerical instability to the quadratic formula</A> when $d\\gg r_{\\mathrm{circle}}$."
   ]
  },
  {
   "cell_type": "code",
   "execution_count": null,
   "metadata": {},
   "outputs": [],
   "source": []
  }
 ],
 "metadata": {
  "kernelspec": {
   "display_name": "Python 3",
   "language": "python",
   "name": "python3"
  },
  "language_info": {
   "codemirror_mode": {
    "name": "ipython",
    "version": 3
   },
   "file_extension": ".py",
   "mimetype": "text/x-python",
   "name": "python",
   "nbconvert_exporter": "python",
   "pygments_lexer": "ipython3",
   "version": "3.6.3"
  }
 },
 "nbformat": 4,
 "nbformat_minor": 2
}
