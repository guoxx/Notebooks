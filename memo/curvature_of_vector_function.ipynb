{
 "cells": [
  {
   "cell_type": "markdown",
   "metadata": {},
   "source": [
    "## Curvature of vector function"
   ]
  },
  {
   "cell_type": "markdown",
   "metadata": {},
   "source": [
    "As shown in http://tutorial.math.lamar.edu/Classes/CalcIII/Curvature.aspx, curvature of a vector function is defined as:\n",
    "$$k=\\left| {\\frac {\\operatorname{d} {\\vec{T}} } {\\operatorname{d} s}} \\right|$$\n",
    "\n",
    "Where $\\vec{T}$ is the unit tangent vector, and $s$ is the arc length."
   ]
  },
  {
   "cell_type": "markdown",
   "metadata": {},
   "source": [
    "There are two alternate forms, one of them is\n",
    "$$\n",
    "k = \\frac {\\Vert {\\vec T'(t)} \\Vert} {\\Vert r'(t) \\Vert}\n",
    "$$\n",
    "\n",
    "It's easy to derive this form directly from the definition of curvature."
   ]
  },
  {
   "cell_type": "markdown",
   "metadata": {},
   "source": [
    "Another form is\n",
    "$$\n",
    "k = \\frac {\\Vert {\\vec t'(t)} \\times {\\vec t''(t)} \\Vert} {{\\Vert \\vec r'(t) \\Vert}^3}\n",
    "$$\n",
    "\n",
    "Proof:  \n",
    "From $\\vec T = \\frac {\\vec r'(t)} {\\Vert \\vec r'(t) \\Vert}$, and $\\frac {\\operatorname{d} s} {\\operatorname{d} t} = \\Vert \\vec r'(t) \\Vert$ we can get that \n",
    "$$\n",
    "\\vec r'(t) = {\\frac {\\operatorname{d} s} {\\operatorname{d} t}} {\\vec T} \\\\\n",
    "\\vec r''(t) = {\\frac {\\operatorname{d} {\\frac {\\operatorname{d} s} {\\operatorname{d} t}}} {\\operatorname{d} t}} {\\vec T} + {\\frac {\\operatorname{d} s} {\\operatorname{d} t}} {\\vec T'} \\\\\n",
    "$$\n",
    "\n",
    "Because $\\vec T \\times \\vec T = \\vec 0$ and $\\Vert \\vec T \\Vert=1$, so that we have\n",
    "$$\n",
    "{\\vec r'(t)} \\times {\\vec r''(t)} = ({\\frac {\\operatorname{d} s} {\\operatorname{d} t}})^2 {\\vec T} \\times {\\vec T'} \\\\\n",
    "\\Vert {\\vec r'(t)} \\times {\\vec r''(t)} \\Vert = ({\\frac {\\operatorname{d} s} {\\operatorname{d} t}})^2 {\\Vert {\\vec T'} \\Vert}\n",
    "$$\n",
    "\n",
    "From $s = \\int {\\Vert \\vec r'(t) \\Vert} {\\operatorname{d} t}$, plug it into the first form, then we get second form."
   ]
  },
  {
   "cell_type": "code",
   "execution_count": null,
   "metadata": {},
   "outputs": [],
   "source": []
  }
 ],
 "metadata": {
  "kernelspec": {
   "display_name": "Python 3",
   "language": "python",
   "name": "python3"
  },
  "language_info": {
   "codemirror_mode": {
    "name": "ipython",
    "version": 3
   },
   "file_extension": ".py",
   "mimetype": "text/x-python",
   "name": "python",
   "nbconvert_exporter": "python",
   "pygments_lexer": "ipython3",
   "version": "3.6.5"
  }
 },
 "nbformat": 4,
 "nbformat_minor": 2
}
