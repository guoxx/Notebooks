{
 "cells": [
  {
   "cell_type": "markdown",
   "metadata": {},
   "source": [
    "# Tangent space derivation\n",
    "\n",
    "This note is aim to log the mathematics for tangent space derivation for arbitrary mesh.\n",
    "* [tangent space normal mapping](https://github.com/ssloy/tinyrenderer/wiki/Lesson-6bis:-tangent-space-normal-mapping)  \n",
    "* [Ending The Confusion About Mirrored Normal Mapping](https://forum.unity.com/threads/ending-the-confusion-about-mirrored-normal-mapping.409698/#post-2671798)  \n",
    "* [Computing Tangent Space Basis Vectors for an Arbitrary Mesh](http://www.terathon.com/code/tangent.html)"
   ]
  },
  {
   "cell_type": "markdown",
   "metadata": {},
   "source": [
    "# Normal map blending\n",
    "There is a very interesting post about normal blending.  \n",
    "[Blending in Detail](https://blog.selfshadow.com/publications/blending-in-detail/)\n"
   ]
  },
  {
   "cell_type": "code",
   "execution_count": null,
   "metadata": {},
   "outputs": [],
   "source": []
  }
 ],
 "metadata": {
  "kernelspec": {
   "display_name": "Python 3",
   "language": "python",
   "name": "python3"
  },
  "language_info": {
   "codemirror_mode": {
    "name": "ipython",
    "version": 3
   },
   "file_extension": ".py",
   "mimetype": "text/x-python",
   "name": "python",
   "nbconvert_exporter": "python",
   "pygments_lexer": "ipython3",
   "version": "3.6.5"
  }
 },
 "nbformat": 4,
 "nbformat_minor": 2
}
