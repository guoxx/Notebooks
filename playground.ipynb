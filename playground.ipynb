{
 "cells": [
  {
   "cell_type": "code",
   "execution_count": null,
   "metadata": {},
   "outputs": [],
   "source": [
    "import numpy as np\n",
    "import matplotlib.pyplot as plt\n",
    "import ipywidgets as widgets\n",
    "import scipy.integrate as integrate\n",
    "import ipyvolume as ipv\n",
    "import importlib\n",
    "\n",
    "import os\n",
    "import sys\n",
    "sys.path.insert(0, os.path.abspath('pycode'))"
   ]
  },
  {
   "cell_type": "code",
   "execution_count": null,
   "metadata": {},
   "outputs": [],
   "source": [
    "importlib.reload(ipv)"
   ]
  },
  {
   "cell_type": "code",
   "execution_count": null,
   "metadata": {},
   "outputs": [],
   "source": [
    "%matplotlib widget\n",
    "\n",
    "fig = plt.figure()\n",
    "ax = fig.add_subplot(111)\n",
    "\n",
    "def noise(x):\n",
    "    return np.sin(x)\n",
    "\n",
    "def fbm(octaves, lacunarity, gain, x):\n",
    "    # initial values\n",
    "    amplitude = 0.5;\n",
    "    frequency = 1.;\n",
    "\n",
    "    #  loop of octaves\n",
    "    y = np.zeros_like(x)\n",
    "    for i in range(int(octaves)):\n",
    "        y += amplitude * noise(frequency*x);\n",
    "        frequency *= lacunarity;\n",
    "        amplitude *= gain;\n",
    "    return y\n",
    "\n",
    "def plot_fbm(octaves, lacunarity, gain):\n",
    "    x = np.arange(-10, 10, 0.1)\n",
    "    y = fbm(octaves, lacunarity, gain, x)\n",
    "    ax.clear()\n",
    "    ax.plot(x, y)\n",
    "\n",
    "widgets.interact(plot_fbm, octaves=(1, 10, 1.0), lacunarity=(0, 10.0, 0.1), gain=(0, 2, 0.1))"
   ]
  },
  {
   "cell_type": "code",
   "execution_count": null,
   "metadata": {},
   "outputs": [],
   "source": [
    "import os\n",
    "import sys\n",
    "sys.path.insert(0, os.path.abspath('pycode'))\n",
    "\n",
    "import spherical as sph\n",
    "import BRDF as BRDF\n",
    "\n",
    "import importlib\n",
    "importlib.reload(sph)\n",
    "importlib.reload(BRDF)"
   ]
  },
  {
   "cell_type": "code",
   "execution_count": null,
   "metadata": {},
   "outputs": [],
   "source": [
    "alpha = np.arange(BRDF.MIN_GGX_ALPHA, 1, 0.01)\n",
    "err = np.array([BRDF.NDF_NormalizationTest(BRDF.NDF_GGX, a, num_samples=512) for a in alpha])"
   ]
  },
  {
   "cell_type": "code",
   "execution_count": null,
   "metadata": {},
   "outputs": [],
   "source": [
    "plt.plot(alpha, np.abs(err))\n",
    "plt.ylim(0, 1)"
   ]
  },
  {
   "cell_type": "code",
   "execution_count": null,
   "metadata": {},
   "outputs": [],
   "source": [
    "import numpy as np\n",
    "import os\n",
    "import sys\n",
    "sys.path.insert(0, os.path.abspath('pycode'))\n",
    "\n",
    "import spherical as sph\n",
    "import BRDF as BRDF\n",
    "\n",
    "import importlib\n",
    "importlib.reload(sph)\n",
    "importlib.reload(BRDF)\n",
    "\n",
    "\n",
    "alpha = np.arange(BRDF.MIN_GGX_ALPHA, 1, 0.2)\n",
    "theta = np.arange(0, np.pi * 0.5, 0.4)\n",
    "alpha, theta = np.meshgrid(alpha, theta)\n",
    "\n",
    "err = np.zeros_like(alpha)\n",
    "for i in range(alpha.shape[0]):\n",
    "    for j in range(alpha.shape[1]):\n",
    "        alpha_ = alpha[i][j]\n",
    "        theta_ = theta[i][j]\n",
    "        Wo = sph.spherical_dir(theta_, 0)\n",
    "        cosThetaO = Wo[2]\n",
    "        err[i][j] = BRDF.maskingFuncProjectedAreaTest(BRDF.NDF_GGX, BRDF.smithMaskingFunction, alpha_, Wo, num_samples=2048)/cosThetaO\n",
    "        print(alpha_, theta_, err[i][j])\n"
   ]
  },
  {
   "cell_type": "code",
   "execution_count": null,
   "metadata": {},
   "outputs": [],
   "source": [
    "import numpy as np\n",
    "import os\n",
    "import sys\n",
    "sys.path.insert(0, os.path.abspath('pycode'))\n",
    "\n",
    "import spherical as sph\n",
    "import BRDF as BRDF\n",
    "\n",
    "import importlib\n",
    "importlib.reload(sph)\n",
    "importlib.reload(BRDF)\n",
    "\n",
    "\n",
    "alpha = np.arange(BRDF.MIN_GGX_ALPHA, 1, 0.01)\n",
    "theta = np.arange(0, np.pi * 0.5, 0.4)\n",
    "alpha, theta = np.meshgrid(alpha, theta)\n",
    "\n",
    "err = np.zeros_like(alpha)\n",
    "for i in range(alpha.shape[0]):\n",
    "    for j in range(alpha.shape[1]):\n",
    "        alpha_ = alpha[i][j]\n",
    "        theta_ = theta[i][j]\n",
    "        Wo = sph.spherical_dir(theta_, 0)\n",
    "        err[i][j] = BRDF.whiteFurnaceTest(BRDF.NDF_GGX, BRDF.smithMaskingFunction, alpha_, Wo, num_samples=1024)\n",
    "\n"
   ]
  },
  {
   "cell_type": "code",
   "execution_count": null,
   "metadata": {},
   "outputs": [],
   "source": [
    "ipv.clear()\n",
    "ipv.plot_mesh(alpha, theta, np.abs(err))\n",
    "ipv.show()\n",
    "\n",
    "!export MKL_DEBUG_CPU_TYPE=5"
   ]
  },
  {
   "cell_type": "code",
   "execution_count": null,
   "metadata": {},
   "outputs": [],
   "source": [
    "import sampling as sampling\n",
    "import spherical as sph\n",
    "import BRDF as BRDF\n",
    "import chi2 as chi2\n",
    "\n",
    "import importlib\n",
    "importlib.reload(sampling)\n",
    "importlib.reload(sph)\n",
    "importlib.reload(BRDF)\n",
    "importlib.reload(chi2)\n",
    "\n",
    "samples_ = np.random.uniform(size =[2,1024*32])\n",
    "ggx = sampling.NormalDistributionGGX()\n",
    "alpha = 0.05\n",
    "Wh = ggx.sample(alpha, samples_)\n",
    "pdf = ggx.pdf(alpha, Wh)\n",
    "D = ggx.eval(alpha, Wh)\n",
    "\n",
    "def my_sample(sample):\n",
    "    return ggx.sample(alpha, sample)\n",
    "    return square_to_cosine_hemisphere(sample)\n",
    "\n",
    "def my_pdf(p):\n",
    "    return ggx.pdf(alpha, p)\n",
    "    return square_to_cosine_hemisphere_pdf(p)\n",
    "\n",
    "chi2Test = chi2.ChiSquareTest(\n",
    "    domain=chi2.SphericalDomain(),\n",
    "    sample_func=my_sample,\n",
    "    pdf_func=my_pdf,\n",
    "    sample_dim=2,\n",
    "    sample_count=1000000,\n",
    "    ires=64\n",
    ")\n",
    "\n",
    "chi2Test.tabulate_histogram()\n",
    "chi2Test.tabulate_pdf(simpson_rule=True)\n",
    "chi2Test.run()\n",
    "\n",
    "fig, ax = plt.subplots(2)\n",
    "fig.set_figwidth(8)\n",
    "fig.set_figheight(8)\n",
    "vmax = np.maximum(np.amax(chi2Test.histogram), np.amax(chi2Test.pdf))\n",
    "# vmax *= 0.96\n",
    "ax[0].set_title('Observed frequencies')\n",
    "ax[0].imshow(chi2Test.histogram, cmap='jet', vmax=vmax)\n",
    "ax[1].set_title('Expected frequencies')\n",
    "ax[1].imshow(chi2Test.pdf, cmap='jet', vmax=vmax)\n",
    "# print(chi2Test.histogram.shape)\n",
    "\n",
    "# vmax = np.amax(chi2Test.histogram)\n",
    "# vmax = np.maximum(vmax, np.amax(chi2Test.pdf))\n",
    "# plt.imshow(chi2Test.histogram, cmap='jet', vmax=vmax)\n",
    "# print(chi2Test.histogram.shape)\n",
    "# # print(chi2Test.histogram.shape)\n",
    "# # chi2.run()\n",
    "# # chi2._dump_tables()"
   ]
  },
  {
   "cell_type": "code",
   "execution_count": null,
   "metadata": {},
   "outputs": [],
   "source": [
    "print(vmax)\n",
    "print(np.amax(chi2Test.histogram))\n",
    "print(np.amax(chi2Test.pdf))"
   ]
  },
  {
   "cell_type": "code",
   "execution_count": null,
   "metadata": {},
   "outputs": [],
   "source": [
    "from scipy.stats import chisquare\n",
    "\n",
    "\n",
    "chisquare(np.maximum(chi2Test.histogram, 0.0001).flatten(), f_exp=np.maximum(chi2Test.pdf, 0.0001).flatten())"
   ]
  },
  {
   "cell_type": "code",
   "execution_count": null,
   "metadata": {},
   "outputs": [],
   "source": [
    "x = np.arange(10)\n",
    "condlist = [x<3, x>5]\n",
    "print(condlist)\n",
    "choicelist = [x, x**2]\n",
    "np.select(condlist, choicelist)"
   ]
  },
  {
   "cell_type": "code",
   "execution_count": null,
   "metadata": {},
   "outputs": [],
   "source": [
    "import scipy\n",
    "scipy.special.gammainc?"
   ]
  },
  {
   "cell_type": "code",
   "execution_count": null,
   "metadata": {},
   "outputs": [],
   "source": []
  }
 ],
 "metadata": {
  "kernelspec": {
   "display_name": "Python 3",
   "language": "python",
   "name": "python3"
  },
  "language_info": {
   "codemirror_mode": {
    "name": "ipython",
    "version": 3
   },
   "file_extension": ".py",
   "mimetype": "text/x-python",
   "name": "python",
   "nbconvert_exporter": "python",
   "pygments_lexer": "ipython3",
   "version": "3.7.6"
  },
  "widgets": {
   "state": {
    "e3ac28d11d0046da932b8ffa76301cd8": {
     "views": [
      {
       "cell_index": 3
      }
     ]
    }
   },
   "version": "1.2.0"
  }
 },
 "nbformat": 4,
 "nbformat_minor": 4
}
