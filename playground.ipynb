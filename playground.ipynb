{
 "cells": [
  {
   "cell_type": "code",
   "execution_count": null,
   "metadata": {},
   "outputs": [],
   "source": [
    "import numpy as np\n",
    "import matplotlib.pyplot as plt\n",
    "import ipywidgets as widgets\n",
    "import scipy.integrate as integrate\n",
    "import ipyvolume as ipv\n",
    "import importlib"
   ]
  },
  {
   "cell_type": "code",
   "execution_count": null,
   "metadata": {},
   "outputs": [],
   "source": [
    "importlib.reload(ipv)"
   ]
  },
  {
   "cell_type": "code",
   "execution_count": null,
   "metadata": {},
   "outputs": [],
   "source": [
    "%matplotlib widget\n",
    "\n",
    "fig = plt.figure()\n",
    "ax = fig.add_subplot(111)\n",
    "\n",
    "def noise(x):\n",
    "    return np.sin(x)\n",
    "\n",
    "def fbm(octaves, lacunarity, gain, x):\n",
    "    # initial values\n",
    "    amplitude = 0.5;\n",
    "    frequency = 1.;\n",
    "\n",
    "    #  loop of octaves\n",
    "    y = np.zeros_like(x)\n",
    "    for i in range(int(octaves)):\n",
    "        y += amplitude * noise(frequency*x);\n",
    "        frequency *= lacunarity;\n",
    "        amplitude *= gain;\n",
    "    return y\n",
    "\n",
    "def plot_fbm(octaves, lacunarity, gain):\n",
    "    x = np.arange(-10, 10, 0.1)\n",
    "    y = fbm(octaves, lacunarity, gain, x)\n",
    "    ax.clear()\n",
    "    ax.plot(x, y)\n",
    "\n",
    "widgets.interact(plot_fbm, octaves=(1, 10, 1.0), lacunarity=(0, 10.0, 0.1), gain=(0, 2, 0.1))"
   ]
  },
  {
   "cell_type": "code",
   "execution_count": null,
   "metadata": {},
   "outputs": [],
   "source": []
  }
 ],
 "metadata": {
  "kernelspec": {
   "display_name": "Python 3",
   "language": "python",
   "name": "python3"
  },
  "language_info": {
   "codemirror_mode": {
    "name": "ipython",
    "version": 3
   },
   "file_extension": ".py",
   "mimetype": "text/x-python",
   "name": "python",
   "nbconvert_exporter": "python",
   "pygments_lexer": "ipython3",
   "version": "3.6.5"
  },
  "widgets": {
   "state": {
    "e3ac28d11d0046da932b8ffa76301cd8": {
     "views": [
      {
       "cell_index": 3
      }
     ]
    }
   },
   "version": "1.2.0"
  }
 },
 "nbformat": 4,
 "nbformat_minor": 2
}
