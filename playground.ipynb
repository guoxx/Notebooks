{
 "cells": [
  {
   "cell_type": "code",
   "execution_count": null,
   "metadata": {},
   "outputs": [],
   "source": [
    "import numpy as np\n",
    "import matplotlib.pyplot as plt\n",
    "import ipywidgets as widgets\n",
    "import scipy.integrate as integrate\n",
    "import ipyvolume as ipv\n",
    "import importlib"
   ]
  },
  {
   "cell_type": "code",
   "execution_count": null,
   "metadata": {},
   "outputs": [],
   "source": [
    "importlib.reload(ipv)"
   ]
  },
  {
   "cell_type": "code",
   "execution_count": null,
   "metadata": {},
   "outputs": [],
   "source": [
    "%matplotlib widget\n",
    "\n",
    "fig = plt.figure()\n",
    "ax = fig.add_subplot(111)\n",
    "\n",
    "def noise(x):\n",
    "    return np.sin(x)\n",
    "\n",
    "def fbm(octaves, lacunarity, gain, x):\n",
    "    # initial values\n",
    "    amplitude = 0.5;\n",
    "    frequency = 1.;\n",
    "\n",
    "    #  loop of octaves\n",
    "    y = np.zeros_like(x)\n",
    "    for i in range(int(octaves)):\n",
    "        y += amplitude * noise(frequency*x);\n",
    "        frequency *= lacunarity;\n",
    "        amplitude *= gain;\n",
    "    return y\n",
    "\n",
    "def plot_fbm(octaves, lacunarity, gain):\n",
    "    x = np.arange(-10, 10, 0.1)\n",
    "    y = fbm(octaves, lacunarity, gain, x)\n",
    "    ax.clear()\n",
    "    ax.plot(x, y)\n",
    "\n",
    "widgets.interact(plot_fbm, octaves=(1, 10, 1.0), lacunarity=(0, 10.0, 0.1), gain=(0, 2, 0.1))"
   ]
  },
  {
   "cell_type": "code",
   "execution_count": null,
   "metadata": {},
   "outputs": [],
   "source": [
    "np.pi = 3.14\n",
    "print(np.pi)"
   ]
  },
  {
   "cell_type": "code",
   "execution_count": null,
   "metadata": {},
   "outputs": [],
   "source": [
    "2 ** 5"
   ]
  },
  {
   "cell_type": "code",
   "execution_count": null,
   "metadata": {},
   "outputs": [],
   "source": [
    "import os\n",
    "import sys\n",
    "sys.path.insert(0, os.path.abspath('pycode'))\n",
    "\n",
    "import spherical as sph\n",
    "import BRDF as BRDF\n",
    "\n",
    "import importlib\n",
    "importlib.reload(sph)\n",
    "importlib.reload(BRDF)"
   ]
  },
  {
   "cell_type": "code",
   "execution_count": null,
   "metadata": {},
   "outputs": [],
   "source": [
    "alpha = np.arange(BRDF.MIN_GGX_ALPHA, 1, 0.01)\n",
    "err = np.array([BRDF.NDF_NormalizationTest(BRDF.NDF_GGX, a, num_samples=512) for a in alpha])"
   ]
  },
  {
   "cell_type": "code",
   "execution_count": null,
   "metadata": {},
   "outputs": [],
   "source": [
    "plt.plot(alpha, np.abs(err))\n",
    "plt.ylim(0, 1)"
   ]
  },
  {
   "cell_type": "code",
   "execution_count": null,
   "metadata": {},
   "outputs": [],
   "source": [
    "import os\n",
    "import sys\n",
    "sys.path.insert(0, os.path.abspath('pycode'))\n",
    "\n",
    "import spherical as sph\n",
    "import BRDF as BRDF\n",
    "\n",
    "import importlib\n",
    "importlib.reload(sph)\n",
    "importlib.reload(BRDF)\n",
    "\n",
    "\n",
    "alpha = np.arange(BRDF.MIN_GGX_ALPHA, 1, 0.2)\n",
    "theta = np.arange(0, np.pi * 0.5, 0.4)\n",
    "alpha, theta = np.meshgrid(alpha, theta)\n",
    "\n",
    "err = np.zeros_like(alpha)\n",
    "for i in range(alpha.shape[0]):\n",
    "    for j in range(alpha.shape[1]):\n",
    "        alpha_ = alpha[i][j]\n",
    "        theta_ = theta[i][j]\n",
    "        Wo = sph.spherical_dir(theta_, 0)\n",
    "        cosThetaO = Wo[2]\n",
    "        err[i][j] = BRDF.maskingFuncProjectedAreaTest(BRDF.NDF_GGX, BRDF.smithMaskingFunction, alpha_, Wo, num_samples=2048)/cosThetaO\n",
    "        print(alpha_, theta_, err[i][j])\n"
   ]
  },
  {
   "cell_type": "code",
   "execution_count": null,
   "metadata": {},
   "outputs": [],
   "source": [
    "ipv.clear()\n",
    "ipv.plot_mesh(alpha, theta, np.abs(err))\n",
    "ipv.show()"
   ]
  },
  {
   "cell_type": "code",
   "execution_count": null,
   "metadata": {},
   "outputs": [],
   "source": []
  }
 ],
 "metadata": {
  "kernelspec": {
   "display_name": "Python 3",
   "language": "python",
   "name": "python3"
  },
  "language_info": {
   "codemirror_mode": {
    "name": "ipython",
    "version": 3
   },
   "file_extension": ".py",
   "mimetype": "text/x-python",
   "name": "python",
   "nbconvert_exporter": "python",
   "pygments_lexer": "ipython3",
   "version": "3.7.6"
  },
  "widgets": {
   "state": {
    "e3ac28d11d0046da932b8ffa76301cd8": {
     "views": [
      {
       "cell_index": 3
      }
     ]
    }
   },
   "version": "1.2.0"
  }
 },
 "nbformat": 4,
 "nbformat_minor": 4
}
